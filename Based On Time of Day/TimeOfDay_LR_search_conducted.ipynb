{
  "cells": [
    {
      "cell_type": "markdown",
      "metadata": {
        "id": "FsHTMCdXO-X5"
      },
      "source": [
        "This notebook contains code for running logistic regression with & without violation type as variables, and filtering to speeding only records. The target variable is **search conducted**."
      ]
    },
    {
      "cell_type": "markdown",
      "metadata": {
        "id": "NkWFKrHFPOqP"
      },
      "source": [
        "> *Import Libraries and Mount Drive*\n",
        "\n",
        "\n"
      ]
    },
    {
      "cell_type": "code",
      "execution_count": null,
      "metadata": {
        "id": "h9K3lsaaO4tm"
      },
      "outputs": [],
      "source": [
        "import pandas as pd\n",
        "import numpy as np\n",
        "import matplotlib.pyplot as plt\n",
        "import seaborn as sns\n",
        "import statsmodels.api as sm\n",
        "import os\n",
        "import warnings\n",
        "warnings.filterwarnings(\"ignore\")"
      ]
    },
    {
      "cell_type": "code",
      "execution_count": null,
      "metadata": {
        "colab": {
          "base_uri": "https://localhost:8080/"
        },
        "id": "6Q_3fvdqPGfK",
        "outputId": "0d84c536-36f7-4c70-8b88-9ec8a890fc9b"
      },
      "outputs": [
        {
          "name": "stdout",
          "output_type": "stream",
          "text": [
            "Mounted at /content/drive\n"
          ]
        }
      ],
      "source": [
        "from google.colab import drive\n",
        "drive.mount('/content/drive')"
      ]
    },
    {
      "cell_type": "markdown",
      "metadata": {
        "id": "TcoRNro_WoEP"
      },
      "source": [
        "> *Data Format: split data file based on year, one parquet file per year* -> **RUN THIS ONLY ONCE**"
      ]
    },
    {
      "cell_type": "code",
      "execution_count": null,
      "metadata": {
        "id": "wMan1uz5Wp2V"
      },
      "outputs": [],
      "source": [
        "# # SPECIFY DATA PATH HERE\n",
        "# path = '/content/drive/MyDrive/traffic_stop/traffic.parquet'\n",
        "# data = pd.read_parquet(path, engine = 'pyarrow')"
      ]
    },
    {
      "cell_type": "code",
      "execution_count": null,
      "metadata": {
        "id": "6RUDsUnyWsNl"
      },
      "outputs": [],
      "source": [
        "# data['year'] = pd.DatetimeIndex(data['date']).year\n",
        "# year_start= min(data['year'].unique())\n",
        "# year_end= max(data['year'].unique())\n",
        "# #year_start = 2006\n",
        "# #year_end = 2017\n",
        "# years = list(range(year_start, year_end + 1))\n",
        "# # split data file based on year\n",
        "# for year in years:\n",
        "#   data_write = data[data['year'] == year]\n",
        "#   file_name = 'traffic_' + str(year)\n",
        "#   # SPECIFY DATA PATH FOR YEARLY DATA FILE HERE\n",
        "#   year_path = '/content/drive/MyDrive/traffic_stop/year_data/' + file_name + '.parquet'\n",
        "#   data_write.to_parquet(year_path, engine='pyarrow')"
      ]
    },
    {
      "cell_type": "markdown",
      "metadata": {
        "id": "NRmK005GPaje"
      },
      "source": [
        "> *Sanity Check and Get Parameters*"
      ]
    },
    {
      "cell_type": "code",
      "execution_count": null,
      "metadata": {
        "id": "AL0XOtl_PlZu"
      },
      "outputs": [],
      "source": [
        "# columns we need in the analysis\n",
        "keep_col = [\n",
        "            'county_name', \n",
        "            'subject_race',\n",
        "            'subject_sex',\n",
        "            'violation', \n",
        "            'search_conducted'\n",
        "            ]\n",
        "\n",
        "def sanity_check(year):\n",
        "  df = pd.read_parquet(path = '/content/drive/MyDrive/traffic_stop/year_data_daylight/' + str(year) + '.parquet')\n",
        "\n",
        "  # print columns, check if the columns we need are in the data\n",
        "  print('****************************')\n",
        "  print('Columns in the data: ')\n",
        "  print(df.columns)\n",
        "  print('****************************')\n",
        "  print(\"The shape of the entire dataframe:\", df.shape)\n",
        "  print(\"The shape of the dataframe with the necessary columns:\", df[keep_col].shape)\n",
        "  # check missing value proportions\n",
        "  print('Missing value proportions for columns that we need:')\n",
        "  percent_missing = df[keep_col].isnull().sum() * 100 / len(df)\n",
        "  #missing_value_df = pd.DataFrame({'column_name': df[keep_col].columns,\n",
        "                                 #'percent_missing': percent_missing})\n",
        "  print(percent_missing)\n",
        "  print('****************************')\n",
        "  # check distribution of citation, race, and sex: make sure it is a relatively representative sample\n",
        "  print(df['citation_issued'].value_counts(dropna = False))\n",
        "  print('****************************')\n",
        "  print(df['subject_sex'].value_counts(dropna = False))\n",
        "  print('****************************')\n",
        "  print(df['subject_race'].value_counts(dropna = False))\n",
        "  print('****************************')\n",
        "  print(df['sunset'].value_counts(dropna = False))\n",
        "  print('****************************')\n",
        "  print(df['sunrise'].value_counts(dropna = False))\n",
        "  print('****************************')\n",
        "  print(df['time_str'].value_counts(dropna = False))\n",
        "  print('****************************')\n",
        "  print(df['daytime'].value_counts(dropna = False))"
      ]
    },
    {
      "cell_type": "code",
      "execution_count": null,
      "metadata": {
        "colab": {
          "base_uri": "https://localhost:8080/"
        },
        "id": "veWVAbC6P2Ic",
        "outputId": "9e4fd7ce-ac69-4537-fd9b-75063fd668c1"
      },
      "outputs": [
        {
          "name": "stdout",
          "output_type": "stream",
          "text": [
            "****************************\n",
            "Columns in the data: \n",
            "Index(['raw_row_number', 'date', 'time', 'location', 'lat', 'lng',\n",
            "       'county_name', 'district', 'precinct', 'region', 'subject_race',\n",
            "       'subject_sex', 'officer_id_hash', 'type', 'violation',\n",
            "       'citation_issued', 'warning_issued', 'outcome', 'contraband_found',\n",
            "       'contraband_drugs', 'contraband_weapons', 'search_conducted',\n",
            "       'search_vehicle', 'search_basis', 'vehicle_color', 'vehicle_make',\n",
            "       'vehicle_model', 'vehicle_type', 'vehicle_year', 'raw_HA_RACE_SEX',\n",
            "       'raw_HA_SEARCH_PC_boolean', 'raw_HA_SEARCH_CONCENT_boolean',\n",
            "       'raw_HA_INCIDTO_ARREST_boolean', 'raw_HA_VEHICLE_INVENT_boolean',\n",
            "       'year', 'sunset', 'sunrise', 'time_str', 'daytime'],\n",
            "      dtype='object')\n",
            "****************************\n",
            "The shape of the entire dataframe: (1745385, 39)\n",
            "The shape of the dataframe with the necessary columns: (1745385, 5)\n",
            "Missing value proportions for columns that we need:\n",
            "county_name         0.000000\n",
            "subject_race        0.000000\n",
            "subject_sex         0.001375\n",
            "violation           0.000000\n",
            "search_conducted    0.000000\n",
            "dtype: float64\n",
            "****************************\n",
            "False    1131898\n",
            "True      613487\n",
            "Name: citation_issued, dtype: int64\n",
            "****************************\n",
            "male      1168626\n",
            "female     576735\n",
            "NaN            24\n",
            "Name: subject_sex, dtype: int64\n",
            "****************************\n",
            "white                     801762\n",
            "hispanic                  676307\n",
            "black                     169820\n",
            "unknown                    61431\n",
            "asian/pacific islander     30725\n",
            "other                       5340\n",
            "Name: subject_race, dtype: int64\n",
            "****************************\n",
            "20:27:00    19024\n",
            "20:29:00    18932\n",
            "20:26:00    18755\n",
            "20:28:00    17563\n",
            "20:30:00    17547\n",
            "            ...  \n",
            "17:10:00      323\n",
            "21:16:00      319\n",
            "17:09:00      236\n",
            "17:08:00       94\n",
            "21:22:00        3\n",
            "Name: sunset, Length: 250, dtype: int64\n",
            "****************************\n",
            "07:19:00    32437\n",
            "07:22:00    30360\n",
            "07:18:00    29832\n",
            "07:20:00    29609\n",
            "07:21:00    29325\n",
            "            ...  \n",
            "08:24:00       93\n",
            "06:06:00       71\n",
            "08:23:00       53\n",
            "08:22:00       42\n",
            "08:25:00        4\n",
            "Name: sunrise, Length: 140, dtype: int64\n",
            "****************************\n",
            "00:01:00    13395\n",
            "15:30:00     2263\n",
            "15:00:00     2262\n",
            "15:15:00     2214\n",
            "15:24:00     2201\n",
            "            ...  \n",
            "04:04:00       49\n",
            "03:49:00       48\n",
            "03:58:00       48\n",
            "03:53:00       43\n",
            "03:41:00       39\n",
            "Name: time_str, Length: 1440, dtype: int64\n",
            "****************************\n",
            "1    1185781\n",
            "0     559604\n",
            "Name: daytime, dtype: int64\n"
          ]
        }
      ],
      "source": [
        "sanity_check(2015)"
      ]
    },
    {
      "cell_type": "code",
      "execution_count": null,
      "metadata": {
        "id": "az0hAqDzIO9X"
      },
      "outputs": [],
      "source": [
        "def daytime_check(year):\n",
        "  df = pd.read_parquet(path = '/content/drive/MyDrive/traffic_stop/year_data_daylight/' + str(year) + '.parquet')\n",
        "\n",
        "\n",
        "  # print(df.columns)\n",
        "  # print('****************************')\n",
        "  # print(df['sunset'].value_counts(dropna = False))\n",
        "  # print('****************************')\n",
        "  # print(df['sunrise'].value_counts(dropna = False))\n",
        "  # print('****************************')\n",
        "  # print(df['time_str'].value_counts(dropna = False))\n",
        "  # print('****************************')\n",
        "  print(df['daytime'].value_counts(dropna = False))"
      ]
    },
    {
      "cell_type": "code",
      "execution_count": null,
      "metadata": {
        "colab": {
          "base_uri": "https://localhost:8080/"
        },
        "id": "21Nh8S2QIQNf",
        "outputId": "4abdee05-7348-4276-d777-48298236cd5c"
      },
      "outputs": [
        {
          "name": "stdout",
          "output_type": "stream",
          "text": [
            "1    1508218\n",
            "0     919129\n",
            "Name: daytime, dtype: int64\n"
          ]
        }
      ],
      "source": [
        "daytime_check(2007)"
      ]
    },
    {
      "cell_type": "code",
      "execution_count": null,
      "metadata": {
        "id": "xS9VQHNQdbyN"
      },
      "outputs": [],
      "source": [
        "def search_na(year):\n",
        "  df = pd.read_parquet('/content/drive/MyDrive/traffic_stop/year_data/traffic_' + str(year) + '.parquet')\n",
        "  #df[\"search_conducted\"].fillna(False, inplace = True)\n",
        "  print(df.search_conducted.unique())"
      ]
    },
    {
      "cell_type": "code",
      "execution_count": null,
      "metadata": {
        "colab": {
          "base_uri": "https://localhost:8080/"
        },
        "id": "Bka7Mu9qdr72",
        "outputId": "836d931f-1b7d-491b-9bd5-7c286de30067"
      },
      "outputs": [
        {
          "name": "stdout",
          "output_type": "stream",
          "text": [
            "[False True None]\n"
          ]
        }
      ],
      "source": [
        "search_na(2013)\n",
        "#2010, 2011, 2012, 2013, 2017 - None values"
      ]
    },
    {
      "cell_type": "markdown",
      "metadata": {
        "id": "dacSV_WlP-JL"
      },
      "source": [
        "> **Logistic Regression Without Violation Types**\n",
        " 1.   variables included: race variables, metropolitan, gender\n",
        "\n",
        "> **Logistic Regression With Violation Types**\n",
        "1. variables included: race variables, metropolitan, gender, violation type dummies (common type dummies + 'others' category)\n",
        "2. common violation types defined based on 'threshold' parameter: # of records required in each year\n",
        "\n",
        "> **Logistic Regression With Speeding-only records**\n",
        "1. variables included: race variables, metropolitan, gender\n",
        "2. filter rows to include speeding-only violations"
      ]
    },
    {
      "cell_type": "code",
      "execution_count": null,
      "metadata": {
        "id": "M9qf6ItcP5We"
      },
      "outputs": [],
      "source": [
        "def single_vio_types(threshold, year_start, year_end):\n",
        "  \"\"\"\n",
        "  data format: violation type in data end with ' (#)'; more than 1 violation types: 'A|B'\n",
        "  returns a list of violation types with # of single violation records > threshold every year\n",
        "  \"\"\"\n",
        "  year_present_vios = {}\n",
        "  years = list(range(year_start, year_end + 1))\n",
        "\n",
        "  # get number of years in which a specific violation having # of single violation records more than threshold\n",
        "\n",
        "  for year in years:\n",
        "    print('Processing: ',year)\n",
        "    df = pd.read_parquet('/content/drive/MyDrive/traffic_stop/year_data_daylight/' + str(year) + '.parquet')\n",
        "\n",
        "    cnt_df = pd.DataFrame(df['violation'].value_counts(dropna=False))\n",
        "    \n",
        "    cnt_df = cnt_df.loc[cnt_df['violation'] > threshold]\n",
        "    single_vio_lst = [vio for vio in list(cnt_df.index) if '|' not in vio]\n",
        "\n",
        "    for vio in single_vio_lst:\n",
        "      if vio not in year_present_vios:\n",
        "        year_present_vios[vio] = 1\n",
        "      else:\n",
        "        year_present_vios[vio] += 1\n",
        "\n",
        "  vio_type_all = []\n",
        "  for vio, cnt in year_present_vios.items():\n",
        "    if cnt == len(years):\n",
        "      vio_type_all.append(vio)\n",
        "  vio_type_all = [vio.replace(' (#)', '').strip() for vio in vio_type_all]\n",
        "\n",
        "  return vio_type_all"
      ]
    },
    {
      "cell_type": "code",
      "execution_count": null,
      "metadata": {
        "colab": {
          "base_uri": "https://localhost:8080/"
        },
        "id": "tkNthBVfQo9c",
        "outputId": "d30b42fa-eabe-4bd2-ea0c-2a382336a496"
      },
      "outputs": [
        {
          "name": "stdout",
          "output_type": "stream",
          "text": [
            "Processing:  2006\n",
            "Processing:  2007\n",
            "Processing:  2008\n",
            "Processing:  2009\n",
            "Processing:  2010\n",
            "Processing:  2011\n",
            "Processing:  2012\n",
            "Processing:  2013\n",
            "Processing:  2014\n",
            "Processing:  2015\n",
            "Processing:  2016\n",
            "Processing:  2017\n",
            "# of single violation types:  22\n"
          ]
        },
        {
          "data": {
            "text/plain": [
              "['Speeding Over Limit',\n",
              " 'Speeding-10% or More Above Posted Speed',\n",
              " 'No/Improper License Plate Lamp',\n",
              " 'Ride, Not Secured By Safety Belt-Driver (12-1-85)',\n",
              " 'Operate Motor Vehicle Without License Plates (Or With One Plate)',\n",
              " 'No/Non-Compliant Head Lamps',\n",
              " 'Improperly Placed Or Obstructed License Plate',\n",
              " 'Display Expired License Plates/Registration',\n",
              " 'No/Improper Mud Flap',\n",
              " 'No/Improper Tail Lamp - not Motorcycle',\n",
              " 'Following Too Closely',\n",
              " 'Drive On Improved Shoulder When Prohibited',\n",
              " 'Fail To Signal Lane Change',\n",
              " 'Disregard Stop Sign',\n",
              " 'Fail To Drive In Single Lane',\n",
              " 'Ride, Not Secured By Safety Belt-Passenger (When Required)',\n",
              " 'Fail to Move Over or Slow Down for Certain Vehicles',\n",
              " 'Inoperable/Obscured Stop Lamp(s)',\n",
              " 'Use Of Vision Reducing Matter On Windows - Glass Coating Material',\n",
              " 'Unsafe Speed',\n",
              " 'Fail To Control Speed',\n",
              " 'Drive in Left Lane When Not Passing or Where Prohibited']"
            ]
          },
          "execution_count": 10,
          "metadata": {},
          "output_type": "execute_result"
        }
      ],
      "source": [
        "year_start = 2006\n",
        "year_end = 2017\n",
        "# vio_vars used in preprocessing()\n",
        "vio_vars = single_vio_types(threshold = 5000, year_start = year_start, year_end = year_end)\n",
        "print(\"# of single violation types: \", len(vio_vars))\n",
        "vio_vars"
      ]
    },
    {
      "cell_type": "code",
      "execution_count": null,
      "metadata": {
        "id": "D4Buk6vjQrC6"
      },
      "outputs": [],
      "source": [
        "# this function is called by preprocess(year, keep_col, rm_na_col, violation_types)\n",
        "def get_vio_df(violation_types, vio_col):\n",
        "  \"\"\"\n",
        "  function to generate dummy encoding of violation types\n",
        "  PARAMS:\n",
        "  violation_types: single violation types with # of records each year > threshold, obtained from single_vio_types(threshold, year_start, year_end)\n",
        "  vio_col: violation type column in data file\n",
        "  \"\"\"\n",
        "\n",
        "  vio_df_dict  = {vio: [] for vio in violation_types}\n",
        "  vio_df_dict['others'] = []\n",
        "\n",
        "  for vio in vio_col:\n",
        "    vio_lst = vio.split('|')\n",
        "    vio_lst = [vio.replace(' (#)', '').strip() for vio in vio_lst]\n",
        "    # if single violation\n",
        "    if len(vio_lst) == 1:\n",
        "      vio = vio.replace(' (#)', '').strip()\n",
        "      # if vio in violation_types\n",
        "      if vio in violation_types:\n",
        "        vio_df_dict[vio].append(1)\n",
        "        vio_df_dict['others'].append(0)\n",
        "        for vio_var in violation_types:\n",
        "          if vio_var != vio:\n",
        "            vio_df_dict[vio_var].append(0)\n",
        "\n",
        "      # if vio not in violation_types\n",
        "      else:\n",
        "        vio_df_dict['others'].append(1)\n",
        "        for vio_var in violation_types:\n",
        "          vio_df_dict[vio_var].append(0)\n",
        "    \n",
        "    # if multiple violations\n",
        "    if len(vio_lst) > 1:\n",
        "\n",
        "      # for single vio variables\n",
        "      for vio_var in violation_types:\n",
        "        # if has one of violation_types\n",
        "        if vio_var in vio_lst:\n",
        "          vio_df_dict[vio_var].append(1)\n",
        "        # if violation_type not present\n",
        "        else:\n",
        "          vio_df_dict[vio_var].append(0)\n",
        "\n",
        "      # for the 'others' variable\n",
        "      # if have one vio not in violation_types, 'other' = 1\n",
        "      vars_vio_cnt = 0\n",
        "      for violation in vio_lst:\n",
        "        if violation not in violation_types:\n",
        "          vio_df_dict['others'].append(1)\n",
        "          break\n",
        "        else:\n",
        "          vars_vio_cnt += 1\n",
        "      # if all violations of this record in violation_types\n",
        "      if vars_vio_cnt == len(vio_lst):\n",
        "        vio_df_dict['others'].append(0)\n",
        "\n",
        "  vio_df = pd.DataFrame(vio_df_dict)\n",
        "  vio_df['violation'] = vio_col.values\n",
        "\n",
        "  return vio_df"
      ]
    },
    {
      "cell_type": "markdown",
      "metadata": {
        "id": "5cj7JOWmQv5p"
      },
      "source": [
        "> *Function to help filter speeding-only: speeding_filter() used in preprocess()*"
      ]
    },
    {
      "cell_type": "code",
      "execution_count": null,
      "metadata": {
        "id": "K3jsTYAMQus4"
      },
      "outputs": [],
      "source": [
        "def remove_duplicates(row):\n",
        "  if row['speeding_only'] == 'speeding-repeated_entries':\n",
        "    return row['all_violation'][0].strip()\n",
        "  else:\n",
        "    return row['violation']\n",
        "\n",
        "def remove_white_spaces(vio_lst):\n",
        "  vio_lst = [x.strip() for x in vio_lst]\n",
        "  return vio_lst\n",
        "  \n",
        "def exclusive(vio_lst):\n",
        "  count = 0\n",
        "  for vio in vio_lst:\n",
        "    # count number of violations containing 'speed'\n",
        "    if 'speed' in vio:\n",
        "      count += 1\n",
        "  # if we have non-speeding violation\n",
        "  if count < len(vio_lst):\n",
        "    return 'speeding + others'\n",
        "  # if we only have speeding violation\n",
        "  elif count == len(vio_lst):\n",
        "    # if one speeding vio type\n",
        "    if count == 1:\n",
        "      return 'speeding-1'\n",
        "    # if we have more than one entries but only one type\n",
        "    elif len(set(vio_lst)) == 1:\n",
        "      return 'speeding-repeated_entries'\n",
        "    # if we have more than one type\n",
        "    else:\n",
        "      return 'speeding-multiple'\n",
        "  else:\n",
        "    return 'undefined case'"
      ]
    },
    {
      "cell_type": "code",
      "execution_count": null,
      "metadata": {
        "id": "8VdFKUEbQ79U"
      },
      "outputs": [],
      "source": [
        "def speeding_filter(df):\n",
        "  print('Before speed filtering: ', len(df))\n",
        "  df['violation'] = [s.lower() for s in df['violation']]\n",
        "  # at least one violation is speeding-violated (could have other violations at the same time)\n",
        "  df = df.loc[df['violation'].str.contains('speed', regex = False),:]\n",
        "  df['violation'] = df['violation'].map(lambda x: x.replace('(#)',''))\n",
        "  df['violation'] = df['violation'].map(lambda x: x.strip())\n",
        "\n",
        "  # get a list of violations for each record, and apply self-defined func exclusive\n",
        "  df['all_violation'] = df['violation'].str.split('|')\n",
        "  df['all_violation'] = df['all_violation'].map(lambda x: remove_white_spaces(x))\n",
        "  df['speeding_only'] = df['all_violation'].map(lambda x: exclusive(x))\n",
        "\n",
        "  # filter out rows with violations other than speeding\n",
        "  df = df.loc[df['speeding_only'].isin(['speeding-repeated_entries','speeding-1','speeding-multiple']),:]\n",
        "\n",
        "  df['violation'] = df.apply(lambda row: remove_duplicates(row), axis = 1)\n",
        "\n",
        "  df.drop(['all_violation','speeding_only'], axis = 1, inplace = True)\n",
        "  print('Speeding only violation has records: ', len(df))\n",
        "  return df"
      ]
    },
    {
      "cell_type": "code",
      "execution_count": null,
      "metadata": {
        "id": "etg0W8guQ97A"
      },
      "outputs": [],
      "source": [
        "# columns we need in the analysis\n",
        "keep_col = [\n",
        "            'county_name', \n",
        "            'subject_race',\n",
        "            'subject_sex',\n",
        "            'violation', \n",
        "            'search_conducted',\n",
        "            'daytime'\n",
        "            ]\n",
        "\n",
        "# delete rows with missing value in these columns           \n",
        "rm_na_col = ['county_name','violation','subject_race','subject_sex']\n",
        "\n",
        "# this function is called by preprocess\n",
        "def remove_empty_rows(df, colName):\n",
        "\tdf = df[df[colName] != 'unknown']\n",
        "\n",
        "\tdf = df[df[colName].notna()]\n",
        "\treturn(df)"
      ]
    },
    {
      "cell_type": "markdown",
      "metadata": {
        "id": "wJOIBaRLRAzT"
      },
      "source": [
        "The whole **metropolitan block** needs to change: the new state's data file path and preprocessing and join."
      ]
    },
    {
      "cell_type": "markdown",
      "metadata": {
        "id": "acXQltt1I9Zr"
      },
      "source": [
        "**DAY TIME**"
      ]
    },
    {
      "cell_type": "code",
      "execution_count": null,
      "metadata": {
        "id": "GUWUWvSMQ_0-"
      },
      "outputs": [],
      "source": [
        "### this function used in run_year_analysis()\n",
        "def preprocess(year, keep_col, rm_na_col, with_vio = False, violation_types=None, speeding_only = False):\n",
        "  \"\"\"\n",
        "  with_vio: if include vioation type variables: True, if not include, False\n",
        "  violation_types: violation types to be included in the analysis\n",
        "  \"\"\"\n",
        "  # read dataframe\n",
        "  filename = '/content/drive/MyDrive/traffic_stop/year_data_daylight/' + str(year) + '.parquet'\n",
        "  df = pd.read_parquet(filename, engine = 'pyarrow')\n",
        "  print('# of all traffic stops in year ', year, ': ', len(df))\n",
        "\n",
        "  # invalid value (IF NOT TEXAS STATE DATA, DELETE THIS INVALID VALUE BLOCK)\n",
        "  if year == 2013:\n",
        "    df.drop(df.index[df['lat'] == 74.052879], inplace=True)\n",
        "\n",
        "  # drop unrelated columns\n",
        "  col_drop = [col for col in df.columns if col not in keep_col]\n",
        "  df.drop(col_drop, axis = 1, inplace = True)\n",
        "\n",
        "  # remove rows with missing values in rm_na_col\n",
        "  for col in rm_na_col:\n",
        "    df = remove_empty_rows(df, col)\n",
        "\n",
        "  # filter rows if speeding_only\n",
        "  if speeding_only:\n",
        "    # filter: only speeding violation (no other violations) \n",
        "    df = speeding_filter(df)\n",
        "\n",
        "  ######### THIS WHOLE BLOACK NEEDS TO BE CHANGED, NEW METROPOLITAN FILES AND DIFFERENT DATA FORMAT #########\n",
        "\n",
        "  # County names are converted to county type - metropolitan, micropolitan or non-core\n",
        "  # For definitions, see US OMB website\n",
        "\n",
        "  # read in county info csv\n",
        "  county_df = pd.read_csv('/content/drive/MyDrive/traffic_stop/2014-2018.csv')\n",
        "  county_df = county_df[county_df['State']=='Texas']\n",
        "  county_df = county_df.filter(items=['Metropolitan Status', 'County Name'])\n",
        "\n",
        "  # transform column\n",
        "  df['county'] = [name[:-7] for name in df['county_name']]\n",
        "  df['county'] = df['county'].replace('Dewitt','DeWitt')\n",
        "  df = df.join(county_df.set_index('County Name'), on='county')\n",
        "  df.drop('county', axis = 1, inplace=True)\n",
        "  df.rename(columns={'Metropolitan Status':'county_type'}, inplace=True)\n",
        "\n",
        "  ######### Metropolitan block ends here #########\n",
        "\n",
        "  # Convert 'search_conducted' to integer\n",
        "  df[\"search_conducted\"].fillna(False, inplace = True)\n",
        "  df = df.astype({'search_conducted': 'int64'})\n",
        "\n",
        "  # if race is other/unknown, we delete the rows!\n",
        "  df = df.loc[(df['subject_race'] != 'unknown') & (df['subject_race'] != 'other'),:]\n",
        "  df['subject_race'] = df.subject_race.cat.remove_unused_categories()\n",
        "\n",
        "  df.drop(['county_name'], axis = 1, inplace = True)\n",
        "    #FOR DAYTIME ONLY: 1\n",
        "  df.drop(df.index[df['daytime'] == 0], inplace=True)\n",
        "\n",
        "  if with_vio:\n",
        "\n",
        "    # get violation variables\n",
        "    vio_df = get_vio_df(violation_types, vio_col = df['violation'])\n",
        "    vio_df.drop('violation', axis = 1, inplace = True)\n",
        "\n",
        "    # other x variables get dummies\n",
        "    y = df['search_conducted']\n",
        "    df.drop(['violation','search_conducted'], axis = 1, inplace = True)\n",
        "    df = pd.get_dummies(df)\n",
        "    df.drop(['subject_race_white', 'county_type_Metropolitan', 'subject_sex_male'], axis = 1, inplace = True)\n",
        "\n",
        "    #vio_df.drop('Speeding Over Limit', axis = 1, inplace = True), I don't think vio_type needs a base level, as no multicollinearity\n",
        "    df.reset_index(drop=True, inplace=True)\n",
        "    vio_df.reset_index(drop=True, inplace=True)\n",
        "    y.reset_index(drop=True, inplace=True)\n",
        "    X = pd.concat([df, vio_df], axis = 1)\n",
        "    X.columns = list(df.columns) + list(vio_df.columns)\n",
        "\n",
        "    print('# of traffic stops after preprocessing in year ', year, ': ', len(X))\n",
        "    return (y, X)\n",
        "\n",
        "  elif not with_vio:\n",
        "\n",
        "    # other x variables get dummies\n",
        "    y = df['search_conducted']\n",
        "    df.drop(['violation','search_conducted', 'daytime'], axis = 1, inplace = True)\n",
        "    df = pd.get_dummies(df)\n",
        "    df.drop(['subject_race_white', 'county_type_Metropolitan', 'subject_sex_male'], axis = 1, inplace = True)\n",
        "    \n",
        "    df.reset_index(drop=True, inplace=True)\n",
        "    y.reset_index(drop=True, inplace=True)\n",
        "\n",
        "    print('# of traffic stops after preprocessing in year ', year, ': ', len(df))\n",
        "    return (y, df)"
      ]
    },
    {
      "cell_type": "markdown",
      "metadata": {
        "id": "3ogBWHn9JAp4"
      },
      "source": [
        "**NIGHT TIME**"
      ]
    },
    {
      "cell_type": "code",
      "execution_count": null,
      "metadata": {
        "id": "h9SYS-7iJDBg"
      },
      "outputs": [],
      "source": [
        "### this function used in run_year_analysis()\n",
        "def preprocess2(year, keep_col, rm_na_col, with_vio = False, violation_types=None, speeding_only = False):\n",
        "  \"\"\"\n",
        "  with_vio: if include vioation type variables: True, if not include, False\n",
        "  violation_types: violation types to be included in the analysis\n",
        "  \"\"\"\n",
        "  # read dataframe\n",
        "  filename = '/content/drive/MyDrive/traffic_stop/year_data_daylight/' + str(year) + '.parquet'\n",
        "  df = pd.read_parquet(filename, engine = 'pyarrow')\n",
        "  print('# of all traffic stops in year ', year, ': ', len(df))\n",
        "\n",
        "  # invalid value (IF NOT TEXAS STATE DATA, DELETE THIS INVALID VALUE BLOCK)\n",
        "  if year == 2013:\n",
        "    df.drop(df.index[df['lat'] == 74.052879], inplace=True)\n",
        "\n",
        "  # drop unrelated columns\n",
        "  col_drop = [col for col in df.columns if col not in keep_col]\n",
        "  df.drop(col_drop, axis = 1, inplace = True)\n",
        "\n",
        "  # remove rows with missing values in rm_na_col\n",
        "  for col in rm_na_col:\n",
        "    df = remove_empty_rows(df, col)\n",
        "\n",
        "  # filter rows if speeding_only\n",
        "  if speeding_only:\n",
        "    # filter: only speeding violation (no other violations) \n",
        "    df = speeding_filter(df)\n",
        "\n",
        "  ######### THIS WHOLE BLOACK NEEDS TO BE CHANGED, NEW METROPOLITAN FILES AND DIFFERENT DATA FORMAT #########\n",
        "\n",
        "  # County names are converted to county type - metropolitan, micropolitan or non-core\n",
        "  # For definitions, see US OMB website\n",
        "\n",
        "  # read in county info csv\n",
        "  county_df = pd.read_csv('/content/drive/MyDrive/traffic_stop/2014-2018.csv')\n",
        "  county_df = county_df[county_df['State']=='Texas']\n",
        "  county_df = county_df.filter(items=['Metropolitan Status', 'County Name'])\n",
        "\n",
        "  # transform column\n",
        "  df['county'] = [name[:-7] for name in df['county_name']]\n",
        "  df['county'] = df['county'].replace('Dewitt','DeWitt')\n",
        "  df = df.join(county_df.set_index('County Name'), on='county')\n",
        "  df.drop('county', axis = 1, inplace=True)\n",
        "  df.rename(columns={'Metropolitan Status':'county_type'}, inplace=True)\n",
        "\n",
        "  ######### Metropolitan block ends here #########\n",
        "\n",
        "  # Convert 'search_conducted' to integer\n",
        "  df[\"search_conducted\"].fillna(False, inplace = True)\n",
        "  df = df.astype({'search_conducted': 'int64'})\n",
        "\n",
        "  # if race is other/unknown, we delete the rows!\n",
        "  df = df.loc[(df['subject_race'] != 'unknown') & (df['subject_race'] != 'other'),:]\n",
        "  df['subject_race'] = df.subject_race.cat.remove_unused_categories()\n",
        "\n",
        "  df.drop(['county_name'], axis = 1, inplace = True)\n",
        "    #FOR night time ONLY: 0\n",
        "  df.drop(df.index[df['daytime'] == 1], inplace=True)\n",
        "  df.loc[(df[\"daytime\"] == 0), \"daytime\"] = 2\n",
        "\n",
        "  if with_vio:\n",
        "\n",
        "    # get violation variables\n",
        "    vio_df = get_vio_df(violation_types, vio_col = df['violation'])\n",
        "    vio_df.drop('violation', axis = 1, inplace = True)\n",
        "\n",
        "    # other x variables get dummies\n",
        "    y = df['search_conducted']\n",
        "    df.drop(['violation','search_conducted', 'daytime'], axis = 1, inplace = True)\n",
        "    df = pd.get_dummies(df)\n",
        "    df.drop(['subject_race_white', 'county_type_Metropolitan', 'subject_sex_male'], axis = 1, inplace = True)\n",
        "\n",
        "    #vio_df.drop('Speeding Over Limit', axis = 1, inplace = True), I don't think vio_type needs a base level, as no multicollinearity\n",
        "    df.reset_index(drop=True, inplace=True)\n",
        "    vio_df.reset_index(drop=True, inplace=True)\n",
        "    y.reset_index(drop=True, inplace=True)\n",
        "    X = pd.concat([df, vio_df], axis = 1)\n",
        "    X.columns = list(df.columns) + list(vio_df.columns)\n",
        "\n",
        "    print('# of traffic stops after preprocessing in year ', year, ': ', len(X))\n",
        "    return (y, X)\n",
        "\n",
        "  elif not with_vio:\n",
        "\n",
        "    # other x variables get dummies\n",
        "    y = df['search_conducted']\n",
        "    df.drop(['violation','search_conducted'], axis = 1, inplace = True)\n",
        "    df = pd.get_dummies(df)\n",
        "    df.drop(['subject_race_white', 'county_type_Metropolitan', 'subject_sex_male'], axis = 1, inplace = True)\n",
        "    \n",
        "    df.reset_index(drop=True, inplace=True)\n",
        "    y.reset_index(drop=True, inplace=True)\n",
        "\n",
        "    print('# of traffic stops after preprocessing in year ', year, ': ', len(df))\n",
        "    return (y, df)"
      ]
    },
    {
      "cell_type": "markdown",
      "metadata": {
        "id": "FZMWgJx_RLXc"
      },
      "source": [
        "We assume in the data, race info is recorded in the column **'subject_race'**, with values **white, black, hispanic, asian/pacific islander**. -> pd.get_dummies() used in preprocess gives us variables like subject_race_black.\n",
        "\n",
        "In some states' data, race info column name may be different and race categories may be different. In this case, the function **run_year_analysis** needs to change the **last three code blocks** with comments: # append race coefs to result list for plotting, # lower CI, and # upper CI to race column name + '_' + race category.\n",
        "\n",
        "The function above: **preprocessing() needs to change accordingly** as well. (where we drop base levels, use subject_race as the column name, etc.)"
      ]
    },
    {
      "cell_type": "markdown",
      "metadata": {
        "id": "aF5aBIXLJkN-"
      },
      "source": [
        "**DAY TIME**"
      ]
    },
    {
      "cell_type": "code",
      "execution_count": null,
      "metadata": {
        "id": "QvogBak-RJS4"
      },
      "outputs": [],
      "source": [
        "### this function used in generate_outputs()\n",
        "def run_year_analysis(keep_col, rm_na_col, df_years, with_vio = False, violation_types=None, speeding_only = False):\n",
        "  \"\"\"\n",
        "  param:\n",
        "  violation_types: violation types to be included in the analysis\n",
        "\n",
        "  Output:\n",
        "  A result dataframe\n",
        "  \"\"\"\n",
        "  years = list(range(year_start, year_end+1))\n",
        "\n",
        "  for year in years:\n",
        "    # read in the data\n",
        "    print('***********************************')\n",
        "    print(year)\n",
        "\n",
        "    # read in and preprocess data\n",
        "    y, X = preprocess(year, keep_col, rm_na_col, with_vio, violation_types, speeding_only)\n",
        "    \n",
        "    #adding constant to X\n",
        "    X_with_constant = sm.add_constant(X)\n",
        "    # building the model and fitting the data\n",
        "    log_reg = sm.Logit(y, X_with_constant).fit()\n",
        "    \n",
        "    res_df = pd.DataFrame({'variable':list(log_reg.params.index), 'coef':list(log_reg.params.values), \n",
        "                           'odds_ratio':list(np.exp(log_reg.params.values)),\n",
        "                           'lower_CI':list(np.exp(log_reg.conf_int()[0].values)),\n",
        "                           'upper_CI':list(np.exp(log_reg.conf_int()[1].values)),'pvalue':list(log_reg.pvalues)})\n",
        "\n",
        "    df_years = df_years.merge(res_df, left_on = 'variable', right_on = 'variable', how = 'outer')\n",
        "    df_years = df_years.rename(columns = {'coef': ('coef_' + str(year)), \n",
        "                                          'odds_ratio': ('odds_ratio_' + str(year)),\n",
        "                                          'lower_CI': ('OR_lower_CI_' + str(year)),\n",
        "                                          'upper_CI': ('OR_upper_CI_' + str(year)), \n",
        "                                          'pvalue': ('pvalue_' + str(year))})\n",
        "\n",
        "    # append race coefs to result list for plotting\n",
        "    black.append(np.exp(log_reg.params['subject_race_black']))\n",
        "    hispanic.append(np.exp(log_reg.params['subject_race_hispanic']))\n",
        "    asianpacific.append(np.exp(log_reg.params['subject_race_asian/pacific islander']))\n",
        "\n",
        "    # lower CI\n",
        "    black_low.append(np.exp(log_reg.conf_int()[0]['subject_race_black']))\n",
        "    hispanic_low.append(np.exp(log_reg.conf_int()[0]['subject_race_hispanic']))\n",
        "    asianpacific_low.append(np.exp(log_reg.conf_int()[0]['subject_race_asian/pacific islander']))\n",
        "\n",
        "    # upper CI\n",
        "    black_high.append(np.exp(log_reg.conf_int()[1]['subject_race_black']))\n",
        "    hispanic_high.append(np.exp(log_reg.conf_int()[1]['subject_race_hispanic']))\n",
        "    asianpacific_high.append(np.exp(log_reg.conf_int()[1]['subject_race_asian/pacific islander']))\n",
        "\n",
        "  return df_years\n",
        "\n",
        "# write result df to csv file"
      ]
    },
    {
      "cell_type": "markdown",
      "metadata": {
        "id": "8KKWuSMxJm5l"
      },
      "source": [
        "**NIGHT TIME**"
      ]
    },
    {
      "cell_type": "code",
      "execution_count": null,
      "metadata": {
        "id": "ocPnebB9JohF"
      },
      "outputs": [],
      "source": [
        "### this function used in generate_outputs()\n",
        "def run_year_analysis2(keep_col, rm_na_col, df_years, with_vio = False, violation_types=None, speeding_only = False):\n",
        "  \"\"\"\n",
        "  param:\n",
        "  violation_types: violation types to be included in the analysis\n",
        "\n",
        "  Output:\n",
        "  A result dataframe\n",
        "  \"\"\"\n",
        "  years = list(range(year_start, year_end+1))\n",
        "\n",
        "  for year in years:\n",
        "    # read in the data\n",
        "    print('***********************************')\n",
        "    print(year)\n",
        "\n",
        "    # read in and preprocess data\n",
        "    y, X = preprocess2(year, keep_col, rm_na_col, with_vio, violation_types, speeding_only)\n",
        "    \n",
        "    #adding constant to X\n",
        "    X_with_constant = sm.add_constant(X)\n",
        "    # building the model and fitting the data\n",
        "    log_reg = sm.Logit(y, X_with_constant).fit()\n",
        "    \n",
        "    res_df = pd.DataFrame({'variable':list(log_reg.params.index), 'coef':list(log_reg.params.values), \n",
        "                           'odds_ratio':list(np.exp(log_reg.params.values)),\n",
        "                           'lower_CI':list(np.exp(log_reg.conf_int()[0].values)),\n",
        "                           'upper_CI':list(np.exp(log_reg.conf_int()[1].values)),'pvalue':list(log_reg.pvalues)})\n",
        "\n",
        "    df_years = df_years.merge(res_df, left_on = 'variable', right_on = 'variable', how = 'outer')\n",
        "    df_years = df_years.rename(columns = {'coef': ('coef_' + str(year)), \n",
        "                                          'odds_ratio': ('odds_ratio_' + str(year)),\n",
        "                                          'lower_CI': ('OR_lower_CI_' + str(year)),\n",
        "                                          'upper_CI': ('OR_upper_CI_' + str(year)), \n",
        "                                          'pvalue': ('pvalue_' + str(year))})\n",
        "\n",
        "    # append race coefs to result list for plotting\n",
        "    black.append(np.exp(log_reg.params['subject_race_black']))\n",
        "    hispanic.append(np.exp(log_reg.params['subject_race_hispanic']))\n",
        "    asianpacific.append(np.exp(log_reg.params['subject_race_asian/pacific islander']))\n",
        "\n",
        "    # lower CI\n",
        "    black_low.append(np.exp(log_reg.conf_int()[0]['subject_race_black']))\n",
        "    hispanic_low.append(np.exp(log_reg.conf_int()[0]['subject_race_hispanic']))\n",
        "    asianpacific_low.append(np.exp(log_reg.conf_int()[0]['subject_race_asian/pacific islander']))\n",
        "\n",
        "    # upper CI\n",
        "    black_high.append(np.exp(log_reg.conf_int()[1]['subject_race_black']))\n",
        "    hispanic_high.append(np.exp(log_reg.conf_int()[1]['subject_race_hispanic']))\n",
        "    asianpacific_high.append(np.exp(log_reg.conf_int()[1]['subject_race_asian/pacific islander']))\n",
        "\n",
        "  return df_years\n",
        "\n",
        "# write result df to csv file"
      ]
    },
    {
      "cell_type": "markdown",
      "metadata": {
        "id": "rTuaWBe6RfUL"
      },
      "source": [
        "> *Function to output coefficient estimate & odds ratio csv files and odds ratio figures*\n",
        "\n",
        "If including violation type variables, set with_vio = true, violation_types = what you get from single_vio_types(threshold, year_start, year_end).\n",
        "\n",
        "If not including violation type variables, set as default: with_vio = False, violation_types = None."
      ]
    },
    {
      "cell_type": "markdown",
      "metadata": {
        "id": "9FKy2X3hJ1WE"
      },
      "source": [
        "**DAY TIME**"
      ]
    },
    {
      "cell_type": "code",
      "execution_count": null,
      "metadata": {
        "id": "7QuTZm8BReUO"
      },
      "outputs": [],
      "source": [
        "def generate_outputs(folder_path, with_vio = False, violation_types = None, speeding_only = False):\n",
        "  \"\"\"\n",
        "  function outputs a csv file, a jpg and an svg figure\n",
        "  PARAMS:\n",
        "  folder path: eg., '/gdrive/MyDrive/traffic_stop/output_daytime/' \n",
        "  \"\"\"\n",
        "  # columns to store\n",
        "  var_lst_baseline = ['subject_race_black', 'subject_race_hispanic', 'subject_race_asian/pacific islander',\n",
        "                        'county_type_Non core', 'county_type_Micropolitan','subject_sex_female']\n",
        "\n",
        "  df_years = pd.DataFrame({'variable':var_lst_baseline})\n",
        "\n",
        "  if not with_vio:\n",
        "    res_df = run_year_analysis(keep_col = keep_col, rm_na_col = rm_na_col, df_years = df_years, with_vio = False, violation_types = None, speeding_only = speeding_only)\n",
        "  else:\n",
        "    res_df = run_year_analysis(keep_col = keep_col, rm_na_col = rm_na_col, df_years = df_years, with_vio = True, violation_types = violation_types)\n",
        "  \n",
        "  # save csv\n",
        "  if speeding_only:\n",
        "    file_name = 'ORSC_speeding.csv'\n",
        "  elif not speeding_only:\n",
        "    if with_vio:\n",
        "      file_name = 'ORSC_with_vios.csv'\n",
        "    else:\n",
        "      file_name = 'ORSC_no_vios.csv'\n",
        "\n",
        "  # CHANGE THE PATH\n",
        "  save_path = folder_path + file_name\n",
        "  res_df.to_csv(save_path, index = False)\n",
        "\n",
        "  years = list(range(year_start, year_end + 1))\n",
        "  \n",
        "  sns.lineplot(x = years, y = black, color = 'red', label=\"Black\")\n",
        "  sns.lineplot(x = years, y = hispanic, color = 'blue', label=\"Hispanic\")\n",
        "  sns.lineplot(x = years, y = asianpacific, color = 'green', label=\"Asian/Pacific Islander\")\n",
        "\n",
        "  sns.lineplot(x = years, y = black_low, color = 'red', linestyle='--')\n",
        "  sns.lineplot(x = years, y = hispanic_low, color = 'blue', linestyle='--')\n",
        "  sns.lineplot(x = years, y = asianpacific_low, color = 'green', linestyle='--')\n",
        "\n",
        "  sns.lineplot(x = years, y = black_high, color = 'red', linestyle='--')\n",
        "  sns.lineplot(x = years, y = hispanic_high, color = 'blue', linestyle='--')\n",
        "  sns.lineplot(x = years, y = asianpacific_high, color = 'green', linestyle='--')\n",
        "\n",
        "  plt.xlabel('Year')\n",
        "  plt.ylabel('Odds Ratio')\n",
        "  plt.legend([\"Black\", \"Hispanic\", \"Asian/Pacific Islander\"],\n",
        "           bbox_to_anchor = (1.05, 0.6))\n",
        "\n",
        "  # CHANGE THE PATH HERE\n",
        "  figure_name1 = file_name.replace('csv', 'svg')\n",
        "  figure_name2 = file_name.replace('csv', 'jpg')\n",
        "  figure_name3 = file_name.replace('csv', 'pdf')\n",
        "  plt.savefig((folder_path+figure_name1), format = 'svg', bbox_inches=\"tight\")\n",
        "  plt.savefig((folder_path+figure_name2), dpi = 200, bbox_inches=\"tight\")\n",
        "  plt.savefig((folder_path+figure_name3), format=\"pdf\", bbox_inches=\"tight\")\n",
        "\n",
        "  plt.show()\n"
      ]
    },
    {
      "cell_type": "markdown",
      "metadata": {
        "id": "r_d4274-J0fk"
      },
      "source": [
        "**NIGHT TIME**"
      ]
    },
    {
      "cell_type": "code",
      "execution_count": null,
      "metadata": {
        "id": "TL3PT4nGJ7Ud"
      },
      "outputs": [],
      "source": [
        "def generate_outputs2(folder_path, with_vio = False, violation_types = None, speeding_only = False):\n",
        "  \"\"\"\n",
        "  function outputs a csv file, a jpg and an svg figure\n",
        "  PARAMS:\n",
        "  folder path: eg., '/gdrive/MyDrive/traffic_stop/output_daytime/' \n",
        "  \"\"\"\n",
        "  # columns to store\n",
        "  var_lst_baseline = ['subject_race_black', 'subject_race_hispanic', 'subject_race_asian/pacific islander',\n",
        "                        'county_type_Non core', 'county_type_Micropolitan','subject_sex_female']\n",
        "\n",
        "  df_years = pd.DataFrame({'variable':var_lst_baseline})\n",
        "\n",
        "  if not with_vio:\n",
        "    res_df = run_year_analysis2(keep_col = keep_col, rm_na_col = rm_na_col, df_years = df_years, with_vio = False, violation_types = None, speeding_only = speeding_only)\n",
        "  else:\n",
        "    res_df = run_year_analysis2(keep_col = keep_col, rm_na_col = rm_na_col, df_years = df_years, with_vio = True, violation_types = violation_types)\n",
        "  \n",
        "  # save csv\n",
        "  if speeding_only:\n",
        "    file_name = 'ORSC_night_speeding.csv'\n",
        "  elif not speeding_only:\n",
        "    if with_vio:\n",
        "      file_name = 'ORSC_night_with_vios.csv'\n",
        "    else:\n",
        "      file_name = 'ORSC_night_no_vios.csv'\n",
        "\n",
        "  # CHANGE THE PATH\n",
        "  save_path = folder_path + file_name\n",
        "  res_df.to_csv(save_path, index = False)\n",
        "\n",
        "  years = list(range(year_start, year_end + 1))\n",
        "  \n",
        "  sns.lineplot(x = years, y = black, color = 'red', label=\"Black\")\n",
        "  sns.lineplot(x = years, y = hispanic, color = 'blue', label=\"Hispanic\")\n",
        "  sns.lineplot(x = years, y = asianpacific, color = 'green', label=\"Asian/Pacific Islander\")\n",
        "\n",
        "  sns.lineplot(x = years, y = black_low, color = 'red', linestyle='--')\n",
        "  sns.lineplot(x = years, y = hispanic_low, color = 'blue', linestyle='--')\n",
        "  sns.lineplot(x = years, y = asianpacific_low, color = 'green', linestyle='--')\n",
        "\n",
        "  sns.lineplot(x = years, y = black_high, color = 'red', linestyle='--')\n",
        "  sns.lineplot(x = years, y = hispanic_high, color = 'blue', linestyle='--')\n",
        "  sns.lineplot(x = years, y = asianpacific_high, color = 'green', linestyle='--')\n",
        "\n",
        "  plt.xlabel('Year')\n",
        "  plt.ylabel('Odds Ratio')\n",
        "  plt.legend([\"Black\", \"Hispanic\", \"Asian/Pacific Islander\"],\n",
        "           bbox_to_anchor = (1.05, 0.6))\n",
        "\n",
        "  # CHANGE THE PATH HERE\n",
        "  figure_name1 = file_name.replace('csv', 'svg')\n",
        "  figure_name2 = file_name.replace('csv', 'jpg')\n",
        "  figure_name3 = file_name.replace('csv', 'pdf')\n",
        "  plt.savefig((folder_path+figure_name1), format = 'svg', bbox_inches=\"tight\")\n",
        "  plt.savefig((folder_path+figure_name2), dpi = 200, bbox_inches=\"tight\")\n",
        "  plt.savefig((folder_path+figure_name3), format=\"pdf\", bbox_inches=\"tight\")\n",
        "\n",
        "  plt.show()\n"
      ]
    },
    {
      "cell_type": "markdown",
      "metadata": {
        "id": "TuFT4bf0SLOF"
      },
      "source": [
        "> **WITHOUT VIOLATION TYPE VARIABLES _DAYLIGHT_**"
      ]
    },
    {
      "cell_type": "code",
      "execution_count": null,
      "metadata": {
        "id": "MbJ4DfrFSRq4"
      },
      "outputs": [],
      "source": [
        "# # keep track of coefficient estimates and evaluation metrics\n",
        "# year_end = 2016\n",
        "# asianpacific = []\t\n",
        "# black = []\t\n",
        "# hispanic = []\t\n",
        "\n",
        "# asianpacific_low = []\t\n",
        "# black_low = []\t\n",
        "# hispanic_low = []\n",
        "\n",
        "# asianpacific_high = []\t\n",
        "# black_high = []\t\n",
        "# hispanic_high = []\n",
        "\n",
        "# generate_outputs(folder_path ='/content/drive/MyDrive/traffic_stop/output_daytime/', with_vio = False, violation_types = None)"
      ]
    },
    {
      "cell_type": "markdown",
      "metadata": {
        "id": "YlexYgq7KUnq"
      },
      "source": [
        "> **WITHOUT VIOLATION TYPE VARIABLES _NIGHT TIME_**"
      ]
    },
    {
      "cell_type": "code",
      "execution_count": null,
      "metadata": {
        "id": "2G5FIjMsKWR5"
      },
      "outputs": [],
      "source": [
        "# # keep track of coefficient estimates and evaluation metrics\n",
        "# year_end = 2016\n",
        "# asianpacific = []\t\n",
        "# black = []\t\n",
        "# hispanic = []\t\n",
        "\n",
        "# asianpacific_low = []\t\n",
        "# black_low = []\t\n",
        "# hispanic_low = []\n",
        "\n",
        "# asianpacific_high = []\t\n",
        "# black_high = []\t\n",
        "# hispanic_high = []\n",
        "\n",
        "# generate_outputs2(folder_path ='/content/drive/MyDrive/traffic_stop/output_daytime/', with_vio = False, violation_types = None)"
      ]
    },
    {
      "cell_type": "markdown",
      "metadata": {
        "id": "WfMHyWAaSSjK"
      },
      "source": [
        "> **WITH VIOLATION TYPE VARIABLES _DAYLIGHT_**"
      ]
    },
    {
      "cell_type": "code",
      "execution_count": null,
      "metadata": {
        "id": "bQcbQF1DUrLU"
      },
      "outputs": [],
      "source": [
        "# asianpacific = []\t\n",
        "# black = []\t\n",
        "# hispanic = []\t\n",
        "\n",
        "# asianpacific_low = []\t\n",
        "# black_low = []\t\n",
        "# hispanic_low = []\n",
        "\n",
        "# asianpacific_high = []\t\n",
        "# black_high = []\t\n",
        "# hispanic_high = []\n",
        "# generate_outputs(folder_path ='/content/drive/MyDrive/traffic_stop/output_daytime/', with_vio = True, violation_types = vio_vars)"
      ]
    },
    {
      "cell_type": "markdown",
      "metadata": {
        "id": "zV5aCPb0KgHI"
      },
      "source": [
        "> **WITH VIOLATION TYPE VARIABLES _NIGHT TIME_**"
      ]
    },
    {
      "cell_type": "code",
      "execution_count": 26,
      "metadata": {
        "colab": {
          "base_uri": "https://localhost:8080/",
          "height": 1000
        },
        "id": "9aFbV_S2Kkv5",
        "outputId": "1c8928b9-3189-4abd-8a74-e69d70b665b8"
      },
      "outputs": [
        {
          "output_type": "stream",
          "name": "stdout",
          "text": [
            "***********************************\n",
            "2006\n",
            "# of all traffic stops in year  2006 :  2693894\n",
            "# of traffic stops after preprocessing in year  2006 :  1000390\n",
            "Optimization terminated successfully.\n",
            "         Current function value: 0.146849\n",
            "         Iterations 9\n",
            "***********************************\n",
            "2007\n",
            "# of all traffic stops in year  2007 :  2427347\n",
            "# of traffic stops after preprocessing in year  2007 :  909795\n",
            "Optimization terminated successfully.\n",
            "         Current function value: 0.144707\n",
            "         Iterations 9\n",
            "***********************************\n",
            "2008\n",
            "# of all traffic stops in year  2008 :  2526783\n",
            "# of traffic stops after preprocessing in year  2008 :  915782\n",
            "Optimization terminated successfully.\n",
            "         Current function value: 0.125180\n",
            "         Iterations 9\n",
            "***********************************\n",
            "2009\n",
            "# of all traffic stops in year  2009 :  2441306\n",
            "# of traffic stops after preprocessing in year  2009 :  894958\n",
            "Optimization terminated successfully.\n",
            "         Current function value: 0.103882\n",
            "         Iterations 9\n",
            "***********************************\n",
            "2010\n",
            "# of all traffic stops in year  2010 :  2525296\n",
            "# of traffic stops after preprocessing in year  2010 :  917292\n",
            "Optimization terminated successfully.\n",
            "         Current function value: 0.103356\n",
            "         Iterations 9\n",
            "***********************************\n",
            "2011\n",
            "# of all traffic stops in year  2011 :  2588004\n",
            "# of traffic stops after preprocessing in year  2011 :  908966\n",
            "Optimization terminated successfully.\n",
            "         Current function value: 0.107418\n",
            "         Iterations 9\n",
            "***********************************\n",
            "2012\n",
            "# of all traffic stops in year  2012 :  2435758\n",
            "# of traffic stops after preprocessing in year  2012 :  772503\n",
            "Optimization terminated successfully.\n",
            "         Current function value: 0.107728\n",
            "         Iterations 9\n",
            "***********************************\n",
            "2013\n",
            "# of all traffic stops in year  2013 :  2134890\n",
            "# of traffic stops after preprocessing in year  2013 :  660117\n",
            "Optimization terminated successfully.\n",
            "         Current function value: 0.100565\n",
            "         Iterations 9\n",
            "***********************************\n",
            "2014\n",
            "# of all traffic stops in year  2014 :  1878487\n",
            "# of traffic stops after preprocessing in year  2014 :  566478\n",
            "Optimization terminated successfully.\n",
            "         Current function value: 0.094197\n",
            "         Iterations 9\n",
            "***********************************\n",
            "2015\n",
            "# of all traffic stops in year  2015 :  1745385\n",
            "# of traffic stops after preprocessing in year  2015 :  537836\n",
            "Optimization terminated successfully.\n",
            "         Current function value: 0.084498\n",
            "         Iterations 9\n",
            "***********************************\n",
            "2016\n",
            "# of all traffic stops in year  2016 :  1832110\n",
            "# of traffic stops after preprocessing in year  2016 :  572489\n",
            "Optimization terminated successfully.\n",
            "         Current function value: 0.092185\n",
            "         Iterations 9\n"
          ]
        },
        {
          "output_type": "display_data",
          "data": {
            "text/plain": [
              "<Figure size 432x288 with 1 Axes>"
            ],
            "image/png": "[encoded data removed]"
          },
          "metadata": {
            "needs_background": "light"
          }
        }
      ],
      "source": [
        "year_end=2016\n",
        "asianpacific = []\t\n",
        "black = []\t\n",
        "hispanic = []\t\n",
        "\n",
        "asianpacific_low = []\t\n",
        "black_low = []\t\n",
        "hispanic_low = []\n",
        "\n",
        "asianpacific_high = []\t\n",
        "black_high = []\t\n",
        "hispanic_high = []\n",
        "generate_outputs2(folder_path ='/content/drive/MyDrive/traffic_stop/output_daytime/', with_vio = True, violation_types = vio_vars)"
      ]
    },
    {
      "cell_type": "markdown",
      "metadata": {
        "id": "PC0aWz1vUtqA"
      },
      "source": [
        "> **SPEEDING-ONLY VIOLATIONS, without violation_type _DAY LIGHT_**"
      ]
    },
    {
      "cell_type": "code",
      "execution_count": 27,
      "metadata": {
        "colab": {
          "base_uri": "https://localhost:8080/",
          "height": 1000
        },
        "id": "RwQ1CLeDU0T2",
        "outputId": "3630af76-c26a-45a0-e5b7-8f22077c2b2e"
      },
      "outputs": [
        {
          "output_type": "stream",
          "name": "stdout",
          "text": [
            "***********************************\n",
            "2006\n",
            "# of all traffic stops in year  2006 :  2693894\n",
            "Before speed filtering:  2673511\n",
            "Speeding only violation has records:  1235103\n",
            "# of traffic stops after preprocessing in year  2006 :  822176\n",
            "Optimization terminated successfully.\n",
            "         Current function value: 0.046634\n",
            "         Iterations 10\n",
            "***********************************\n",
            "2007\n",
            "# of all traffic stops in year  2007 :  2427347\n",
            "Before speed filtering:  2405744\n",
            "Speeding only violation has records:  1110868\n",
            "# of traffic stops after preprocessing in year  2007 :  737561\n",
            "Optimization terminated successfully.\n",
            "         Current function value: 0.047610\n",
            "         Iterations 9\n",
            "***********************************\n",
            "2008\n",
            "# of all traffic stops in year  2008 :  2526783\n",
            "Before speed filtering:  2434970\n",
            "Speeding only violation has records:  1114925\n",
            "# of traffic stops after preprocessing in year  2008 :  736441\n",
            "Optimization terminated successfully.\n",
            "         Current function value: 0.041208\n",
            "         Iterations 10\n",
            "***********************************\n",
            "2009\n",
            "# of all traffic stops in year  2009 :  2441306\n",
            "Before speed filtering:  2370986\n",
            "Speeding only violation has records:  1093968\n",
            "# of traffic stops after preprocessing in year  2009 :  730777\n",
            "Optimization terminated successfully.\n",
            "         Current function value: 0.031323\n",
            "         Iterations 10\n",
            "***********************************\n",
            "2010\n",
            "# of all traffic stops in year  2010 :  2525296\n",
            "Before speed filtering:  2452498\n",
            "Speeding only violation has records:  1085945\n",
            "# of traffic stops after preprocessing in year  2010 :  728052\n",
            "Optimization terminated successfully.\n",
            "         Current function value: 0.034261\n",
            "         Iterations 10\n",
            "***********************************\n",
            "2011\n",
            "# of all traffic stops in year  2011 :  2588004\n",
            "Before speed filtering:  2511664\n",
            "Speeding only violation has records:  1085781\n",
            "# of traffic stops after preprocessing in year  2011 :  753539\n",
            "Optimization terminated successfully.\n",
            "         Current function value: 0.032446\n",
            "         Iterations 10\n",
            "***********************************\n",
            "2012\n",
            "# of all traffic stops in year  2012 :  2435758\n",
            "Before speed filtering:  2368990\n",
            "Speeding only violation has records:  1025815\n",
            "# of traffic stops after preprocessing in year  2012 :  760211\n",
            "Optimization terminated successfully.\n",
            "         Current function value: 0.027252\n",
            "         Iterations 10\n",
            "***********************************\n",
            "2013\n",
            "# of all traffic stops in year  2013 :  2134890\n",
            "Before speed filtering:  2076396\n",
            "Speeding only violation has records:  905817\n",
            "# of traffic stops after preprocessing in year  2013 :  673102\n",
            "Optimization terminated successfully.\n",
            "         Current function value: 0.022807\n",
            "         Iterations 10\n",
            "***********************************\n",
            "2014\n",
            "# of all traffic stops in year  2014 :  1878487\n",
            "Before speed filtering:  1820763\n",
            "Speeding only violation has records:  779279\n",
            "# of traffic stops after preprocessing in year  2014 :  579317\n",
            "Optimization terminated successfully.\n",
            "         Current function value: 0.021848\n",
            "         Iterations 10\n",
            "***********************************\n",
            "2015\n",
            "# of all traffic stops in year  2015 :  1745385\n",
            "Before speed filtering:  1683940\n",
            "Speeding only violation has records:  730702\n",
            "# of traffic stops after preprocessing in year  2015 :  543451\n",
            "Optimization terminated successfully.\n",
            "         Current function value: 0.020581\n",
            "         Iterations 10\n",
            "***********************************\n",
            "2016\n",
            "# of all traffic stops in year  2016 :  1832110\n",
            "Before speed filtering:  1832072\n",
            "Speeding only violation has records:  797329\n",
            "# of traffic stops after preprocessing in year  2016 :  599475\n",
            "Optimization terminated successfully.\n",
            "         Current function value: 0.022811\n",
            "         Iterations 10\n"
          ]
        },
        {
          "output_type": "display_data",
          "data": {
            "text/plain": [
              "<Figure size 432x288 with 1 Axes>"
            ],
            "image/png": "[encoded data removed]"
          },
          "metadata": {
            "needs_background": "light"
          }
        }
      ],
      "source": [
        "asianpacific = []\t\n",
        "black = []\t\n",
        "hispanic = []\t\n",
        "\n",
        "asianpacific_low = []\t\n",
        "black_low = []\t\n",
        "hispanic_low = []\n",
        "\n",
        "asianpacific_high = []\t\n",
        "black_high = []\t\n",
        "hispanic_high = []\n",
        "\n",
        "generate_outputs(folder_path ='/content/drive/MyDrive/traffic_stop/output_daytime/', with_vio = False, violation_types = None, speeding_only = True)"
      ]
    },
    {
      "cell_type": "markdown",
      "metadata": {
        "id": "PrYONUhAKtmV"
      },
      "source": [
        "> **SPEEDING-ONLY VIOLATIONS, without violation_type _NIGHT TIME_**"
      ]
    },
    {
      "cell_type": "code",
      "execution_count": 28,
      "metadata": {
        "colab": {
          "base_uri": "https://localhost:8080/",
          "height": 1000
        },
        "id": "gL4zlgA1Ktut",
        "outputId": "9845417b-6351-410b-890d-a4036da68e55"
      },
      "outputs": [
        {
          "output_type": "stream",
          "name": "stdout",
          "text": [
            "***********************************\n",
            "2006\n",
            "# of all traffic stops in year  2006 :  2693894\n",
            "Before speed filtering:  2673511\n",
            "Speeding only violation has records:  1235103\n",
            "# of traffic stops after preprocessing in year  2006 :  411952\n",
            "Optimization terminated successfully.\n",
            "         Current function value: 0.056419\n",
            "         Iterations 9\n",
            "***********************************\n",
            "2007\n",
            "# of all traffic stops in year  2007 :  2427347\n",
            "Before speed filtering:  2405744\n",
            "Speeding only violation has records:  1110868\n",
            "# of traffic stops after preprocessing in year  2007 :  372564\n",
            "Optimization terminated successfully.\n",
            "         Current function value: 0.055460\n",
            "         Iterations 9\n",
            "***********************************\n",
            "2008\n",
            "# of all traffic stops in year  2008 :  2526783\n",
            "Before speed filtering:  2434970\n",
            "Speeding only violation has records:  1114925\n",
            "# of traffic stops after preprocessing in year  2008 :  377089\n",
            "Optimization terminated successfully.\n",
            "         Current function value: 0.049938\n",
            "         Iterations 9\n",
            "***********************************\n",
            "2009\n",
            "# of all traffic stops in year  2009 :  2441306\n",
            "Before speed filtering:  2370986\n",
            "Speeding only violation has records:  1093968\n",
            "# of traffic stops after preprocessing in year  2009 :  361821\n",
            "Optimization terminated successfully.\n",
            "         Current function value: 0.042773\n",
            "         Iterations 10\n",
            "***********************************\n",
            "2010\n",
            "# of all traffic stops in year  2010 :  2525296\n",
            "Before speed filtering:  2452498\n",
            "Speeding only violation has records:  1085945\n",
            "# of traffic stops after preprocessing in year  2010 :  356423\n",
            "Optimization terminated successfully.\n",
            "         Current function value: 0.042429\n",
            "         Iterations 10\n",
            "***********************************\n",
            "2011\n",
            "# of all traffic stops in year  2011 :  2588004\n",
            "Before speed filtering:  2511664\n",
            "Speeding only violation has records:  1085781\n",
            "# of traffic stops after preprocessing in year  2011 :  330640\n",
            "Optimization terminated successfully.\n",
            "         Current function value: 0.040460\n",
            "         Iterations 10\n",
            "***********************************\n",
            "2012\n",
            "# of all traffic stops in year  2012 :  2435758\n",
            "Before speed filtering:  2368990\n",
            "Speeding only violation has records:  1025815\n",
            "# of traffic stops after preprocessing in year  2012 :  263572\n",
            "Optimization terminated successfully.\n",
            "         Current function value: 0.035932\n",
            "         Iterations 10\n",
            "***********************************\n",
            "2013\n",
            "# of all traffic stops in year  2013 :  2134890\n",
            "Before speed filtering:  2076396\n",
            "Speeding only violation has records:  905817\n",
            "# of traffic stops after preprocessing in year  2013 :  230376\n",
            "Optimization terminated successfully.\n",
            "         Current function value: 0.031424\n",
            "         Iterations 10\n",
            "***********************************\n",
            "2014\n",
            "# of all traffic stops in year  2014 :  1878487\n",
            "Before speed filtering:  1820763\n",
            "Speeding only violation has records:  779279\n",
            "# of traffic stops after preprocessing in year  2014 :  197955\n",
            "Optimization terminated successfully.\n",
            "         Current function value: 0.029925\n",
            "         Iterations 10\n",
            "***********************************\n",
            "2015\n",
            "# of all traffic stops in year  2015 :  1745385\n",
            "Before speed filtering:  1683940\n",
            "Speeding only violation has records:  730702\n",
            "# of traffic stops after preprocessing in year  2015 :  184760\n",
            "Optimization terminated successfully.\n",
            "         Current function value: 0.028401\n",
            "         Iterations 11\n",
            "***********************************\n",
            "2016\n",
            "# of all traffic stops in year  2016 :  1832110\n",
            "Before speed filtering:  1832072\n",
            "Speeding only violation has records:  797329\n",
            "# of traffic stops after preprocessing in year  2016 :  197120\n",
            "Optimization terminated successfully.\n",
            "         Current function value: 0.028673\n",
            "         Iterations 10\n"
          ]
        },
        {
          "output_type": "display_data",
          "data": {
            "text/plain": [
              "<Figure size 432x288 with 1 Axes>"
            ],
            "image/png": "[encoded data removed]"
          },
          "metadata": {
            "needs_background": "light"
          }
        }
      ],
      "source": [
        "asianpacific = []\t\n",
        "black = []\t\n",
        "hispanic = []\t\n",
        "\n",
        "asianpacific_low = []\t\n",
        "black_low = []\t\n",
        "hispanic_low = []\n",
        "\n",
        "asianpacific_high = []\t\n",
        "black_high = []\t\n",
        "hispanic_high = []\n",
        "\n",
        "generate_outputs2(folder_path ='/content/drive/MyDrive/traffic_stop/output_daytime/', with_vio = False, violation_types = None, speeding_only = True)"
      ]
    }
  ],
  "metadata": {
    "colab": {
      "provenance": []
    },
    "kernelspec": {
      "display_name": "Python 3",
      "name": "python3"
    },
    "language_info": {
      "name": "python"
    }
  },
  "nbformat": 4,
  "nbformat_minor": 0
}