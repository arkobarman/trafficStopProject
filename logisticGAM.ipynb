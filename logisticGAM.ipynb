{
 "cells": [
  {
   "cell_type": "code",
   "execution_count": 1,
   "metadata": {},
   "outputs": [],
   "source": [
    "import utils\n",
    "import numpy as np\n",
    "import pandas as pd\n",
    "import datetime\n",
    "import matplotlib.pyplot as plt\n",
    "from sklearn.model_selection import train_test_split\n",
    "from sklearn.preprocessing import OneHotEncoder\n",
    "from pygam import LogisticGAM\n",
    "\n",
    "%matplotlib notebook\n",
    "\n",
    "# Automating the proess of finding the filename\n",
    "dataFolder = 'data'\n",
    "plotsFolder = 'plots'\n",
    "state = 'TX'\n",
    "policeDept = 'statewide' # 'statewide' means state patrol\n",
    "\n",
    "# Choose column names to load\n",
    "colNamesList = ['date', \n",
    "                'subject_race', \n",
    "                'citation_issued']"
   ]
  },
  {
   "cell_type": "code",
   "execution_count": 2,
   "metadata": {},
   "outputs": [],
   "source": [
    "# Automating the creation of rowName:dtype dict\n",
    "# This throws up a lot of stupid warnings/errors right now!\n",
    "# df = pd.read_csv(csvFilepath, nrows=5, names=colNamesList)\n",
    "# dtypeDict = df.dtypes.to_dict()\n",
    "# dtypeDict\n",
    "\n",
    "dtypeDict = {'raw_row_number': 'int64', \n",
    "             'date': 'object',\n",
    "             'time': 'object',\n",
    "             'location': 'object',\n",
    "             'lat': 'float64',\n",
    "             'lng': 'float64',\n",
    "             'county_name': 'object',\n",
    "             'district': 'object',\n",
    "             'precinct': 'object',\n",
    "             'region': 'float64',\n",
    "             'subject_race': 'object',\n",
    "             'subject_sex': 'object',\n",
    "             'officer_id_hash': 'object',\n",
    "             'type': 'object',\n",
    "             'violation': 'object',\n",
    "             'citation_issued': 'bool',\n",
    "             'warning_issued': 'bool',\n",
    "             'outcome': 'object',\n",
    "             'contraband_found': 'object',\n",
    "             'contraband_drugs': 'object',\n",
    "             'contraband_weapons': 'object',\n",
    "             'search_conducted': 'object',\n",
    "             'search_vehicle': 'object',\n",
    "             'search_basis': 'object',\n",
    "             'vehicle_color': 'object',\n",
    "             'vehicle_make': 'object',\n",
    "             'vehicle_model': 'object',\n",
    "             'vehicle_type': 'object',\n",
    "             'vehicle_year': 'float64',\n",
    "             'raw_HA_RACE_SEX': 'object',\n",
    "             'raw_HA_SEARCH_PC_boolean': 'object',\n",
    "             'raw_HA_SEARCH_CONCENT_boolean': 'object',\n",
    "             'raw_HA_INCIDTO_ARREST_boolean': 'object',\n",
    "             'raw_HA_VEHICLE_INVENT_boolean': 'object'}\n",
    "\n",
    "\n",
    "        \n",
    "# search_vehicle only has False and nan\n",
    "# type is just vehicular\n",
    "# violation column is of interest - reason for stop (split by |?)"
   ]
  },
  {
   "cell_type": "code",
   "execution_count": 3,
   "metadata": {},
   "outputs": [],
   "source": [
    "df = utils.load_data(dataFolder, state, policeDept, dtypeDict=dtypeDict, colNames=colNamesList)\n",
    "df = utils.remove_empty_rows(df, 'subject_race')"
   ]
  },
  {
   "cell_type": "code",
   "execution_count": 4,
   "metadata": {},
   "outputs": [],
   "source": [
    "df['date'] = pd.to_datetime(df['date']).dt.year\n",
    "df.columns = ['year' if x=='date' else x for x in df.columns]"
   ]
  },
  {
   "cell_type": "code",
   "execution_count": 5,
   "metadata": {},
   "outputs": [
    {
     "name": "stdout",
     "output_type": "stream",
     "text": [
      "2006 2673511\n",
      "2007 2405744\n",
      "2008 2434970\n",
      "2009 2370986\n",
      "2010 2452498\n",
      "2011 2511664\n",
      "2012 2368995\n",
      "2013 2076401\n",
      "2014 1820773\n",
      "2015 1683954\n",
      "2016 1832113\n",
      "2017 2197362\n"
     ]
    }
   ],
   "source": [
    "for year in df.year.unique():\n",
    "    print(year, len(df[df['year']==year]))"
   ]
  },
  {
   "cell_type": "markdown",
   "metadata": {},
   "source": [
    "# Create Train/Test sets for one year"
   ]
  },
  {
   "cell_type": "code",
   "execution_count": 6,
   "metadata": {},
   "outputs": [
    {
     "name": "stdout",
     "output_type": "stream",
     "text": [
      "(1867757, 5) (1867757,) (329605, 5) (329605,)\n"
     ]
    }
   ],
   "source": [
    "year = 2017\n",
    "year_df = df[df['year'] == year]\n",
    "\n",
    "X = np.array(year_df['subject_race']).reshape(-1,1)\n",
    "y = np.array(year_df['citation_issued']).astype(int)\n",
    "\n",
    "enc = OneHotEncoder(categories=[df['subject_race'].unique().tolist()])\n",
    "enc.fit(X)\n",
    "X = enc.transform(X)\n",
    "\n",
    "X_train, X_test, y_train, y_test = train_test_split(X, y, test_size=0.15, random_state=0)\n",
    "print(X_train.shape, y_train.shape, X_test.shape, y_test.shape)"
   ]
  },
  {
   "cell_type": "markdown",
   "metadata": {},
   "source": [
    "# Logistic GAM"
   ]
  },
  {
   "cell_type": "code",
   "execution_count": 9,
   "metadata": {},
   "outputs": [],
   "source": [
    "gam = LogisticGAM().fit(X_train.todense()[:90000], y_train[:90000])"
   ]
  },
  {
   "cell_type": "code",
   "execution_count": 10,
   "metadata": {},
   "outputs": [
    {
     "data": {
      "text/plain": [
       "0.6337444444444444"
      ]
     },
     "execution_count": 10,
     "metadata": {},
     "output_type": "execute_result"
    }
   ],
   "source": [
    "# training accuracy\n",
    "y_train_pred = gam.predict(X_train.todense()[:90000])\n",
    "np.mean(y_train_pred == y_train[:90000])"
   ]
  },
  {
   "cell_type": "code",
   "execution_count": 11,
   "metadata": {},
   "outputs": [
    {
     "data": {
      "text/plain": [
       "0.635724579420822"
      ]
     },
     "execution_count": 11,
     "metadata": {},
     "output_type": "execute_result"
    }
   ],
   "source": [
    "# testing accuracy\n",
    "y_test_pred = gam.predict(X_test.todense())\n",
    "np.mean(y_test_pred == y_test)"
   ]
  },
  {
   "cell_type": "code",
   "execution_count": null,
   "metadata": {},
   "outputs": [],
   "source": []
  }
 ],
 "metadata": {
  "kernelspec": {
   "display_name": "Python 3",
   "language": "python",
   "name": "python3"
  },
  "language_info": {
   "codemirror_mode": {
    "name": "ipython",
    "version": 3
   },
   "file_extension": ".py",
   "mimetype": "text/x-python",
   "name": "python",
   "nbconvert_exporter": "python",
   "pygments_lexer": "ipython3",
   "version": "3.8.5"
  }
 },
 "nbformat": 4,
 "nbformat_minor": 4
}
