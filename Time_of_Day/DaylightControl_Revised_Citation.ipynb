{
  "nbformat": 4,
  "nbformat_minor": 0,
  "metadata": {
    "colab": {
      "provenance": []
    },
    "kernelspec": {
      "name": "python3",
      "display_name": "Python 3"
    },
    "language_info": {
      "name": "python"
    }
  },
  "cells": [
    {
      "cell_type": "markdown",
      "source": [
        "This notebook contains code for running logistic regression with & without violation type as variables, and filtering to speeding only records. The target variable is **citation issued**."
      ],
      "metadata": {
        "id": "FsHTMCdXO-X5"
      }
    },
    {
      "cell_type": "markdown",
      "source": [
        "> *Import Libraries and Mount Drive*\n",
        "\n",
        "\n"
      ],
      "metadata": {
        "id": "NkWFKrHFPOqP"
      }
    },
    {
      "cell_type": "code",
      "execution_count": 1,
      "metadata": {
        "id": "h9K3lsaaO4tm",
        "colab": {
          "base_uri": "https://localhost:8080/"
        },
        "outputId": "387ccf1e-8662-4f2f-c9c9-3ad1f3d0065a"
      },
      "outputs": [
        {
          "output_type": "stream",
          "name": "stdout",
          "text": [
            "Looking in indexes: https://pypi.org/simple, https://us-python.pkg.dev/colab-wheels/public/simple/\n",
            "Collecting suntime\n",
            "  Downloading suntime-1.2.5-py3-none-any.whl (7.2 kB)\n",
            "Requirement already satisfied: python-dateutil in /usr/local/lib/python3.7/dist-packages (from suntime) (2.8.2)\n",
            "Requirement already satisfied: six>=1.5 in /usr/local/lib/python3.7/dist-packages (from python-dateutil->suntime) (1.15.0)\n",
            "Installing collected packages: suntime\n",
            "Successfully installed suntime-1.2.5\n"
          ]
        }
      ],
      "source": [
        "! pip install suntime\n",
        "import datetime\n",
        "from suntime import Sun\n",
        "import pytz\n",
        "###############\n",
        "import pandas as pd\n",
        "import numpy as np\n",
        "import matplotlib.pyplot as plt\n",
        "import seaborn as sns\n",
        "import statsmodels.api as sm\n",
        "import os\n",
        "import warnings\n",
        "warnings.filterwarnings(\"ignore\")"
      ]
    },
    {
      "cell_type": "code",
      "source": [
        "from google.colab import drive\n",
        "drive.mount('/content/drive')"
      ],
      "metadata": {
        "colab": {
          "base_uri": "https://localhost:8080/"
        },
        "id": "6Q_3fvdqPGfK",
        "outputId": "bf4dc4aa-03bf-48a7-bf01-435e1de98186"
      },
      "execution_count": 4,
      "outputs": [
        {
          "output_type": "stream",
          "name": "stdout",
          "text": [
            "Mounted at /content/drive\n"
          ]
        }
      ]
    },
    {
      "cell_type": "markdown",
      "source": [
        "> *Data Format: split data file based on year, one parquet file per year* -> **RUN THIS ONLY ONCE**"
      ],
      "metadata": {
        "id": "TcoRNro_WoEP"
      }
    },
    {
      "cell_type": "code",
      "source": [
        "# # SPECIFY DATA PATH HERE\n",
        "# path = '/content/drive/MyDrive/traffic_stop/traffic.parquet'\n",
        "# data = pd.read_parquet(path, engine = 'pyarrow')"
      ],
      "metadata": {
        "id": "wMan1uz5Wp2V"
      },
      "execution_count": null,
      "outputs": []
    },
    {
      "cell_type": "code",
      "source": [
        "# data['year'] = pd.DatetimeIndex(data['date']).year\n",
        "# year_start= min(data['year'].unique())\n",
        "# year_end= max(data['year'].unique())\n",
        "# #year_start = 2006\n",
        "# #year_end = 2017\n",
        "# years = list(range(year_start, year_end + 1))\n",
        "# # split data file based on year\n",
        "# for year in years:\n",
        "#   data_write = data[data['year'] == year]\n",
        "#   file_name = 'traffic_' + str(year)\n",
        "#   # SPECIFY DATA PATH FOR YEARLY DATA FILE HERE\n",
        "#   year_path = '/content/drive/MyDrive/traffic_stop/year_data/' + file_name + '.parquet'\n",
        "#   data_write.to_parquet(year_path, engine='pyarrow')"
      ],
      "metadata": {
        "id": "6RUDsUnyWsNl"
      },
      "execution_count": null,
      "outputs": []
    },
    {
      "cell_type": "markdown",
      "source": [
        "> *Sanity Check and Get Parameters*"
      ],
      "metadata": {
        "id": "NRmK005GPaje"
      }
    },
    {
      "cell_type": "code",
      "source": [
        "# columns we need in the analysis\n",
        "keep_col = [\n",
        "            'county_name', \n",
        "            'subject_race',\n",
        "            'subject_sex',\n",
        "            'violation', \n",
        "            'citation_issued'\n",
        "            ]\n",
        "\n",
        "def sanity_check(year):\n",
        "  df = pd.read_parquet(path = '/content/drive/MyDrive/traffic_stop/year_data_daylight/' + str(year) + '.parquet')\n",
        "\n",
        "  # print columns, check if the columns we need are in the data\n",
        "  print('****************************')\n",
        "  print('Columns in the data: ')\n",
        "  print(df.columns)\n",
        "  print('****************************')\n",
        "  print(\"The shape of the entire dataframe:\", df.shape)\n",
        "  print(\"The shape of the dataframe with the necessary columns:\", df[keep_col].shape)\n",
        "  # check missing value proportions\n",
        "  print('Missing value proportions for columns that we need:')\n",
        "  percent_missing = df[keep_col].isnull().sum() * 100 / len(df)\n",
        "  #missing_value_df = pd.DataFrame({'column_name': df[keep_col].columns,\n",
        "                                 #'percent_missing': percent_missing})\n",
        "  print(percent_missing)\n",
        "  print('****************************')\n",
        "  # check distribution of citation, race, and sex: make sure it is a relatively representative sample\n",
        "  print(df['citation_issued'].value_counts(dropna = False))\n",
        "  print('****************************')\n",
        "  print(df['subject_sex'].value_counts(dropna = False))\n",
        "  print('****************************')\n",
        "  print(df['subject_race'].value_counts(dropna = False))\n",
        "  print('****************************')\n",
        "  print(df['sunset'].value_counts(dropna = False))\n",
        "  print('****************************')\n",
        "  print(df['sunrise'].value_counts(dropna = False))\n",
        "  print('****************************')\n",
        "  print(df['time_str'].value_counts(dropna = False))\n",
        "  print('****************************')\n",
        "  print(df['daytime'].value_counts(dropna = False))"
      ],
      "metadata": {
        "id": "AL0XOtl_PlZu"
      },
      "execution_count": 5,
      "outputs": []
    },
    {
      "cell_type": "code",
      "source": [
        "def daytime_check(year):\n",
        "  df = pd.read_parquet(path = '/content/drive/MyDrive/traffic_stop/year_data_daylight/' + str(year) + '.parquet')\n",
        "\n",
        "\n",
        "  # print(df.columns)\n",
        "  # print('****************************')\n",
        "  # print(df['sunset'].value_counts(dropna = False))\n",
        "  # print('****************************')\n",
        "  # print(df['sunrise'].value_counts(dropna = False))\n",
        "  # print('****************************')\n",
        "  # print(df['time_str'].value_counts(dropna = False))\n",
        "  # print('****************************')\n",
        "  print(df['daytime'].value_counts(dropna = False))"
      ],
      "metadata": {
        "id": "JfdLRTAB2ksc"
      },
      "execution_count": 6,
      "outputs": []
    },
    {
      "cell_type": "code",
      "source": [
        "# def sunrise_sunset(row,rise_set):\n",
        "#   \"\"\"\n",
        "#   lat and lnt: latitude and longitude, float\n",
        "#   dat: datetime.date object\n",
        "#   rise_set: if 'sunrise': return sunrise time, if 'sunset': return sunset time\n",
        "#   return: return the sunrise/sunset time\n",
        "#   \"\"\"\n",
        "#   #sunrise_sunset(lat,lng,dat,rise_set)\n",
        "#   lat = row['lat']\n",
        "#   lng = row['lng']\n",
        "#   dat = row['date']\n",
        "#   sun = Sun(lat, lng)\n",
        "#   # timezone for texas\n",
        "#   tz = pytz.timezone('US/Central')\n",
        "#   # Get one day's sunrise and sunset in UTC\n",
        "#   if rise_set == 'sunset':\n",
        "#     sunset_utc = sun.get_local_sunset_time(dat)\n",
        "#     sunset_cst = sunset_utc.astimezone(tz)\n",
        "#     sunset_cst = sunset_cst.strftime('%H:%M:%S')\n",
        "#     return sunset_cst\n",
        "\n",
        "#   if rise_set == 'sunrise':\n",
        "#     sunrise_utc = sun.get_local_sunrise_time(dat)\n",
        "#     sunrise_cst = sunrise_utc.astimezone(tz)\n",
        "#     sunrise_cst = sunrise_cst.strftime('%H:%M:%S')\n",
        "#     return sunrise_cst"
      ],
      "metadata": {
        "id": "Y7Rt4ZEV5346"
      },
      "execution_count": null,
      "outputs": []
    },
    {
      "cell_type": "code",
      "source": [
        "# def add_daylight(df,county_info):\n",
        "#   \"\"\"\n",
        "#   INPUT:\n",
        "#   df: traffic stop dataframe\n",
        "#   county_info: county->lat/lng dataframe\n",
        "#   OUTPUT: \n",
        "#   dataframe with a new column of daytime: 1 if daytime 0 if \n",
        "#   NOTE:\n",
        "#   if a row(records) does not have either county info or latitude/longitude info, it will be deleted\n",
        "#   \"\"\"\n",
        "#   # read in county_info\n",
        "#   county_info = pd.read_csv('/content/drive/MyDrive/traffic_stop/table_county.csv')\n",
        "  \n",
        "#   # preprocessing county_info dataframe\n",
        "#   # minus sign, delete celsius sign\n",
        "#   county_info['Longitude'] = county_info['Longitude'].map(lambda x: '-' + x[1:])\n",
        "#   for col in ['Latitude','Longitude']:\n",
        "#     county_info[col] = county_info[col].map(lambda x: x[:-1])\n",
        "#     county_info[col] = county_info[col].astype('float')\n",
        "\n",
        "#   # we are focusing on Texas\n",
        "#   county_info = county_info.loc[county_info['State'] == 'TX',:]\n",
        "\n",
        "#   # 1) select rows with missing values in latitude/longitude, but having county info -> needs processing\n",
        "#   cols = ['lat','lng']\n",
        "#   mask = df[cols].isna().any(axis=1)\n",
        "#   df_c = df[mask]\n",
        "#   df_c = df_c.loc[df_c['county_name'].notna(),:]\n",
        "\n",
        "#   # 2) select rows with latitude & longitude values\n",
        "#   df_complete = df.loc[(df['lat'].notna())&(df['lng'].notna())]\n",
        "\n",
        "#   # make a 'new_county' column to correspond to the identifiers in the county_info csv\n",
        "#   df_c['new_county'] = df_c['county_name'].map(lambda x: x.replace(' County', ''))\n",
        "#   df_c['new_county'] = df_c['new_county'].replace('Dewitt','DeWitt')\n",
        "\n",
        "#   # rename county info's column\n",
        "#   county_info = county_info[['State','County [2]','Latitude','Longitude']]\n",
        "#   county_info.rename(columns={\"County [2]\": \"county\"}, inplace = True)\n",
        "\n",
        "#   # fill in missing latitude and longitude with county info\n",
        "#   df_merged = df_c.merge(county_info, how = 'inner', left_on = 'new_county', right_on = 'county')\n",
        "#   df_merged['lat'].fillna(df_merged['Latitude'], inplace = True)\n",
        "#   df_merged['lng'].fillna(df_merged['Longitude'], inplace = True)\n",
        "\n",
        "#   # merged the two dfs: 2) originally with lat/lng and 1) without but filled based on county info\n",
        "#   df_merged.drop(['new_county','State','county','Latitude','Longitude'], axis = 1, inplace = True)\n",
        "#   df = pd.concat([df_complete,df_merged], ignore_index=True)\n",
        "  \n",
        "#   #for col in ['lat','lng']:\n",
        "#     #df[col].astype('float')\n",
        "\n",
        "#   # add 'daytime' column: 1 means during daylight, 0 means darkness\n",
        "#   df['sunset'] = df.apply(lambda row: sunrise_sunset(row,'sunset'),axis=1)\n",
        "#   df['sunrise'] = df.apply(lambda row: sunrise_sunset(row,'sunrise'),axis = 1)\n",
        "#   df['time_str'] = df['time'].astype(str)\n",
        "#   df['daytime'] = df.apply(lambda row: 1 if (row['sunrise'] < row['time_str']) & (row['sunset'] > row['time_str']) else 0,axis = 1)\n",
        "\n",
        "#   return df\n"
      ],
      "metadata": {
        "id": "y4y61exdr4uH"
      },
      "execution_count": null,
      "outputs": []
    },
    {
      "cell_type": "code",
      "source": [
        "# years = []\n",
        "# county_info = pd.read_csv('/content/drive/MyDrive/traffic_stop/table_county.csv')\n",
        "# for i in range(2006, 2018):\n",
        "#   years.append(i)\n",
        "\n",
        "# for year in years:\n",
        "#   df_temp = pd.read_parquet('/content/drive/MyDrive/traffic_stop/year_data/traffic_' + str(year) + '.parquet')\n",
        "#   if year == 2013:\n",
        "#     df_temp.drop(df_temp.index[df_temp['lat'] == 74.052879], inplace=True)\n",
        "#   df_processed = add_daylight(df_temp,county_info)\n",
        "#   path = '/content/drive/MyDrive/traffic_stop/year_data_daylight/' + str(year) + '.parquet'\n",
        "#   df_processed.to_parquet(path, engine='pyarrow')"
      ],
      "metadata": {
        "id": "rfhLDY6KsFzt"
      },
      "execution_count": null,
      "outputs": []
    },
    {
      "cell_type": "markdown",
      "source": [
        "> **Logistic Regression Without Violation Types**\n",
        " 1.   variables included: race variables, metropolitan, gender\n",
        "\n",
        "> **Logistic Regression With Violation Types**\n",
        "1. variables included: race variables, metropolitan, gender, violation type dummies (common type dummies + 'others' category)\n",
        "2. common violation types defined based on 'threshold' parameter: # of records required in each year\n",
        "\n",
        "> **Logistic Regression With Speeding-only records**\n",
        "1. variables included: race variables, metropolitan, gender\n",
        "2. filter rows to include speeding-only violations"
      ],
      "metadata": {
        "id": "dacSV_WlP-JL"
      }
    },
    {
      "cell_type": "code",
      "source": [
        "def single_vio_types(threshold, year_start, year_end):\n",
        "  \"\"\"\n",
        "  data format: violation type in data end with ' (#)'; more than 1 violation types: 'A|B'\n",
        "  returns a list of violation types with # of single violation records > threshold every year\n",
        "  \"\"\"\n",
        "  year_present_vios = {}\n",
        "  years = list(range(year_start, year_end + 1))\n",
        "\n",
        "  # get number of years in which a specific violation having # of single violation records more than threshold\n",
        "\n",
        "  for year in years:\n",
        "    print('Processing: ',year)\n",
        "    df = pd.read_parquet('/content/drive/MyDrive/traffic_stop/year_data_daylight/' + str(year) + '.parquet')\n",
        "\n",
        "    cnt_df = pd.DataFrame(df['violation'].value_counts(dropna=False))\n",
        "    \n",
        "    cnt_df = cnt_df.loc[cnt_df['violation'] > threshold]\n",
        "    single_vio_lst = [vio for vio in list(cnt_df.index) if '|' not in vio]\n",
        "\n",
        "    for vio in single_vio_lst:\n",
        "      if vio not in year_present_vios:\n",
        "        year_present_vios[vio] = 1\n",
        "      else:\n",
        "        year_present_vios[vio] += 1\n",
        "\n",
        "  vio_type_all = []\n",
        "  for vio, cnt in year_present_vios.items():\n",
        "    if cnt == len(years):\n",
        "      vio_type_all.append(vio)\n",
        "  vio_type_all = [vio.replace(' (#)', '').strip() for vio in vio_type_all]\n",
        "\n",
        "  return vio_type_all"
      ],
      "metadata": {
        "id": "M9qf6ItcP5We"
      },
      "execution_count": 7,
      "outputs": []
    },
    {
      "cell_type": "code",
      "source": [
        "year_start = 2006\n",
        "year_end = 2017\n",
        "# vio_vars used in preprocessing()\n",
        "vio_vars = single_vio_types(threshold = 5000, year_start = year_start, year_end = year_end)\n",
        "print(\"# of single violation types: \", len(vio_vars))\n",
        "vio_vars"
      ],
      "metadata": {
        "colab": {
          "base_uri": "https://localhost:8080/"
        },
        "id": "tkNthBVfQo9c",
        "outputId": "9974a7fa-2620-4c5c-d1c1-639f909dc547"
      },
      "execution_count": 8,
      "outputs": [
        {
          "output_type": "stream",
          "name": "stdout",
          "text": [
            "Processing:  2006\n",
            "Processing:  2007\n",
            "Processing:  2008\n",
            "Processing:  2009\n",
            "Processing:  2010\n",
            "Processing:  2011\n",
            "Processing:  2012\n",
            "Processing:  2013\n",
            "Processing:  2014\n",
            "Processing:  2015\n",
            "Processing:  2016\n",
            "Processing:  2017\n",
            "# of single violation types:  22\n"
          ]
        },
        {
          "output_type": "execute_result",
          "data": {
            "text/plain": [
              "['Speeding Over Limit',\n",
              " 'Speeding-10% or More Above Posted Speed',\n",
              " 'No/Improper License Plate Lamp',\n",
              " 'Ride, Not Secured By Safety Belt-Driver (12-1-85)',\n",
              " 'Operate Motor Vehicle Without License Plates (Or With One Plate)',\n",
              " 'No/Non-Compliant Head Lamps',\n",
              " 'Improperly Placed Or Obstructed License Plate',\n",
              " 'Display Expired License Plates/Registration',\n",
              " 'No/Improper Mud Flap',\n",
              " 'No/Improper Tail Lamp - not Motorcycle',\n",
              " 'Following Too Closely',\n",
              " 'Drive On Improved Shoulder When Prohibited',\n",
              " 'Fail To Signal Lane Change',\n",
              " 'Disregard Stop Sign',\n",
              " 'Fail To Drive In Single Lane',\n",
              " 'Ride, Not Secured By Safety Belt-Passenger (When Required)',\n",
              " 'Fail to Move Over or Slow Down for Certain Vehicles',\n",
              " 'Inoperable/Obscured Stop Lamp(s)',\n",
              " 'Use Of Vision Reducing Matter On Windows - Glass Coating Material',\n",
              " 'Unsafe Speed',\n",
              " 'Fail To Control Speed',\n",
              " 'Drive in Left Lane When Not Passing or Where Prohibited']"
            ]
          },
          "metadata": {},
          "execution_count": 8
        }
      ]
    },
    {
      "cell_type": "code",
      "source": [
        "# this function is called by preprocess(year, keep_col, rm_na_col, violation_types)\n",
        "def get_vio_df(violation_types, vio_col):\n",
        "  \"\"\"\n",
        "  function to generate dummy encoding of violation types\n",
        "  PARAMS:\n",
        "  violation_types: single violation types with # of records each year > threshold, obtained from single_vio_types(threshold, year_start, year_end)\n",
        "  vio_col: violation type column in data file\n",
        "  \"\"\"\n",
        "\n",
        "  vio_df_dict  = {vio: [] for vio in violation_types}\n",
        "  vio_df_dict['others'] = []\n",
        "\n",
        "  for vio in vio_col:\n",
        "    vio_lst = vio.split('|')\n",
        "    vio_lst = [vio.replace(' (#)', '').strip() for vio in vio_lst]\n",
        "    # if single violation\n",
        "    if len(vio_lst) == 1:\n",
        "      vio = vio.replace(' (#)', '').strip()\n",
        "      # if vio in violation_types\n",
        "      if vio in violation_types:\n",
        "        vio_df_dict[vio].append(1)\n",
        "        vio_df_dict['others'].append(0)\n",
        "        for vio_var in violation_types:\n",
        "          if vio_var != vio:\n",
        "            vio_df_dict[vio_var].append(0)\n",
        "\n",
        "      # if vio not in violation_types\n",
        "      else:\n",
        "        vio_df_dict['others'].append(1)\n",
        "        for vio_var in violation_types:\n",
        "          vio_df_dict[vio_var].append(0)\n",
        "    \n",
        "    # if multiple violations\n",
        "    if len(vio_lst) > 1:\n",
        "\n",
        "      # for single vio variables\n",
        "      for vio_var in violation_types:\n",
        "        # if has one of violation_types\n",
        "        if vio_var in vio_lst:\n",
        "          vio_df_dict[vio_var].append(1)\n",
        "        # if violation_type not present\n",
        "        else:\n",
        "          vio_df_dict[vio_var].append(0)\n",
        "\n",
        "      # for the 'others' variable\n",
        "      # if have one vio not in violation_types, 'other' = 1\n",
        "      vars_vio_cnt = 0\n",
        "      for violation in vio_lst:\n",
        "        if violation not in violation_types:\n",
        "          vio_df_dict['others'].append(1)\n",
        "          break\n",
        "        else:\n",
        "          vars_vio_cnt += 1\n",
        "      # if all violations of this record in violation_types\n",
        "      if vars_vio_cnt == len(vio_lst):\n",
        "        vio_df_dict['others'].append(0)\n",
        "\n",
        "  vio_df = pd.DataFrame(vio_df_dict)\n",
        "  vio_df['violation'] = vio_col.values\n",
        "\n",
        "  return vio_df"
      ],
      "metadata": {
        "id": "D4Buk6vjQrC6"
      },
      "execution_count": 9,
      "outputs": []
    },
    {
      "cell_type": "markdown",
      "source": [
        "> *Function to help filter speeding-only: speeding_filter() used in preprocess()*"
      ],
      "metadata": {
        "id": "5cj7JOWmQv5p"
      }
    },
    {
      "cell_type": "code",
      "source": [
        "def remove_duplicates(row):\n",
        "  if row['speeding_only'] == 'speeding-repeated_entries':\n",
        "    return row['all_violation'][0].strip()\n",
        "  else:\n",
        "    return row['violation']\n",
        "\n",
        "def remove_white_spaces(vio_lst):\n",
        "  vio_lst = [x.strip() for x in vio_lst]\n",
        "  return vio_lst\n",
        "  \n",
        "def exclusive(vio_lst):\n",
        "  count = 0\n",
        "  for vio in vio_lst:\n",
        "    # count number of violations containing 'speed'\n",
        "    if 'speed' in vio:\n",
        "      count += 1\n",
        "  # if we have non-speeding violation\n",
        "  if count < len(vio_lst):\n",
        "    return 'speeding + others'\n",
        "  # if we only have speeding violation\n",
        "  elif count == len(vio_lst):\n",
        "    # if one speeding vio type\n",
        "    if count == 1:\n",
        "      return 'speeding-1'\n",
        "    # if we have more than one entries but only one type\n",
        "    elif len(set(vio_lst)) == 1:\n",
        "      return 'speeding-repeated_entries'\n",
        "    # if we have more than one type\n",
        "    else:\n",
        "      return 'speeding-multiple'\n",
        "  else:\n",
        "    return 'undefined case'"
      ],
      "metadata": {
        "id": "K3jsTYAMQus4"
      },
      "execution_count": 10,
      "outputs": []
    },
    {
      "cell_type": "code",
      "source": [
        "def speeding_filter(df):\n",
        "  print('Before speed filtering: ', len(df))\n",
        "  df['violation'] = [s.lower() for s in df['violation']]\n",
        "  # at least one violation is speeding-violated (could have other violations at the same time)\n",
        "  df = df.loc[df['violation'].str.contains('speed', regex = False),:]\n",
        "  df['violation'] = df['violation'].map(lambda x: x.replace('(#)',''))\n",
        "  df['violation'] = df['violation'].map(lambda x: x.strip())\n",
        "\n",
        "  # get a list of violations for each record, and apply self-defined func exclusive\n",
        "  df['all_violation'] = df['violation'].str.split('|')\n",
        "  df['all_violation'] = df['all_violation'].map(lambda x: remove_white_spaces(x))\n",
        "  df['speeding_only'] = df['all_violation'].map(lambda x: exclusive(x))\n",
        "\n",
        "  # filter out rows with violations other than speeding\n",
        "  df = df.loc[df['speeding_only'].isin(['speeding-repeated_entries','speeding-1','speeding-multiple']),:]\n",
        "\n",
        "  df['violation'] = df.apply(lambda row: remove_duplicates(row), axis = 1)\n",
        "\n",
        "  df.drop(['all_violation','speeding_only'], axis = 1, inplace = True)\n",
        "  print('Speeding only violation has records: ', len(df))\n",
        "  return df"
      ],
      "metadata": {
        "id": "8VdFKUEbQ79U"
      },
      "execution_count": 11,
      "outputs": []
    },
    {
      "cell_type": "code",
      "source": [
        "# columns we need in the analysis\n",
        "keep_col = [\n",
        "            'county_name', \n",
        "            'subject_race',\n",
        "            'subject_sex',\n",
        "            'violation', \n",
        "            'citation_issued',\n",
        "            'daytime'\n",
        "            ]\n",
        "\n",
        "# delete rows with missing value in these columns           \n",
        "rm_na_col = ['county_name','violation','subject_race','subject_sex']\n",
        "\n",
        "# this function is called by preprocess\n",
        "def remove_empty_rows(df, colName):\n",
        "\tdf = df[df[colName] != 'unknown']\n",
        "\tdf = df[df[colName].notna()]\n",
        "\treturn(df)"
      ],
      "metadata": {
        "id": "etg0W8guQ97A"
      },
      "execution_count": 12,
      "outputs": []
    },
    {
      "cell_type": "markdown",
      "source": [
        "The whole **metropolitan block** needs to change: the new state's data file path and preprocessing and join."
      ],
      "metadata": {
        "id": "wJOIBaRLRAzT"
      }
    },
    {
      "cell_type": "markdown",
      "source": [
        "**DAY TIME**"
      ],
      "metadata": {
        "id": "0veMlvR_8mar"
      }
    },
    {
      "cell_type": "code",
      "source": [
        "### this function used in run_year_analysis()\n",
        "def preprocess(year, keep_col, rm_na_col, with_vio = False, violation_types=None, speeding_only = False):\n",
        "  \"\"\"\n",
        "  with_vio: if include vioation type variables: True, if not include, False\n",
        "  violation_types: violation types to be included in the analysis\n",
        "  \"\"\"\n",
        "  # read dataframe\n",
        "  filename = '/content/drive/MyDrive/traffic_stop/year_data_daylight/' + str(year) + '.parquet'\n",
        "  df = pd.read_parquet(filename, engine = 'pyarrow')\n",
        "  print('# of all traffic stops in year ', year, ': ', len(df))\n",
        "\n",
        "  # invalid value (IF NOT TEXAS STATE DATA, DELETE THIS INVALID VALUE BLOCK)\n",
        "  if year == 2013:\n",
        "    df.drop(df.index[df['lat'] == 74.052879], inplace=True)\n",
        "\n",
        "  # drop unrelated columns\n",
        "  col_drop = [col for col in df.columns if col not in keep_col]\n",
        "  df.drop(col_drop, axis = 1, inplace = True)\n",
        "\n",
        "  # remove rows with missing values in rm_na_col\n",
        "  for col in rm_na_col:\n",
        "    df = remove_empty_rows(df, col)\n",
        "\n",
        "  # filter rows if speeding_only\n",
        "  if speeding_only:\n",
        "    # filter: only speeding violation (no other violations) \n",
        "    df = speeding_filter(df)\n",
        "\n",
        "  ######### THIS WHOLE BLOACK NEEDS TO BE CHANGED, NEW METROPOLITAN FILES AND DIFFERENT DATA FORMAT #########\n",
        "\n",
        "  # County names are converted to county type - metropolitan, micropolitan or non-core\n",
        "  # For definitions, see US OMB website\n",
        "\n",
        "  # read in county info csv\n",
        "  county_df = pd.read_csv('/content/drive/MyDrive/traffic_stop/2014-2018.csv')\n",
        "  county_df = county_df[county_df['State']=='Texas']\n",
        "  county_df = county_df.filter(items=['Metropolitan Status', 'County Name'])\n",
        "\n",
        "  # transform column\n",
        "  df['county'] = [name[:-7] for name in df['county_name']]\n",
        "  df['county'] = df['county'].replace('Dewitt','DeWitt')\n",
        "  df = df.join(county_df.set_index('County Name'), on='county')\n",
        "  df.drop('county', axis = 1, inplace=True)\n",
        "  df.rename(columns={'Metropolitan Status':'county_type'}, inplace=True)\n",
        "\n",
        "  ######### Metropolitan block ends here #########\n",
        "\n",
        "  # Convert 'citation issued' to integer\n",
        "  df = df.astype({'citation_issued': 'int64'})\n",
        "\n",
        "  # if race is other/unknown, we delete the rows!\n",
        "  df = df.loc[(df['subject_race'] != 'unknown') & (df['subject_race'] != 'other'),:]\n",
        "  df['subject_race'] = df.subject_race.cat.remove_unused_categories()\n",
        "\n",
        "  df.drop(['county_name'], axis = 1, inplace = True)\n",
        "\n",
        "  if with_vio:\n",
        "\n",
        "    # get violation variables\n",
        "    vio_df = get_vio_df(violation_types, vio_col = df['violation'])\n",
        "    vio_df.drop('violation', axis = 1, inplace = True)\n",
        "\n",
        "    # other x variables get dummies\n",
        "    y = df['citation_issued']\n",
        "    df.drop(['violation','citation_issued'], axis = 1, inplace = True)\n",
        "    df = pd.get_dummies(df)\n",
        "    df.drop(['subject_race_white', 'county_type_Metropolitan', 'subject_sex_male'], axis = 1, inplace = True)\n",
        "\n",
        "    #vio_df.drop('Speeding Over Limit', axis = 1, inplace = True), I don't think vio_type needs a base level, as no multicollinearity\n",
        "    df.reset_index(drop=True, inplace=True)\n",
        "    vio_df.reset_index(drop=True, inplace=True)\n",
        "    y.reset_index(drop=True, inplace=True)\n",
        "    X = pd.concat([df, vio_df], axis = 1)\n",
        "    X.columns = list(df.columns) + list(vio_df.columns)\n",
        "\n",
        "    print('# of traffic stops after preprocessing in year ', year, ': ', len(X))\n",
        "    return (y, X)\n",
        "\n",
        "  elif not with_vio:\n",
        "\n",
        "    # other x variables get dummies\n",
        "    y = df['citation_issued']\n",
        "    df.drop(['violation','citation_issued'], axis = 1, inplace = True)\n",
        "    df = pd.get_dummies(df)\n",
        "    df.drop(['subject_race_white', 'county_type_Metropolitan', 'subject_sex_male'], axis = 1, inplace = True)\n",
        "    \n",
        "    df.reset_index(drop=True, inplace=True)\n",
        "    y.reset_index(drop=True, inplace=True)\n",
        "\n",
        "    print('# of traffic stops after preprocessing in year ', year, ': ', len(df))\n",
        "    return (y, df)"
      ],
      "metadata": {
        "id": "GUWUWvSMQ_0-"
      },
      "execution_count": 13,
      "outputs": []
    },
    {
      "cell_type": "markdown",
      "source": [
        "We assume in the data, race info is recorded in the column **'subject_race'**, with values **white, black, hispanic, asian/pacific islander**. -> pd.get_dummies() used in preprocess gives us variables like subject_race_black.\n",
        "\n",
        "In some states' data, race info column name may be different and race categories may be different. In this case, the function **run_year_analysis** needs to change the **last three code blocks** with comments: # append race coefs to result list for plotting, # lower CI, and # upper CI to race column name + '_' + race category.\n",
        "\n",
        "The function above: **preprocessing() needs to change accordingly** as well. (where we drop base levels, use subject_race as the column name, etc.)"
      ],
      "metadata": {
        "id": "FZMWgJx_RLXc"
      }
    },
    {
      "cell_type": "code",
      "source": [
        "### this function used in generate_outputs()\n",
        "def run_year_analysis(keep_col, rm_na_col, df_years, with_vio = False, violation_types=None, speeding_only = False):\n",
        "  \"\"\"\n",
        "  param:\n",
        "  violation_types: violation types to be included in the analysis\n",
        "\n",
        "  Output:\n",
        "  A result dataframe\n",
        "  \"\"\"\n",
        "  years = list(range(year_start, year_end+1))\n",
        "\n",
        "  for year in years:\n",
        "    # read in the data\n",
        "    print('***********************************')\n",
        "    print(year)\n",
        "\n",
        "    # read in and preprocess data\n",
        "    y, X = preprocess(year, keep_col, rm_na_col, with_vio, violation_types, speeding_only)\n",
        "    \n",
        "    #adding constant to X\n",
        "    X_with_constant = sm.add_constant(X)\n",
        "    # building the model and fitting the data\n",
        "    log_reg = sm.Logit(y, X_with_constant).fit()\n",
        "    \n",
        "    res_df = pd.DataFrame({'variable':list(log_reg.params.index), 'coef':list(log_reg.params.values), \n",
        "                           'odds_ratio':list(np.exp(log_reg.params.values)),\n",
        "                           'lower_CI':list(np.exp(log_reg.conf_int()[0].values)),\n",
        "                           'upper_CI':list(np.exp(log_reg.conf_int()[1].values)),'pvalue':list(log_reg.pvalues)})\n",
        "\n",
        "    df_years = df_years.merge(res_df, left_on = 'variable', right_on = 'variable', how = 'outer')\n",
        "    df_years = df_years.rename(columns = {'coef': ('coef_' + str(year)), \n",
        "                                          'odds_ratio': ('odds_ratio_' + str(year)),\n",
        "                                          'lower_CI': ('OR_lower_CI_' + str(year)),\n",
        "                                          'upper_CI': ('OR_upper_CI_' + str(year)), \n",
        "                                          'pvalue': ('pvalue_' + str(year))})\n",
        "\n",
        "    # append race coefs to result list for plotting\n",
        "    black.append(np.exp(log_reg.params['subject_race_black']))\n",
        "    hispanic.append(np.exp(log_reg.params['subject_race_hispanic']))\n",
        "    asianpacific.append(np.exp(log_reg.params['subject_race_asian/pacific islander']))\n",
        "\n",
        "    # lower CI\n",
        "    black_low.append(np.exp(log_reg.conf_int()[0]['subject_race_black']))\n",
        "    hispanic_low.append(np.exp(log_reg.conf_int()[0]['subject_race_hispanic']))\n",
        "    asianpacific_low.append(np.exp(log_reg.conf_int()[0]['subject_race_asian/pacific islander']))\n",
        "\n",
        "    # upper CI\n",
        "    black_high.append(np.exp(log_reg.conf_int()[1]['subject_race_black']))\n",
        "    hispanic_high.append(np.exp(log_reg.conf_int()[1]['subject_race_hispanic']))\n",
        "    asianpacific_high.append(np.exp(log_reg.conf_int()[1]['subject_race_asian/pacific islander']))\n",
        "\n",
        "  return df_years\n",
        "\n",
        "# write result df to csv file"
      ],
      "metadata": {
        "id": "QvogBak-RJS4"
      },
      "execution_count": 14,
      "outputs": []
    },
    {
      "cell_type": "markdown",
      "source": [
        "> *Function to output coefficient estimate & odds ratio csv files and odds ratio figures*\n",
        "\n",
        "If including violation type variables, set with_vio = true, violation_types = what you get from single_vio_types(threshold, year_start, year_end).\n",
        "\n",
        "If not including violation type variables, set as default: with_vio = False, violation_types = None."
      ],
      "metadata": {
        "id": "rTuaWBe6RfUL"
      }
    },
    {
      "cell_type": "code",
      "source": [
        "def generate_outputs(folder_path, with_vio = False, violation_types = None, speeding_only = False):\n",
        "  \"\"\"\n",
        "  function outputs a csv file, a jpg and an svg figure\n",
        "  PARAMS:\n",
        "  folder path: eg., '/gdrive/MyDrive/traffic_stop/output_daytime/' \n",
        "  \"\"\"\n",
        "  # columns to store\n",
        "  var_lst_baseline = ['subject_race_black', 'subject_race_hispanic', 'subject_race_asian/pacific islander',\n",
        "                        'county_type_Non core', 'county_type_Micropolitan','subject_sex_female']\n",
        "\n",
        "  df_years = pd.DataFrame({'variable':var_lst_baseline})\n",
        "\n",
        "  if not with_vio:\n",
        "    res_df = run_year_analysis(keep_col = keep_col, rm_na_col = rm_na_col, df_years = df_years, with_vio = False, violation_types = None, speeding_only = speeding_only)\n",
        "  else:\n",
        "    res_df = run_year_analysis(keep_col = keep_col, rm_na_col = rm_na_col, df_years = df_years, with_vio = True, violation_types = violation_types)\n",
        "  \n",
        "  # save csv\n",
        "  if speeding_only:\n",
        "    file_name = 'ORCI_daytimecontrol_speeding.csv'\n",
        "  elif not speeding_only:\n",
        "    if with_vio:\n",
        "      file_name = 'ORCI_daytimecontrol_with_vios.csv'\n",
        "    else:\n",
        "      file_name = 'ORCI_daytimecontrol_no_vios.csv'\n",
        "\n",
        "  # CHANGE THE PATH\n",
        "  save_path = folder_path + file_name\n",
        "  res_df.to_csv(save_path, index = False)\n",
        "\n",
        "  years = list(range(year_start, year_end + 1))\n",
        "  \n",
        "  sns.lineplot(x = years, y = black, color = 'red', label=\"Black\")\n",
        "  sns.lineplot(x = years, y = hispanic, color = 'blue', label=\"Hispanic\")\n",
        "  sns.lineplot(x = years, y = asianpacific, color = 'green', label=\"Asian/Pacific Islander\")\n",
        "\n",
        "  sns.lineplot(x = years, y = black_low, color = 'red', linestyle='--')\n",
        "  sns.lineplot(x = years, y = hispanic_low, color = 'blue', linestyle='--')\n",
        "  sns.lineplot(x = years, y = asianpacific_low, color = 'green', linestyle='--')\n",
        "\n",
        "  sns.lineplot(x = years, y = black_high, color = 'red', linestyle='--')\n",
        "  sns.lineplot(x = years, y = hispanic_high, color = 'blue', linestyle='--')\n",
        "  sns.lineplot(x = years, y = asianpacific_high, color = 'green', linestyle='--')\n",
        "\n",
        "  plt.xlabel('Year')\n",
        "  plt.ylabel('Odds Ratio')\n",
        "  plt.legend([\"Black\", \"Hispanic\", \"Asian/Pacific Islander\"],\n",
        "           bbox_to_anchor = (1.05, 0.6))\n",
        "\n",
        "  # CHANGE THE PATH HERE\n",
        "  figure_name1 = file_name.replace('csv', 'svg')\n",
        "  figure_name2 = file_name.replace('csv', 'jpg')\n",
        "  figure_name3 = file_name.replace('csv', 'pdf')\n",
        "  plt.savefig((folder_path+figure_name1), format = 'svg', bbox_inches=\"tight\")\n",
        "  plt.savefig((folder_path+figure_name2), dpi = 200, bbox_inches=\"tight\")\n",
        "  plt.savefig((folder_path+figure_name3), format=\"pdf\", bbox_inches=\"tight\")\n",
        "\n",
        "  plt.show()\n"
      ],
      "metadata": {
        "id": "7QuTZm8BReUO"
      },
      "execution_count": 15,
      "outputs": []
    },
    {
      "cell_type": "markdown",
      "source": [
        "> **WITHOUT VIOLATION TYPE VARIABLES** "
      ],
      "metadata": {
        "id": "TuFT4bf0SLOF"
      }
    },
    {
      "cell_type": "code",
      "source": [
        "# keep track of coefficient estimates and evaluation metrics\n",
        "asianpacific = []\t\n",
        "black = []\t\n",
        "hispanic = []\t\n",
        "\n",
        "asianpacific_low = []\t\n",
        "black_low = []\t\n",
        "hispanic_low = []\n",
        "\n",
        "asianpacific_high = []\t\n",
        "black_high = []\t\n",
        "hispanic_high = []\n",
        "\n",
        "generate_outputs(folder_path ='/content/drive/MyDrive/traffic_stop/output_daytime/', with_vio = False, violation_types = None)"
      ],
      "metadata": {
        "colab": {
          "base_uri": "https://localhost:8080/",
          "height": 1000
        },
        "id": "MbJ4DfrFSRq4",
        "outputId": "6d975624-7bcc-45f3-cf78-2f87d1e80dd3"
      },
      "execution_count": 16,
      "outputs": [
        {
          "output_type": "stream",
          "name": "stdout",
          "text": [
            "***********************************\n",
            "2006\n",
            "# of all traffic stops in year  2006 :  2693894\n",
            "# of traffic stops after preprocessing in year  2006 :  2671708\n",
            "Optimization terminated successfully.\n",
            "         Current function value: 0.678874\n",
            "         Iterations 4\n",
            "***********************************\n",
            "2007\n",
            "# of all traffic stops in year  2007 :  2427347\n",
            "# of traffic stops after preprocessing in year  2007 :  2404322\n",
            "Optimization terminated successfully.\n",
            "         Current function value: 0.677703\n",
            "         Iterations 4\n",
            "***********************************\n",
            "2008\n",
            "# of all traffic stops in year  2008 :  2526783\n",
            "# of traffic stops after preprocessing in year  2008 :  2432074\n",
            "Optimization terminated successfully.\n",
            "         Current function value: 0.656401\n",
            "         Iterations 5\n",
            "***********************************\n",
            "2009\n",
            "# of all traffic stops in year  2009 :  2441306\n",
            "# of traffic stops after preprocessing in year  2009 :  2368223\n",
            "Optimization terminated successfully.\n",
            "         Current function value: 0.648117\n",
            "         Iterations 5\n",
            "***********************************\n",
            "2010\n",
            "# of all traffic stops in year  2010 :  2525296\n",
            "# of traffic stops after preprocessing in year  2010 :  2449377\n",
            "Optimization terminated successfully.\n",
            "         Current function value: 0.631465\n",
            "         Iterations 5\n",
            "***********************************\n",
            "2011\n",
            "# of all traffic stops in year  2011 :  2588004\n",
            "# of traffic stops after preprocessing in year  2011 :  2508218\n",
            "Optimization terminated successfully.\n",
            "         Current function value: 0.626737\n",
            "         Iterations 5\n",
            "***********************************\n",
            "2012\n",
            "# of all traffic stops in year  2012 :  2435758\n",
            "# of traffic stops after preprocessing in year  2012 :  2364658\n",
            "Optimization terminated successfully.\n",
            "         Current function value: 0.636898\n",
            "         Iterations 5\n",
            "***********************************\n",
            "2013\n",
            "# of all traffic stops in year  2013 :  2134890\n",
            "# of traffic stops after preprocessing in year  2013 :  2071465\n",
            "Optimization terminated successfully.\n",
            "         Current function value: 0.641489\n",
            "         Iterations 5\n",
            "***********************************\n",
            "2014\n",
            "# of all traffic stops in year  2014 :  1878487\n",
            "# of traffic stops after preprocessing in year  2014 :  1816151\n",
            "Optimization terminated successfully.\n",
            "         Current function value: 0.642759\n",
            "         Iterations 5\n",
            "***********************************\n",
            "2015\n",
            "# of all traffic stops in year  2015 :  1745385\n",
            "# of traffic stops after preprocessing in year  2015 :  1678602\n",
            "Optimization terminated successfully.\n",
            "         Current function value: 0.638689\n",
            "         Iterations 5\n",
            "***********************************\n",
            "2016\n",
            "# of all traffic stops in year  2016 :  1832110\n",
            "# of traffic stops after preprocessing in year  2016 :  1830586\n",
            "Optimization terminated successfully.\n",
            "         Current function value: 0.643993\n",
            "         Iterations 5\n",
            "***********************************\n",
            "2017\n",
            "# of all traffic stops in year  2017 :  2197369\n",
            "# of traffic stops after preprocessing in year  2017 :  2195417\n",
            "Optimization terminated successfully.\n",
            "         Current function value: 0.642247\n",
            "         Iterations 5\n"
          ]
        },
        {
          "output_type": "display_data",
          "data": {
            "text/plain": [
              "<Figure size 432x288 with 1 Axes>"
            ],
            "image/png": "[encoded data removed]"
          },
          "metadata": {
            "needs_background": "light"
          }
        }
      ]
    },
    {
      "cell_type": "markdown",
      "source": [
        "> **WITH VIOLATION TYPE VARIABLES** "
      ],
      "metadata": {
        "id": "WfMHyWAaSSjK"
      }
    },
    {
      "cell_type": "code",
      "source": [
        "asianpacific = []\t\n",
        "black = []\t\n",
        "hispanic = []\t\n",
        "\n",
        "asianpacific_low = []\t\n",
        "black_low = []\t\n",
        "hispanic_low = []\n",
        "\n",
        "asianpacific_high = []\t\n",
        "black_high = []\t\n",
        "hispanic_high = []\n",
        "generate_outputs(folder_path ='/content/drive/MyDrive/traffic_stop/output_daytime/', with_vio = True, violation_types = vio_vars)"
      ],
      "metadata": {
        "colab": {
          "base_uri": "https://localhost:8080/",
          "height": 1000
        },
        "id": "bQcbQF1DUrLU",
        "outputId": "7475d045-73c2-43a7-9606-0967be700774"
      },
      "execution_count": 17,
      "outputs": [
        {
          "output_type": "stream",
          "name": "stdout",
          "text": [
            "***********************************\n",
            "2006\n",
            "# of all traffic stops in year  2006 :  2693894\n",
            "# of traffic stops after preprocessing in year  2006 :  2671708\n",
            "Optimization terminated successfully.\n",
            "         Current function value: 0.207575\n",
            "         Iterations 11\n",
            "***********************************\n",
            "2007\n",
            "# of all traffic stops in year  2007 :  2427347\n",
            "# of traffic stops after preprocessing in year  2007 :  2404322\n",
            "Optimization terminated successfully.\n",
            "         Current function value: 0.206228\n",
            "         Iterations 11\n",
            "***********************************\n",
            "2008\n",
            "# of all traffic stops in year  2008 :  2526783\n",
            "# of traffic stops after preprocessing in year  2008 :  2432074\n",
            "Optimization terminated successfully.\n",
            "         Current function value: 0.221519\n",
            "         Iterations 10\n",
            "***********************************\n",
            "2009\n",
            "# of all traffic stops in year  2009 :  2441306\n",
            "# of traffic stops after preprocessing in year  2009 :  2368223\n",
            "Optimization terminated successfully.\n",
            "         Current function value: 0.232139\n",
            "         Iterations 10\n",
            "***********************************\n",
            "2010\n",
            "# of all traffic stops in year  2010 :  2525296\n",
            "# of traffic stops after preprocessing in year  2010 :  2449377\n",
            "Optimization terminated successfully.\n",
            "         Current function value: 0.251884\n",
            "         Iterations 9\n",
            "***********************************\n",
            "2011\n",
            "# of all traffic stops in year  2011 :  2588004\n",
            "# of traffic stops after preprocessing in year  2011 :  2508218\n",
            "Optimization terminated successfully.\n",
            "         Current function value: 0.263960\n",
            "         Iterations 8\n",
            "***********************************\n",
            "2012\n",
            "# of all traffic stops in year  2012 :  2435758\n",
            "# of traffic stops after preprocessing in year  2012 :  2364658\n",
            "Optimization terminated successfully.\n",
            "         Current function value: 0.283497\n",
            "         Iterations 8\n",
            "***********************************\n",
            "2013\n",
            "# of all traffic stops in year  2013 :  2134890\n",
            "# of traffic stops after preprocessing in year  2013 :  2071465\n",
            "Optimization terminated successfully.\n",
            "         Current function value: 0.289118\n",
            "         Iterations 8\n",
            "***********************************\n",
            "2014\n",
            "# of all traffic stops in year  2014 :  1878487\n",
            "# of traffic stops after preprocessing in year  2014 :  1816151\n",
            "Optimization terminated successfully.\n",
            "         Current function value: 0.286616\n",
            "         Iterations 8\n",
            "***********************************\n",
            "2015\n",
            "# of all traffic stops in year  2015 :  1745385\n",
            "# of traffic stops after preprocessing in year  2015 :  1678602\n",
            "Optimization terminated successfully.\n",
            "         Current function value: 0.276985\n",
            "         Iterations 8\n",
            "***********************************\n",
            "2016\n",
            "# of all traffic stops in year  2016 :  1832110\n",
            "# of traffic stops after preprocessing in year  2016 :  1830586\n",
            "Optimization terminated successfully.\n",
            "         Current function value: 0.277271\n",
            "         Iterations 9\n",
            "***********************************\n",
            "2017\n",
            "# of all traffic stops in year  2017 :  2197369\n",
            "# of traffic stops after preprocessing in year  2017 :  2195417\n",
            "Optimization terminated successfully.\n",
            "         Current function value: 0.291944\n",
            "         Iterations 8\n"
          ]
        },
        {
          "output_type": "display_data",
          "data": {
            "text/plain": [
              "<Figure size 432x288 with 1 Axes>"
            ],
            "image/png": "[encoded data removed]"
          },
          "metadata": {
            "needs_background": "light"
          }
        }
      ]
    },
    {
      "cell_type": "markdown",
      "source": [
        "> **SPEEDING-ONLY VIOLATIONS, without violation_types**"
      ],
      "metadata": {
        "id": "PC0aWz1vUtqA"
      }
    },
    {
      "cell_type": "code",
      "source": [
        "asianpacific = []\t\n",
        "black = []\t\n",
        "hispanic = []\t\n",
        "\n",
        "asianpacific_low = []\t\n",
        "black_low = []\t\n",
        "hispanic_low = []\n",
        "\n",
        "asianpacific_high = []\t\n",
        "black_high = []\t\n",
        "hispanic_high = []\n",
        "\n",
        "generate_outputs(folder_path ='/content/drive/MyDrive/traffic_stop/output_0502/', with_vio = False, violation_types = None, speeding_only = True)"
      ],
      "metadata": {
        "colab": {
          "base_uri": "https://localhost:8080/",
          "height": 1000
        },
        "id": "RwQ1CLeDU0T2",
        "outputId": "2f2a97fa-cbd2-45a6-db51-5517d23320cb"
      },
      "execution_count": 18,
      "outputs": [
        {
          "output_type": "stream",
          "name": "stdout",
          "text": [
            "***********************************\n",
            "2006\n",
            "# of all traffic stops in year  2006 :  2693894\n",
            "Before speed filtering:  2673511\n",
            "Speeding only violation has records:  1235103\n",
            "# of traffic stops after preprocessing in year  2006 :  1234128\n",
            "Optimization terminated successfully.\n",
            "         Current function value: 0.658119\n",
            "         Iterations 5\n",
            "***********************************\n",
            "2007\n",
            "# of all traffic stops in year  2007 :  2427347\n",
            "Before speed filtering:  2405744\n",
            "Speeding only violation has records:  1110868\n",
            "# of traffic stops after preprocessing in year  2007 :  1110125\n",
            "Optimization terminated successfully.\n",
            "         Current function value: 0.655020\n",
            "         Iterations 5\n",
            "***********************************\n",
            "2008\n",
            "# of all traffic stops in year  2008 :  2526783\n",
            "Before speed filtering:  2434970\n",
            "Speeding only violation has records:  1114925\n",
            "# of traffic stops after preprocessing in year  2008 :  1113530\n",
            "Optimization terminated successfully.\n",
            "         Current function value: 0.614365\n",
            "         Iterations 5\n",
            "***********************************\n",
            "2009\n",
            "# of all traffic stops in year  2009 :  2441306\n",
            "Before speed filtering:  2370986\n",
            "Speeding only violation has records:  1093968\n",
            "# of traffic stops after preprocessing in year  2009 :  1092598\n",
            "Optimization terminated successfully.\n",
            "         Current function value: 0.605111\n",
            "         Iterations 5\n",
            "***********************************\n",
            "2010\n",
            "# of all traffic stops in year  2010 :  2525296\n",
            "Before speed filtering:  2452498\n",
            "Speeding only violation has records:  1085945\n",
            "# of traffic stops after preprocessing in year  2010 :  1084475\n",
            "Optimization terminated successfully.\n",
            "         Current function value: 0.581836\n",
            "         Iterations 5\n",
            "***********************************\n",
            "2011\n",
            "# of all traffic stops in year  2011 :  2588004\n",
            "Before speed filtering:  2511664\n",
            "Speeding only violation has records:  1085781\n",
            "# of traffic stops after preprocessing in year  2011 :  1084179\n",
            "Optimization terminated successfully.\n",
            "         Current function value: 0.572612\n",
            "         Iterations 5\n",
            "***********************************\n",
            "2012\n",
            "# of all traffic stops in year  2012 :  2435758\n",
            "Before speed filtering:  2368990\n",
            "Speeding only violation has records:  1025815\n",
            "# of traffic stops after preprocessing in year  2012 :  1023783\n",
            "Optimization terminated successfully.\n",
            "         Current function value: 0.585622\n",
            "         Iterations 5\n",
            "***********************************\n",
            "2013\n",
            "# of all traffic stops in year  2013 :  2134890\n",
            "Before speed filtering:  2076396\n",
            "Speeding only violation has records:  905817\n",
            "# of traffic stops after preprocessing in year  2013 :  903478\n",
            "Optimization terminated successfully.\n",
            "         Current function value: 0.592200\n",
            "         Iterations 5\n",
            "***********************************\n",
            "2014\n",
            "# of all traffic stops in year  2014 :  1878487\n",
            "Before speed filtering:  1820763\n",
            "Speeding only violation has records:  779279\n",
            "# of traffic stops after preprocessing in year  2014 :  777272\n",
            "Optimization terminated successfully.\n",
            "         Current function value: 0.599821\n",
            "         Iterations 5\n",
            "***********************************\n",
            "2015\n",
            "# of all traffic stops in year  2015 :  1745385\n",
            "Before speed filtering:  1683940\n",
            "Speeding only violation has records:  730702\n",
            "# of traffic stops after preprocessing in year  2015 :  728211\n",
            "Optimization terminated successfully.\n",
            "         Current function value: 0.597070\n",
            "         Iterations 5\n",
            "***********************************\n",
            "2016\n",
            "# of all traffic stops in year  2016 :  1832110\n",
            "Before speed filtering:  1832072\n",
            "Speeding only violation has records:  797329\n",
            "# of traffic stops after preprocessing in year  2016 :  796595\n",
            "Optimization terminated successfully.\n",
            "         Current function value: 0.600614\n",
            "         Iterations 5\n",
            "***********************************\n",
            "2017\n",
            "# of all traffic stops in year  2017 :  2197369\n",
            "Before speed filtering:  2197356\n",
            "Speeding only violation has records:  895256\n",
            "# of traffic stops after preprocessing in year  2017 :  894360\n",
            "Optimization terminated successfully.\n",
            "         Current function value: 0.597206\n",
            "         Iterations 5\n"
          ]
        },
        {
          "output_type": "display_data",
          "data": {
            "text/plain": [
              "<Figure size 432x288 with 1 Axes>"
            ],
            "image/png": "[encoded data removed]"
          },
          "metadata": {
            "needs_background": "light"
          }
        }
      ]
    }
  ]
}