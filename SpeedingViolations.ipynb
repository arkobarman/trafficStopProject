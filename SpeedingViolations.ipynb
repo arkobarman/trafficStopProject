{
 "cells": [
  {
   "cell_type": "code",
   "execution_count": 1,
   "metadata": {},
   "outputs": [],
   "source": [
    "import utils\n",
    "import numpy as np\n",
    "import pandas as pd\n",
    "import datetime as dt\n",
    "import matplotlib.pyplot as plt\n",
    "from sklearn.linear_model import LogisticRegressionCV, LogisticRegression\n",
    "from sklearn.model_selection import train_test_split, GridSearchCV\n",
    "from sklearn.preprocessing import OneHotEncoder\n",
    "from pygam import LogisticGAM\n",
    "\n",
    "%matplotlib notebook\n",
    "\n",
    "# Automating the proess of finding the filename\n",
    "dataFolder = 'data'\n",
    "plotsFolder = 'plots'\n",
    "state = 'TX'\n",
    "policeDept = 'statewide' # 'statewide' means state patrol\n",
    "\n",
    "# Choose column names to load\n",
    "colNamesList = ['date',\n",
    "                'time',\n",
    "#                 'location',\n",
    "#                 'lat', # about 40% are nan\n",
    "#                 'lng',\n",
    "                'county_name', # just use categorical metro, micro, other for all location vars\n",
    "#                 'district',\n",
    "#                 'precinct',\n",
    "#                 'region',\n",
    "                'subject_race',\n",
    "                'subject_sex',\n",
    "#                 'officer_id_hash',\n",
    "#                 'type',\n",
    "                'violation',\n",
    "                'citation_issued',\n",
    "                'warning_issued', \n",
    "                'contraband_found',\n",
    "                'contraband_drugs',\n",
    "                'contraband_weapons',\n",
    "                'search_conducted',\n",
    "                'search_vehicle']\n",
    "                \n",
    "# Too many nans or categories\n",
    "#                 'outcome',\n",
    "#                 'search_basis',\n",
    "#                 'vehicle_color',\n",
    "#                 'vehicle_make',\n",
    "#                 'vehicle_model',\n",
    "#                 'vehicle_type',\n",
    "#                 'vehicle_year']"
   ]
  },
  {
   "cell_type": "code",
   "execution_count": 2,
   "metadata": {},
   "outputs": [],
   "source": [
    "# Automating the creation of rowName:dtype dict\n",
    "# This throws up a lot of stupid warnings/errors right now!\n",
    "# df = pd.read_csv(csvFilepath, nrows=5, names=colNamesList)\n",
    "# dtypeDict = df.dtypes.to_dict()\n",
    "# dtypeDict\n",
    "\n",
    "dtypeDict = {'raw_row_number': 'int64', \n",
    "             'date': 'object',\n",
    "             'time': 'object',\n",
    "             'location': 'object',\n",
    "             'lat': 'float64',\n",
    "             'lng': 'float64',\n",
    "             'county_name': 'object',\n",
    "             'district': 'object',\n",
    "             'precinct': 'object',\n",
    "             'region': 'float64',\n",
    "             'subject_race': 'object',\n",
    "             'subject_sex': 'object',\n",
    "             'officer_id_hash': 'object',\n",
    "             'type': 'object',\n",
    "             'violation': 'object',\n",
    "             'citation_issued': 'bool',\n",
    "             'warning_issued': 'bool',\n",
    "             'outcome': 'object',\n",
    "             'contraband_found': 'object',\n",
    "             'contraband_drugs': 'object',\n",
    "             'contraband_weapons': 'object',\n",
    "             'search_conducted': 'object',\n",
    "             'search_vehicle': 'object',\n",
    "             'search_basis': 'object',\n",
    "             'vehicle_color': 'object',\n",
    "             'vehicle_make': 'object',\n",
    "             'vehicle_model': 'object',\n",
    "             'vehicle_type': 'object',\n",
    "             'vehicle_year': 'float64',\n",
    "             'raw_HA_RACE_SEX': 'object',\n",
    "             'raw_HA_SEARCH_PC_boolean': 'object',\n",
    "             'raw_HA_SEARCH_CONCENT_boolean': 'object',\n",
    "             'raw_HA_INCIDTO_ARREST_boolean': 'object',\n",
    "             'raw_HA_VEHICLE_INVENT_boolean': 'object'}\n",
    "\n",
    "\n",
    "        \n",
    "# search_vehicle only has False and nan\n",
    "# type is just vehicular\n",
    "# violation column is of interest - reason for stop (split by |?)"
   ]
  },
  {
   "cell_type": "code",
   "execution_count": 42,
   "metadata": {},
   "outputs": [],
   "source": [
    "df = utils.load_data(dataFolder, state, policeDept, dtypeDict=dtypeDict, colNames=colNamesList)\n",
    "df = utils.remove_empty_rows(df, 'subject_race')"
   ]
  },
  {
   "cell_type": "markdown",
   "metadata": {},
   "source": [
    "# Preprocessing\n",
    "violations"
   ]
  },
  {
   "cell_type": "code",
   "execution_count": 46,
   "metadata": {},
   "outputs": [],
   "source": [
    "df = utils.remove_empty_rows(df, 'violation')"
   ]
  },
  {
   "cell_type": "code",
   "execution_count": 47,
   "metadata": {},
   "outputs": [
    {
     "data": {
      "text/plain": [
       "16048469"
      ]
     },
     "execution_count": 47,
     "metadata": {},
     "output_type": "execute_result"
    }
   ],
   "source": [
    "df['violation'] = [s.lower() for s in df['violation']]\n",
    "df = df[df['violation'].str.contains('speed', regex=False)]\n",
    "len(df)"
   ]
  },
  {
   "cell_type": "code",
   "execution_count": 48,
   "metadata": {},
   "outputs": [],
   "source": [
    "df.drop('violation', 1, inplace=True)"
   ]
  },
  {
   "cell_type": "markdown",
   "metadata": {},
   "source": [
    "date & time"
   ]
  },
  {
   "cell_type": "code",
   "execution_count": 49,
   "metadata": {},
   "outputs": [],
   "source": [
    "df['year'] = pd.to_datetime(df['date']).dt.year\n",
    "df['month'] = pd.to_datetime(df['date']).dt.month\n",
    "df['day'] = pd.to_datetime(df['date']).dt.day"
   ]
  },
  {
   "cell_type": "code",
   "execution_count": 50,
   "metadata": {},
   "outputs": [],
   "source": [
    "df['minute'] = pd.to_datetime(df['time']).dt.minute\n",
    "df['hour'] = pd.to_datetime(df['time']).dt.hour"
   ]
  },
  {
   "cell_type": "code",
   "execution_count": 51,
   "metadata": {},
   "outputs": [],
   "source": [
    "df.drop(['date', 'time'], 1, inplace=True)"
   ]
  },
  {
   "cell_type": "markdown",
   "metadata": {},
   "source": [
    "county name"
   ]
  },
  {
   "cell_type": "code",
   "execution_count": 52,
   "metadata": {},
   "outputs": [],
   "source": [
    "county_df = pd.read_csv('2014-2018.csv')\n",
    "county_df = county_df[county_df['State']=='Texas']"
   ]
  },
  {
   "cell_type": "code",
   "execution_count": 53,
   "metadata": {},
   "outputs": [
    {
     "data": {
      "text/plain": [
       "array(['Micropolitan', 'Metropolitan', 'Non core'], dtype=object)"
      ]
     },
     "execution_count": 53,
     "metadata": {},
     "output_type": "execute_result"
    }
   ],
   "source": [
    "county_df = county_df.filter(items=['Metropolitan Status', 'County Name'])\n",
    "county_df['Metropolitan Status'].unique()"
   ]
  },
  {
   "cell_type": "code",
   "execution_count": 54,
   "metadata": {},
   "outputs": [],
   "source": [
    "df = utils.remove_empty_rows(df, 'county_name')"
   ]
  },
  {
   "cell_type": "code",
   "execution_count": 55,
   "metadata": {},
   "outputs": [],
   "source": [
    "df['county_name'] = [name[:-7] for name in df['county_name']]"
   ]
  },
  {
   "cell_type": "code",
   "execution_count": 56,
   "metadata": {},
   "outputs": [],
   "source": [
    "df = df.join(county_df.set_index('County Name'), on='county_name')\n",
    "df.drop('county_name', 1, inplace=True)\n",
    "df.rename({'Metropolitan Status':'county_type'}, inplace=True)"
   ]
  },
  {
   "cell_type": "code",
   "execution_count": 57,
   "metadata": {},
   "outputs": [
    {
     "data": {
      "text/html": [
       "<div>\n",
       "<style scoped>\n",
       "    .dataframe tbody tr th:only-of-type {\n",
       "        vertical-align: middle;\n",
       "    }\n",
       "\n",
       "    .dataframe tbody tr th {\n",
       "        vertical-align: top;\n",
       "    }\n",
       "\n",
       "    .dataframe thead th {\n",
       "        text-align: right;\n",
       "    }\n",
       "</style>\n",
       "<table border=\"1\" class=\"dataframe\">\n",
       "  <thead>\n",
       "    <tr style=\"text-align: right;\">\n",
       "      <th></th>\n",
       "      <th>subject_race</th>\n",
       "      <th>subject_sex</th>\n",
       "      <th>citation_issued</th>\n",
       "      <th>warning_issued</th>\n",
       "      <th>contraband_found</th>\n",
       "      <th>contraband_drugs</th>\n",
       "      <th>contraband_weapons</th>\n",
       "      <th>search_conducted</th>\n",
       "      <th>search_vehicle</th>\n",
       "      <th>year</th>\n",
       "      <th>month</th>\n",
       "      <th>day</th>\n",
       "      <th>minute</th>\n",
       "      <th>hour</th>\n",
       "      <th>Metropolitan Status</th>\n",
       "    </tr>\n",
       "  </thead>\n",
       "  <tbody>\n",
       "    <tr>\n",
       "      <th>1</th>\n",
       "      <td>white</td>\n",
       "      <td>male</td>\n",
       "      <td>True</td>\n",
       "      <td>False</td>\n",
       "      <td>NaN</td>\n",
       "      <td>NaN</td>\n",
       "      <td>NaN</td>\n",
       "      <td>FALSE</td>\n",
       "      <td>FALSE</td>\n",
       "      <td>2006</td>\n",
       "      <td>1</td>\n",
       "      <td>1</td>\n",
       "      <td>0</td>\n",
       "      <td>0</td>\n",
       "      <td>Non core</td>\n",
       "    </tr>\n",
       "    <tr>\n",
       "      <th>3</th>\n",
       "      <td>white</td>\n",
       "      <td>male</td>\n",
       "      <td>False</td>\n",
       "      <td>True</td>\n",
       "      <td>NaN</td>\n",
       "      <td>NaN</td>\n",
       "      <td>NaN</td>\n",
       "      <td>FALSE</td>\n",
       "      <td>FALSE</td>\n",
       "      <td>2006</td>\n",
       "      <td>1</td>\n",
       "      <td>1</td>\n",
       "      <td>0</td>\n",
       "      <td>0</td>\n",
       "      <td>Metropolitan</td>\n",
       "    </tr>\n",
       "    <tr>\n",
       "      <th>5</th>\n",
       "      <td>hispanic</td>\n",
       "      <td>male</td>\n",
       "      <td>False</td>\n",
       "      <td>True</td>\n",
       "      <td>NaN</td>\n",
       "      <td>NaN</td>\n",
       "      <td>NaN</td>\n",
       "      <td>FALSE</td>\n",
       "      <td>FALSE</td>\n",
       "      <td>2006</td>\n",
       "      <td>1</td>\n",
       "      <td>1</td>\n",
       "      <td>0</td>\n",
       "      <td>0</td>\n",
       "      <td>Non core</td>\n",
       "    </tr>\n",
       "    <tr>\n",
       "      <th>6</th>\n",
       "      <td>hispanic</td>\n",
       "      <td>male</td>\n",
       "      <td>False</td>\n",
       "      <td>True</td>\n",
       "      <td>NaN</td>\n",
       "      <td>NaN</td>\n",
       "      <td>NaN</td>\n",
       "      <td>FALSE</td>\n",
       "      <td>FALSE</td>\n",
       "      <td>2006</td>\n",
       "      <td>1</td>\n",
       "      <td>1</td>\n",
       "      <td>0</td>\n",
       "      <td>0</td>\n",
       "      <td>Non core</td>\n",
       "    </tr>\n",
       "    <tr>\n",
       "      <th>8</th>\n",
       "      <td>hispanic</td>\n",
       "      <td>male</td>\n",
       "      <td>True</td>\n",
       "      <td>False</td>\n",
       "      <td>NaN</td>\n",
       "      <td>NaN</td>\n",
       "      <td>NaN</td>\n",
       "      <td>FALSE</td>\n",
       "      <td>FALSE</td>\n",
       "      <td>2006</td>\n",
       "      <td>1</td>\n",
       "      <td>1</td>\n",
       "      <td>0</td>\n",
       "      <td>0</td>\n",
       "      <td>Non core</td>\n",
       "    </tr>\n",
       "  </tbody>\n",
       "</table>\n",
       "</div>"
      ],
      "text/plain": [
       "  subject_race subject_sex  citation_issued  warning_issued contraband_found  \\\n",
       "1        white        male             True           False              NaN   \n",
       "3        white        male            False            True              NaN   \n",
       "5     hispanic        male            False            True              NaN   \n",
       "6     hispanic        male            False            True              NaN   \n",
       "8     hispanic        male             True           False              NaN   \n",
       "\n",
       "  contraband_drugs contraband_weapons search_conducted search_vehicle  year  \\\n",
       "1              NaN                NaN            FALSE          FALSE  2006   \n",
       "3              NaN                NaN            FALSE          FALSE  2006   \n",
       "5              NaN                NaN            FALSE          FALSE  2006   \n",
       "6              NaN                NaN            FALSE          FALSE  2006   \n",
       "8              NaN                NaN            FALSE          FALSE  2006   \n",
       "\n",
       "   month  day  minute  hour Metropolitan Status  \n",
       "1      1    1       0     0            Non core  \n",
       "3      1    1       0     0        Metropolitan  \n",
       "5      1    1       0     0            Non core  \n",
       "6      1    1       0     0            Non core  \n",
       "8      1    1       0     0            Non core  "
      ]
     },
     "execution_count": 57,
     "metadata": {},
     "output_type": "execute_result"
    }
   ],
   "source": [
    "df.head()"
   ]
  },
  {
   "cell_type": "markdown",
   "metadata": {},
   "source": [
    "# One hot encode"
   ]
  },
  {
   "cell_type": "code",
   "execution_count": 58,
   "metadata": {},
   "outputs": [
    {
     "data": {
      "text/plain": [
       "(16048467, 14)"
      ]
     },
     "execution_count": 58,
     "metadata": {},
     "output_type": "execute_result"
    }
   ],
   "source": [
    "y = np.array(df['citation_issued']).astype(int)\n",
    "X = np.array(df.drop('citation_issued', 1))\n",
    "X.shape # n by 14"
   ]
  },
  {
   "cell_type": "code",
   "execution_count": 59,
   "metadata": {},
   "outputs": [
    {
     "data": {
      "text/html": [
       "<div>\n",
       "<style scoped>\n",
       "    .dataframe tbody tr th:only-of-type {\n",
       "        vertical-align: middle;\n",
       "    }\n",
       "\n",
       "    .dataframe tbody tr th {\n",
       "        vertical-align: top;\n",
       "    }\n",
       "\n",
       "    .dataframe thead th {\n",
       "        text-align: right;\n",
       "    }\n",
       "</style>\n",
       "<table border=\"1\" class=\"dataframe\">\n",
       "  <thead>\n",
       "    <tr style=\"text-align: right;\">\n",
       "      <th></th>\n",
       "      <th>subject_race</th>\n",
       "      <th>subject_sex</th>\n",
       "      <th>citation_issued</th>\n",
       "      <th>warning_issued</th>\n",
       "      <th>contraband_found</th>\n",
       "      <th>contraband_drugs</th>\n",
       "      <th>contraband_weapons</th>\n",
       "      <th>search_conducted</th>\n",
       "      <th>search_vehicle</th>\n",
       "      <th>year</th>\n",
       "      <th>month</th>\n",
       "      <th>day</th>\n",
       "      <th>minute</th>\n",
       "      <th>hour</th>\n",
       "      <th>Metropolitan Status</th>\n",
       "    </tr>\n",
       "  </thead>\n",
       "  <tbody>\n",
       "    <tr>\n",
       "      <th>1</th>\n",
       "      <td>white</td>\n",
       "      <td>male</td>\n",
       "      <td>True</td>\n",
       "      <td>False</td>\n",
       "      <td>na</td>\n",
       "      <td>na</td>\n",
       "      <td>na</td>\n",
       "      <td>FALSE</td>\n",
       "      <td>FALSE</td>\n",
       "      <td>2006</td>\n",
       "      <td>1</td>\n",
       "      <td>1</td>\n",
       "      <td>0</td>\n",
       "      <td>0</td>\n",
       "      <td>Non core</td>\n",
       "    </tr>\n",
       "    <tr>\n",
       "      <th>3</th>\n",
       "      <td>white</td>\n",
       "      <td>male</td>\n",
       "      <td>False</td>\n",
       "      <td>True</td>\n",
       "      <td>na</td>\n",
       "      <td>na</td>\n",
       "      <td>na</td>\n",
       "      <td>FALSE</td>\n",
       "      <td>FALSE</td>\n",
       "      <td>2006</td>\n",
       "      <td>1</td>\n",
       "      <td>1</td>\n",
       "      <td>0</td>\n",
       "      <td>0</td>\n",
       "      <td>Metropolitan</td>\n",
       "    </tr>\n",
       "    <tr>\n",
       "      <th>5</th>\n",
       "      <td>hispanic</td>\n",
       "      <td>male</td>\n",
       "      <td>False</td>\n",
       "      <td>True</td>\n",
       "      <td>na</td>\n",
       "      <td>na</td>\n",
       "      <td>na</td>\n",
       "      <td>FALSE</td>\n",
       "      <td>FALSE</td>\n",
       "      <td>2006</td>\n",
       "      <td>1</td>\n",
       "      <td>1</td>\n",
       "      <td>0</td>\n",
       "      <td>0</td>\n",
       "      <td>Non core</td>\n",
       "    </tr>\n",
       "    <tr>\n",
       "      <th>6</th>\n",
       "      <td>hispanic</td>\n",
       "      <td>male</td>\n",
       "      <td>False</td>\n",
       "      <td>True</td>\n",
       "      <td>na</td>\n",
       "      <td>na</td>\n",
       "      <td>na</td>\n",
       "      <td>FALSE</td>\n",
       "      <td>FALSE</td>\n",
       "      <td>2006</td>\n",
       "      <td>1</td>\n",
       "      <td>1</td>\n",
       "      <td>0</td>\n",
       "      <td>0</td>\n",
       "      <td>Non core</td>\n",
       "    </tr>\n",
       "    <tr>\n",
       "      <th>8</th>\n",
       "      <td>hispanic</td>\n",
       "      <td>male</td>\n",
       "      <td>True</td>\n",
       "      <td>False</td>\n",
       "      <td>na</td>\n",
       "      <td>na</td>\n",
       "      <td>na</td>\n",
       "      <td>FALSE</td>\n",
       "      <td>FALSE</td>\n",
       "      <td>2006</td>\n",
       "      <td>1</td>\n",
       "      <td>1</td>\n",
       "      <td>0</td>\n",
       "      <td>0</td>\n",
       "      <td>Non core</td>\n",
       "    </tr>\n",
       "  </tbody>\n",
       "</table>\n",
       "</div>"
      ],
      "text/plain": [
       "  subject_race subject_sex  citation_issued  warning_issued contraband_found  \\\n",
       "1        white        male             True           False               na   \n",
       "3        white        male            False            True               na   \n",
       "5     hispanic        male            False            True               na   \n",
       "6     hispanic        male            False            True               na   \n",
       "8     hispanic        male             True           False               na   \n",
       "\n",
       "  contraband_drugs contraband_weapons search_conducted search_vehicle  year  \\\n",
       "1               na                 na            FALSE          FALSE  2006   \n",
       "3               na                 na            FALSE          FALSE  2006   \n",
       "5               na                 na            FALSE          FALSE  2006   \n",
       "6               na                 na            FALSE          FALSE  2006   \n",
       "8               na                 na            FALSE          FALSE  2006   \n",
       "\n",
       "   month  day  minute  hour Metropolitan Status  \n",
       "1      1    1       0     0            Non core  \n",
       "3      1    1       0     0        Metropolitan  \n",
       "5      1    1       0     0            Non core  \n",
       "6      1    1       0     0            Non core  \n",
       "8      1    1       0     0            Non core  "
      ]
     },
     "execution_count": 59,
     "metadata": {},
     "output_type": "execute_result"
    }
   ],
   "source": [
    "for col in df.columns:\n",
    "    df[col].fillna('na', inplace=True)\n",
    "\n",
    "df.head()"
   ]
  },
  {
   "cell_type": "code",
   "execution_count": 61,
   "metadata": {},
   "outputs": [
    {
     "data": {
      "text/plain": [
       "[array(['asian/pacific islander', 'black', 'hispanic', 'other', 'white'],\n",
       "       dtype=object),\n",
       " array(['female', 'male', 'na'], dtype=object),\n",
       " array([False, True], dtype=object),\n",
       " array(['FALSE', 'TRUE', 'na'], dtype=object),\n",
       " array(['FALSE', 'TRUE', 'na'], dtype=object),\n",
       " array(['FALSE', 'TRUE', 'na'], dtype=object),\n",
       " array(['FALSE', 'TRUE', 'na'], dtype=object),\n",
       " array(['FALSE', 'na'], dtype=object),\n",
       " array([2006, 2007, 2008, 2009, 2010, 2011, 2012, 2013, 2014, 2015, 2016,\n",
       "        2017], dtype=object),\n",
       " array([1, 2, 3, 4, 5, 6, 7, 8, 9, 10, 11, 12], dtype=object),\n",
       " array([1, 2, 3, 4, 5, 6, 7, 8, 9, 10, 11, 12, 13, 14, 15, 16, 17, 18, 19,\n",
       "        20, 21, 22, 23, 24, 25, 26, 27, 28, 29, 30, 31], dtype=object),\n",
       " array([0, 1, 2, 3, 4, 5, 6, 7, 8, 9, 10, 11, 12, 13, 14, 15, 16, 17, 18,\n",
       "        19, 20, 21, 22, 23, 24, 25, 26, 27, 28, 29, 30, 31, 32, 33, 34, 35,\n",
       "        36, 37, 38, 39, 40, 41, 42, 43, 44, 45, 46, 47, 48, 49, 50, 51, 52,\n",
       "        53, 54, 55, 56, 57, 58, 59], dtype=object),\n",
       " array([0, 1, 2, 3, 4, 5, 6, 7, 8, 9, 10, 11, 12, 13, 14, 15, 16, 17, 18,\n",
       "        19, 20, 21, 22, 23], dtype=object),\n",
       " array(['Metropolitan', 'Micropolitan', 'Non core', 'na'], dtype=object)]"
      ]
     },
     "execution_count": 61,
     "metadata": {},
     "output_type": "execute_result"
    }
   ],
   "source": [
    "X = np.array(df.drop('citation_issued', 1))\n",
    "\n",
    "enc = OneHotEncoder()\n",
    "enc.fit(X)\n",
    "X = enc.transform(X)\n",
    "\n",
    "enc.categories_"
   ]
  },
  {
   "cell_type": "code",
   "execution_count": 62,
   "metadata": {},
   "outputs": [
    {
     "name": "stdout",
     "output_type": "stream",
     "text": [
      "(13641196, 167) (13641196,) (2407271, 167) (2407271,)\n"
     ]
    }
   ],
   "source": [
    "X_train, X_test, y_train, y_test = train_test_split(X, y, test_size=0.15, random_state=0)\n",
    "print(X_train.shape, y_train.shape, X_test.shape, y_test.shape)"
   ]
  },
  {
   "cell_type": "code",
   "execution_count": 63,
   "metadata": {},
   "outputs": [
    {
     "name": "stderr",
     "output_type": "stream",
     "text": [
      "/Users/nicoletan/opt/anaconda3/lib/python3.8/site-packages/sklearn/linear_model/_logistic.py:762: ConvergenceWarning: lbfgs failed to converge (status=1):\n",
      "STOP: TOTAL NO. of ITERATIONS REACHED LIMIT.\n",
      "\n",
      "Increase the number of iterations (max_iter) or scale the data as shown in:\n",
      "    https://scikit-learn.org/stable/modules/preprocessing.html\n",
      "Please also refer to the documentation for alternative solver options:\n",
      "    https://scikit-learn.org/stable/modules/linear_model.html#logistic-regression\n",
      "  n_iter_i = _check_optimize_result(\n",
      "/Users/nicoletan/opt/anaconda3/lib/python3.8/site-packages/sklearn/linear_model/_logistic.py:762: ConvergenceWarning: lbfgs failed to converge (status=1):\n",
      "STOP: TOTAL NO. of ITERATIONS REACHED LIMIT.\n",
      "\n",
      "Increase the number of iterations (max_iter) or scale the data as shown in:\n",
      "    https://scikit-learn.org/stable/modules/preprocessing.html\n",
      "Please also refer to the documentation for alternative solver options:\n",
      "    https://scikit-learn.org/stable/modules/linear_model.html#logistic-regression\n",
      "  n_iter_i = _check_optimize_result(\n",
      "/Users/nicoletan/opt/anaconda3/lib/python3.8/site-packages/sklearn/linear_model/_logistic.py:762: ConvergenceWarning: lbfgs failed to converge (status=1):\n",
      "STOP: TOTAL NO. of ITERATIONS REACHED LIMIT.\n",
      "\n",
      "Increase the number of iterations (max_iter) or scale the data as shown in:\n",
      "    https://scikit-learn.org/stable/modules/preprocessing.html\n",
      "Please also refer to the documentation for alternative solver options:\n",
      "    https://scikit-learn.org/stable/modules/linear_model.html#logistic-regression\n",
      "  n_iter_i = _check_optimize_result(\n",
      "/Users/nicoletan/opt/anaconda3/lib/python3.8/site-packages/sklearn/linear_model/_logistic.py:762: ConvergenceWarning: lbfgs failed to converge (status=1):\n",
      "STOP: TOTAL NO. of ITERATIONS REACHED LIMIT.\n",
      "\n",
      "Increase the number of iterations (max_iter) or scale the data as shown in:\n",
      "    https://scikit-learn.org/stable/modules/preprocessing.html\n",
      "Please also refer to the documentation for alternative solver options:\n",
      "    https://scikit-learn.org/stable/modules/linear_model.html#logistic-regression\n",
      "  n_iter_i = _check_optimize_result(\n",
      "/Users/nicoletan/opt/anaconda3/lib/python3.8/site-packages/sklearn/linear_model/_logistic.py:762: ConvergenceWarning: lbfgs failed to converge (status=1):\n",
      "STOP: TOTAL NO. of ITERATIONS REACHED LIMIT.\n",
      "\n",
      "Increase the number of iterations (max_iter) or scale the data as shown in:\n",
      "    https://scikit-learn.org/stable/modules/preprocessing.html\n",
      "Please also refer to the documentation for alternative solver options:\n",
      "    https://scikit-learn.org/stable/modules/linear_model.html#logistic-regression\n",
      "  n_iter_i = _check_optimize_result(\n",
      "/Users/nicoletan/opt/anaconda3/lib/python3.8/site-packages/sklearn/linear_model/_logistic.py:762: ConvergenceWarning: lbfgs failed to converge (status=1):\n",
      "STOP: TOTAL NO. of ITERATIONS REACHED LIMIT.\n",
      "\n",
      "Increase the number of iterations (max_iter) or scale the data as shown in:\n",
      "    https://scikit-learn.org/stable/modules/preprocessing.html\n",
      "Please also refer to the documentation for alternative solver options:\n",
      "    https://scikit-learn.org/stable/modules/linear_model.html#logistic-regression\n",
      "  n_iter_i = _check_optimize_result(\n",
      "/Users/nicoletan/opt/anaconda3/lib/python3.8/site-packages/sklearn/linear_model/_logistic.py:762: ConvergenceWarning: lbfgs failed to converge (status=1):\n",
      "STOP: TOTAL NO. of ITERATIONS REACHED LIMIT.\n",
      "\n",
      "Increase the number of iterations (max_iter) or scale the data as shown in:\n",
      "    https://scikit-learn.org/stable/modules/preprocessing.html\n",
      "Please also refer to the documentation for alternative solver options:\n",
      "    https://scikit-learn.org/stable/modules/linear_model.html#logistic-regression\n",
      "  n_iter_i = _check_optimize_result(\n",
      "/Users/nicoletan/opt/anaconda3/lib/python3.8/site-packages/sklearn/linear_model/_logistic.py:762: ConvergenceWarning: lbfgs failed to converge (status=1):\n",
      "STOP: TOTAL NO. of ITERATIONS REACHED LIMIT.\n",
      "\n",
      "Increase the number of iterations (max_iter) or scale the data as shown in:\n",
      "    https://scikit-learn.org/stable/modules/preprocessing.html\n",
      "Please also refer to the documentation for alternative solver options:\n",
      "    https://scikit-learn.org/stable/modules/linear_model.html#logistic-regression\n",
      "  n_iter_i = _check_optimize_result(\n"
     ]
    },
    {
     "data": {
      "text/plain": [
       "LogisticRegressionCV(random_state=0)"
      ]
     },
     "execution_count": 63,
     "metadata": {},
     "output_type": "execute_result"
    }
   ],
   "source": [
    "clf = LogisticRegressionCV(random_state=0)\n",
    "clf.fit(X_train, y_train)"
   ]
  },
  {
   "cell_type": "code",
   "execution_count": 64,
   "metadata": {},
   "outputs": [
    {
     "data": {
      "text/plain": [
       "0.8746834221867349"
      ]
     },
     "execution_count": 64,
     "metadata": {},
     "output_type": "execute_result"
    }
   ],
   "source": [
    "# training accuracy\n",
    "y_train_pred = clf.predict(X_train)\n",
    "np.mean(y_train_pred == y_train)"
   ]
  },
  {
   "cell_type": "code",
   "execution_count": 65,
   "metadata": {},
   "outputs": [
    {
     "data": {
      "text/plain": [
       "0.8743872210482326"
      ]
     },
     "execution_count": 65,
     "metadata": {},
     "output_type": "execute_result"
    }
   ],
   "source": [
    "# test accuracy\n",
    "y_test_pred = clf.predict(X_test)\n",
    "np.mean(y_test_pred == y_test)"
   ]
  },
  {
   "cell_type": "code",
   "execution_count": 66,
   "metadata": {},
   "outputs": [
    {
     "data": {
      "text/plain": [
       "array([[-5.76114413e-02,  1.21710141e-01,  2.88114415e-01,\n",
       "        -2.00090241e-02, -3.32482019e-01, -6.28737914e-02,\n",
       "         6.24200777e-02,  1.75785695e-04,  3.15757467e+00,\n",
       "        -3.15785260e+00, -2.34102020e-01,  5.62321043e-01,\n",
       "        -3.28496951e-01,  4.28308724e-02,  2.85388151e-01,\n",
       "        -3.28496951e-01,  3.10702512e-01,  1.75165113e-02,\n",
       "        -3.28496951e-01, -1.92762210e-01,  3.28219023e-01,\n",
       "        -1.35734741e-01, -5.38680878e-02,  5.35901598e-02,\n",
       "         2.56188752e-01,  2.28409279e-01,  1.00522355e-01,\n",
       "        -4.38994598e-02, -1.08076760e-01, -1.10718851e-01,\n",
       "        -5.31717712e-02, -3.25480122e-02, -1.67131153e-02,\n",
       "        -7.78341051e-02, -1.27023999e-02, -1.29733840e-01,\n",
       "         3.13775544e-02,  2.44692150e-02,  2.92557493e-03,\n",
       "        -2.12591105e-02, -6.86290406e-04, -8.28377789e-03,\n",
       "        -9.71267279e-03, -4.40998340e-03, -1.18669831e-02,\n",
       "        -4.35301283e-03,  1.20760227e-02, -1.05544640e-02,\n",
       "         2.14929160e-02,  1.30320711e-02,  8.20768887e-03,\n",
       "         1.42195361e-02,  1.06309342e-02,  1.55475177e-02,\n",
       "         1.33526761e-02,  1.74993584e-02,  1.49228175e-02,\n",
       "         5.26251930e-03,  8.57302045e-03,  9.59835123e-03,\n",
       "         7.65303045e-03,  4.40669718e-03,  9.30482778e-03,\n",
       "         4.54364624e-03,  1.81843205e-03, -2.40545124e-03,\n",
       "        -7.59060133e-03,  2.44348040e-03, -8.03267889e-03,\n",
       "        -7.14783070e-03, -2.70356881e-03, -3.44652268e-02,\n",
       "        -3.35894687e-02, -1.77869941e-02, -1.74648355e-02,\n",
       "        -2.01067652e-02, -1.26704562e-02, -1.05823474e-02,\n",
       "        -8.24122438e-03,  3.13154306e-02,  3.70446295e-04,\n",
       "         1.26599177e-05, -3.90931170e-03, -6.10268573e-03,\n",
       "         8.02897783e-03, -1.97054401e-03, -8.20888994e-03,\n",
       "         5.48565408e-03, -7.76030588e-03,  1.11480493e-02,\n",
       "        -1.51510017e-02,  6.02572283e-03, -7.93029945e-03,\n",
       "        -1.79009501e-02,  1.34026741e-02, -1.03176192e-02,\n",
       "        -7.89354808e-03, -6.06970937e-03, -1.56404454e-02,\n",
       "         2.66537480e-02, -1.20276207e-02, -1.08609350e-02,\n",
       "        -8.92051914e-03, -3.36840933e-03,  1.65554995e-02,\n",
       "        -1.06348158e-02,  1.58312673e-03, -2.98265801e-03,\n",
       "        -7.51165341e-03,  2.07525770e-02, -1.09043409e-02,\n",
       "         1.07476010e-03, -7.64588833e-03, -7.59971473e-03,\n",
       "         7.78071124e-03, -6.76152950e-03, -1.09705891e-02,\n",
       "         9.32078517e-03, -1.01551433e-02,  1.94151806e-02,\n",
       "        -1.07877468e-02, -6.53104402e-03, -4.30701488e-03,\n",
       "        -1.31181609e-02,  1.94369426e-02, -8.37632126e-03,\n",
       "         2.42400541e-03, -4.04710191e-05, -7.62716771e-03,\n",
       "         3.48884919e-02, -3.18821075e-03, -7.41719752e-03,\n",
       "         1.53125668e-03, -1.07132459e-03,  2.19660068e-02,\n",
       "         1.36029319e-02,  1.06023052e-02,  3.51178568e-03,\n",
       "        -5.50387014e-03,  5.23386648e-02,  7.14609688e-02,\n",
       "         1.12788703e-01, -1.14792262e-02, -7.10819684e-02,\n",
       "        -5.20560073e-03,  6.99126227e-02,  3.54071126e-02,\n",
       "        -2.12604086e-02, -8.00985978e-02, -1.02540953e-01,\n",
       "        -7.97356908e-02, -5.16566708e-02, -7.61564245e-02,\n",
       "        -5.83446428e-02, -2.40538223e-02,  6.69080239e-03,\n",
       "         3.17375733e-02,  7.84259706e-02,  7.48379584e-02,\n",
       "         2.69422097e-02, -1.33880149e-02,  7.01587928e-03,\n",
       "         2.71656277e-02,  2.50426399e-01, -1.33198490e-01,\n",
       "        -8.41614727e-02, -3.33443643e-02]])"
      ]
     },
     "execution_count": 66,
     "metadata": {},
     "output_type": "execute_result"
    }
   ],
   "source": [
    "clf.coef_"
   ]
  },
  {
   "cell_type": "code",
   "execution_count": 67,
   "metadata": {},
   "outputs": [
    {
     "data": {
      "text/plain": [
       "array([2.7836543])"
      ]
     },
     "execution_count": 67,
     "metadata": {},
     "output_type": "execute_result"
    }
   ],
   "source": [
    "clf.intercept_"
   ]
  },
  {
   "cell_type": "code",
   "execution_count": null,
   "metadata": {},
   "outputs": [],
   "source": []
  }
 ],
 "metadata": {
  "kernelspec": {
   "display_name": "Python 3",
   "language": "python",
   "name": "python3"
  },
  "language_info": {
   "codemirror_mode": {
    "name": "ipython",
    "version": 3
   },
   "file_extension": ".py",
   "mimetype": "text/x-python",
   "name": "python",
   "nbconvert_exporter": "python",
   "pygments_lexer": "ipython3",
   "version": "3.8.5"
  }
 },
 "nbformat": 4,
 "nbformat_minor": 5
}
