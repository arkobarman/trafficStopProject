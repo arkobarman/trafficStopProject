{
 "cells": [
  {
   "cell_type": "code",
   "execution_count": 1,
   "id": "88550602-520d-48c8-8e15-17ce9e951dbf",
   "metadata": {},
   "outputs": [],
   "source": [
    "import pandas as pd\n",
    "import numpy as np\n",
    "import matplotlib.pyplot as plt\n",
    "import seaborn as sns\n",
    "import statsmodels.api as sm\n",
    "import datetime\n",
    "import pytz\n",
    "import os\n",
    "import warnings\n",
    "warnings.filterwarnings(\"ignore\")"
   ]
  },
  {
   "cell_type": "code",
   "execution_count": 2,
   "id": "e8a8ece8-117f-4f1e-b60e-2e820d0508e7",
   "metadata": {},
   "outputs": [],
   "source": [
    "df = pd.read_parquet(os.path.join('..', 'data', 'traffic.parquet'))"
   ]
  },
  {
   "cell_type": "code",
   "execution_count": 3,
   "id": "2889a965-a869-4181-aceb-ddaa4ca8afe7",
   "metadata": {},
   "outputs": [
    {
     "name": "stdout",
     "output_type": "stream",
     "text": [
      "27426840\n"
     ]
    }
   ],
   "source": [
    "print(len(df.index))"
   ]
  },
  {
   "cell_type": "code",
   "execution_count": 3,
   "id": "e6bd8957-41e3-4386-a75a-f7cc3f5aa24a",
   "metadata": {},
   "outputs": [
    {
     "name": "stdout",
     "output_type": "stream",
     "text": [
      "  subject_race                                          violation  \\\n",
      "0        white         Drive On Improved Shoulder When Prohibited   \n",
      "1        white        Speeding-10% or More Above Posted Speed (#)   \n",
      "2     hispanic    Open Container in Motor Vehicle - Passenger (#)   \n",
      "3        white                            Speeding Over Limit (#)   \n",
      "4        white  No/Improper License Plate Lamp|Driving Under t...   \n",
      "\n",
      "   citation_issued  \n",
      "0            False  \n",
      "1             True  \n",
      "2             True  \n",
      "3            False  \n",
      "4             True  \n"
     ]
    }
   ],
   "source": [
    "print(df.head()[['subject_race', 'violation', 'citation_issued']])"
   ]
  },
  {
   "cell_type": "code",
   "execution_count": 4,
   "id": "405c05a9-e5f4-430c-906c-538bc802212a",
   "metadata": {},
   "outputs": [
    {
     "name": "stdout",
     "output_type": "stream",
     "text": [
      "Index(['raw_row_number', 'date', 'time', 'location', 'lat', 'lng',\n",
      "       'county_name', 'district', 'precinct', 'region', 'subject_race',\n",
      "       'subject_sex', 'officer_id_hash', 'type', 'violation',\n",
      "       'citation_issued', 'warning_issued', 'outcome', 'contraband_found',\n",
      "       'contraband_drugs', 'contraband_weapons', 'search_conducted',\n",
      "       'search_vehicle', 'search_basis', 'vehicle_color', 'vehicle_make',\n",
      "       'vehicle_model', 'vehicle_type', 'vehicle_year', 'raw_HA_RACE_SEX',\n",
      "       'raw_HA_SEARCH_PC_boolean', 'raw_HA_SEARCH_CONCENT_boolean',\n",
      "       'raw_HA_INCIDTO_ARREST_boolean', 'raw_HA_VEHICLE_INVENT_boolean'],\n",
      "      dtype='object')\n"
     ]
    }
   ],
   "source": [
    "print(df.columns)"
   ]
  },
  {
   "cell_type": "code",
   "execution_count": 5,
   "id": "f7eb1cc8-b173-43b0-99ba-8ff93763cb8d",
   "metadata": {},
   "outputs": [],
   "source": [
    "df = df[['subject_race', 'violation', 'citation_issued']]"
   ]
  },
  {
   "cell_type": "code",
   "execution_count": 6,
   "id": "c44e3516-4acb-4428-a502-fc2af52c6094",
   "metadata": {},
   "outputs": [
    {
     "name": "stdout",
     "output_type": "stream",
     "text": [
      "['white', 'hispanic', 'black', 'asian/pacific islander', 'unknown', 'other', NaN]\n",
      "Categories (6, object): ['asian/pacific islander', 'black', 'hispanic', 'white', 'other', 'unknown']\n"
     ]
    }
   ],
   "source": [
    "print(df['subject_race'].unique())"
   ]
  },
  {
   "cell_type": "code",
   "execution_count": 7,
   "id": "45edad2f-2c9e-41ff-98de-248892502c42",
   "metadata": {},
   "outputs": [],
   "source": [
    "def remove_white_spaces(vio_lst):\n",
    "  vio_lst = [x.strip() for x in vio_lst]\n",
    "  return vio_lst\n",
    "\n",
    "def remove_duplicates(row):\n",
    "  if row['speeding_only'] == 'speeding-repeated_entries':\n",
    "    return row['all_violation'][0].strip()\n",
    "  else:\n",
    "    return row['violation']\n",
    "\n",
    "def exclusive(vio_lst):\n",
    "  count = 0\n",
    "  for vio in vio_lst:\n",
    "    # count number of violations containing 'speed'\n",
    "    if 'speed' in vio:\n",
    "      count += 1\n",
    "  # if we have non-speeding violation\n",
    "  if count < len(vio_lst):\n",
    "    return 'speeding + others'\n",
    "  # if we only have speeding violation\n",
    "  elif count == len(vio_lst):\n",
    "    # if one speeding vio type\n",
    "    if count == 1:\n",
    "      return 'speeding-1'\n",
    "    # if we have more than one entries but only one type\n",
    "    elif len(set(vio_lst)) == 1:\n",
    "      return 'speeding-repeated_entries'\n",
    "    # if we have more than one type\n",
    "    else:\n",
    "      return 'speeding-multiple'\n",
    "  else:\n",
    "    return 'undefined case'\n",
    "    \n",
    "def speeding_filter(df):\n",
    "  print('Before speed filtering: ', len(df))\n",
    "  df['violation'] = [s.lower() for s in df['violation']]\n",
    "  # at least one violation is speeding-violated (could have other violations at the same time)\n",
    "  df = df.loc[df['violation'].str.contains('speed', regex = False),:]\n",
    "  df['violation'] = df['violation'].map(lambda x: x.replace('(#)',''))\n",
    "  df['violation'] = df['violation'].map(lambda x: x.strip())\n",
    "\n",
    "  # get a list of violations for each record, and apply self-defined func exclusive\n",
    "  df['all_violation'] = df['violation'].str.split('|')\n",
    "  df['all_violation'] = df['all_violation'].map(lambda x: remove_white_spaces(x))\n",
    "  df['speeding_only'] = df['all_violation'].map(lambda x: exclusive(x))\n",
    "\n",
    "  # filter out rows with violations other than speeding\n",
    "  df = df.loc[df['speeding_only'].isin(['speeding-repeated_entries','speeding-1','speeding-multiple']),:]\n",
    "\n",
    "  df['violation'] = df.apply(lambda row: remove_duplicates(row), axis = 1)\n",
    "\n",
    "  df.drop(['all_violation','speeding_only'], axis = 1, inplace = True)\n",
    "  print('Speeding only violation has records: ', len(df))\n",
    "  return df"
   ]
  },
  {
   "cell_type": "code",
   "execution_count": 8,
   "id": "bdbb1a08-f593-4087-b160-af1f756270a7",
   "metadata": {},
   "outputs": [
    {
     "name": "stdout",
     "output_type": "stream",
     "text": [
      "Before speed filtering:  27426840\n",
      "Speeding only violation has records:  12160826\n"
     ]
    }
   ],
   "source": [
    "df = speeding_filter(df)"
   ]
  },
  {
   "cell_type": "code",
   "execution_count": 9,
   "id": "83e890f2-23c9-4a0f-8ec0-f4d90697b91a",
   "metadata": {},
   "outputs": [],
   "source": [
    "# Create empty df to store detailed reasults\n",
    "speeding_citation_df = pd.DataFrame(columns=['Race', 'Total', 'Citation_YES', 'citation_NO', 'citation_percent'])"
   ]
  },
  {
   "cell_type": "code",
   "execution_count": 10,
   "id": "b92d0a3f-c0f1-4714-a992-9c4b38c1eb79",
   "metadata": {},
   "outputs": [
    {
     "name": "stdout",
     "output_type": "stream",
     "text": [
      "              subject_race  citation_issued    Count\n",
      "0                    white            False  5474356\n",
      "1                    white             True  2195902\n",
      "2                 hispanic            False  1914620\n",
      "3                 hispanic             True   985459\n",
      "4                    black            False   702640\n",
      "5                    black             True   354527\n",
      "6   asian/pacific islander            False   117518\n",
      "7   asian/pacific islander             True    97722\n",
      "8                  unknown            False   204298\n",
      "9                  unknown             True    95655\n",
      "10                   other            False    11910\n",
      "11                   other             True     6145\n"
     ]
    }
   ],
   "source": [
    "# Construct dict for insertion\n",
    "agg_df = df.groupby(['subject_race','citation_issued'], sort=False).size().reset_index(name='Count')\n",
    "print(agg_df)\n",
    "agg_df.to_csv('aggregated_citation_numbers_by_race.csv')  "
   ]
  },
  {
   "cell_type": "code",
   "execution_count": 52,
   "id": "fcc037d6-4434-46d6-b256-c8cbaa91f5c2",
   "metadata": {},
   "outputs": [
    {
     "name": "stdout",
     "output_type": "stream",
     "text": [
      "white\n",
      "Citation received: 2195902\n",
      "No citation received: 5474356\n",
      "Total: 7670258\n",
      "Percentage of drivers who recieved citation: 28.63\n",
      "black\n",
      "Citation received: 354527\n",
      "No citation received: 702640\n",
      "Total: 1057167\n",
      "Percentage of drivers who recieved citation: 33.54\n",
      "hispanic\n",
      "Citation received: 985459\n",
      "No citation received: 1914620\n",
      "Total: 2900079\n",
      "Percentage of drivers who recieved citation: 33.98\n",
      "asian/pacific islander\n",
      "Citation received: 97722\n",
      "No citation received: 117518\n",
      "Total: 215240\n",
      "Percentage of drivers who recieved citation: 45.4\n"
     ]
    }
   ],
   "source": [
    "citation_percent_dict = {}\n",
    "for subject_race in ['white', 'black', 'hispanic', 'asian/pacific islander']:\n",
    "    print(subject_race)\n",
    "    citation_YES = agg_df.loc[(agg_df['subject_race'] == subject_race) & (agg_df['citation_issued'] == True)]['Count'].item()\n",
    "    print('Citation received:', citation_YES)\n",
    "    citation_NO = agg_df.loc[(agg_df['subject_race'] == subject_race) & (agg_df['citation_issued'] == False)]['Count'].item()\n",
    "    print('No citation received:', citation_NO)\n",
    "    total = citation_YES + citation_NO\n",
    "    print('Total:', total)\n",
    "    percent = np.round(citation_YES * 100 / total, 2)\n",
    "    print('Percentage of drivers who recieved citation:', percent)\n",
    "    citation_percent_dict[subject_race] = percent"
   ]
  },
  {
   "cell_type": "code",
   "execution_count": 53,
   "id": "440ae0b6-b3bd-4553-b758-fb8162530ede",
   "metadata": {},
   "outputs": [
    {
     "data": {
      "text/plain": [
       "{'white': 28.63,\n",
       " 'black': 33.54,\n",
       " 'hispanic': 33.98,\n",
       " 'asian/pacific islander': 45.4}"
      ]
     },
     "execution_count": 53,
     "metadata": {},
     "output_type": "execute_result"
    }
   ],
   "source": [
    "citation_percent_dict"
   ]
  },
  {
   "cell_type": "code",
   "execution_count": 65,
   "id": "415dd69a-c10d-477c-a5b4-12a6d641cc6e",
   "metadata": {},
   "outputs": [
    {
     "data": {
      "image/png": "[encoded data removed]",
      "text/plain": [
       "<Figure size 640x480 with 1 Axes>"
      ]
     },
     "metadata": {},
     "output_type": "display_data"
    }
   ],
   "source": [
    "ax = sns.barplot(citation_percent_dict);\n",
    "plt.ylabel('Percentage of drivers who received citation', fontsize=12);\n",
    "plt.xlabel('Race', fontsize=12);\n",
    "ax.bar_label(ax.containers[0], fmt='%.1f%%');\n",
    "plt.ylim([0,50]);\n",
    "# ax.tick_params(axis='both', which='major', labelsize=12)\n",
    "plt.savefig('citation_percent_by_race.png')\n",
    "plt.savefig('citation_percent_by_race.pdf')"
   ]
  },
  {
   "cell_type": "code",
   "execution_count": null,
   "id": "04b1735c-63c6-4e85-a005-9ca646a53741",
   "metadata": {},
   "outputs": [],
   "source": []
  }
 ],
 "metadata": {
  "kernelspec": {
   "display_name": "Python 3 (ipykernel)",
   "language": "python",
   "name": "python3"
  },
  "language_info": {
   "codemirror_mode": {
    "name": "ipython",
    "version": 3
   },
   "file_extension": ".py",
   "mimetype": "text/x-python",
   "name": "python",
   "nbconvert_exporter": "python",
   "pygments_lexer": "ipython3",
   "version": "3.12.2"
  }
 },
 "nbformat": 4,
 "nbformat_minor": 5
}
