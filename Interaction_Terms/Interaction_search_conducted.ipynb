{
  "nbformat": 4,
  "nbformat_minor": 0,
  "metadata": {
    "colab": {
      "provenance": [],
      "collapsed_sections": []
    },
    "kernelspec": {
      "name": "python3",
      "display_name": "Python 3"
    },
    "language_info": {
      "name": "python"
    }
  },
  "cells": [
    {
      "cell_type": "markdown",
      "source": [
        "This notebook contains code for running logistic regression with & without violation type as variables, and filtering to speeding only records. The target variable is **search conducted**."
      ],
      "metadata": {
        "id": "FsHTMCdXO-X5"
      }
    },
    {
      "cell_type": "markdown",
      "source": [
        "> *Import Libraries and Mount Drive*\n",
        "\n",
        "\n"
      ],
      "metadata": {
        "id": "NkWFKrHFPOqP"
      }
    },
    {
      "cell_type": "code",
      "execution_count": 1,
      "metadata": {
        "id": "h9K3lsaaO4tm"
      },
      "outputs": [],
      "source": [
        "import pandas as pd\n",
        "import numpy as np\n",
        "import matplotlib.pyplot as plt\n",
        "import seaborn as sns\n",
        "import statsmodels.api as sm\n",
        "import os\n",
        "import warnings\n",
        "warnings.filterwarnings(\"ignore\")"
      ]
    },
    {
      "cell_type": "code",
      "source": [
        "from google.colab import drive\n",
        "drive.mount('/content/drive')"
      ],
      "metadata": {
        "colab": {
          "base_uri": "https://localhost:8080/"
        },
        "id": "6Q_3fvdqPGfK",
        "outputId": "b8728408-03fc-42d4-9e38-6597c07e6f80"
      },
      "execution_count": 2,
      "outputs": [
        {
          "output_type": "stream",
          "name": "stdout",
          "text": [
            "Mounted at /content/drive\n"
          ]
        }
      ]
    },
    {
      "cell_type": "markdown",
      "source": [
        "> *Data Format: split data file based on year, one parquet file per year* -> **RUN THIS ONLY ONCE**"
      ],
      "metadata": {
        "id": "TcoRNro_WoEP"
      }
    },
    {
      "cell_type": "code",
      "source": [
        "# # SPECIFY DATA PATH HERE\n",
        "# path = '/content/drive/MyDrive/traffic_stop/traffic.parquet'\n",
        "# data = pd.read_parquet(path, engine = 'pyarrow')"
      ],
      "metadata": {
        "id": "wMan1uz5Wp2V"
      },
      "execution_count": null,
      "outputs": []
    },
    {
      "cell_type": "code",
      "source": [
        "# data['year'] = pd.DatetimeIndex(data['date']).year\n",
        "# year_start= min(data['year'].unique())\n",
        "# year_end= max(data['year'].unique())\n",
        "# #year_start = 2006\n",
        "# #year_end = 2017\n",
        "# years = list(range(year_start, year_end + 1))\n",
        "# # split data file based on year\n",
        "# for year in years:\n",
        "#   data_write = data[data['year'] == year]\n",
        "#   file_name = 'traffic_' + str(year)\n",
        "#   # SPECIFY DATA PATH FOR YEARLY DATA FILE HERE\n",
        "#   year_path = '/content/drive/MyDrive/traffic_stop/year_data/' + file_name + '.parquet'\n",
        "#   data_write.to_parquet(year_path, engine='pyarrow')"
      ],
      "metadata": {
        "id": "6RUDsUnyWsNl"
      },
      "execution_count": null,
      "outputs": []
    },
    {
      "cell_type": "markdown",
      "source": [
        "> *Sanity Check and Get Parameters*"
      ],
      "metadata": {
        "id": "NRmK005GPaje"
      }
    },
    {
      "cell_type": "code",
      "source": [
        "# columns we need in the analysis\n",
        "keep_col = [\n",
        "            'county_name', \n",
        "            'subject_race',\n",
        "            'subject_sex',\n",
        "            'violation', \n",
        "            'search_conducted'\n",
        "            ]\n",
        "\n",
        "def sanity_check(year):\n",
        "  df = pd.read_parquet('/content/drive/MyDrive/traffic_stop/year_data/traffic_' + str(year) + '.parquet')\n",
        "\n",
        "  # print columns, check if the columns we need are in the data\n",
        "  print('****************************')\n",
        "  print('Columns in the data: ')\n",
        "  print(df.columns)\n",
        "  print('****************************')\n",
        "\n",
        "  # check missing value proportions\n",
        "  print('Missing value proportions for columns that we need:')\n",
        "  percent_missing = df[keep_col].isnull().sum() * 100 / len(df)\n",
        "  #missing_value_df = pd.DataFrame({'column_name': df[keep_col].columns,\n",
        "                                 #'percent_missing': percent_missing})\n",
        "  print(percent_missing)\n",
        "  print('****************************')\n",
        "  # check distribution of search conducted, race, and sex: make sure it is a relatively representative sample\n",
        "  print(df['search_conducted'].value_counts(dropna = False))\n",
        "  print('****************************')\n",
        "  print(df['subject_sex'].value_counts(dropna = False))\n",
        "  print('****************************')\n",
        "  print(df['subject_race'].value_counts(dropna = False))\n",
        "  print('****************************')\n",
        "  print(pd.DataFrame(df['violation'].value_counts(dropna = False)))\n"
      ],
      "metadata": {
        "id": "AL0XOtl_PlZu"
      },
      "execution_count": 16,
      "outputs": []
    },
    {
      "cell_type": "code",
      "source": [
        "sanity_check(2015)"
      ],
      "metadata": {
        "colab": {
          "base_uri": "https://localhost:8080/"
        },
        "id": "veWVAbC6P2Ic",
        "outputId": "f34108e1-c5a6-45d2-b043-4a55efa64dae"
      },
      "execution_count": 17,
      "outputs": [
        {
          "output_type": "stream",
          "name": "stdout",
          "text": [
            "****************************\n",
            "Columns in the data: \n",
            "Index(['raw_row_number', 'date', 'time', 'location', 'lat', 'lng',\n",
            "       'county_name', 'district', 'precinct', 'region', 'subject_race',\n",
            "       'subject_sex', 'officer_id_hash', 'type', 'violation',\n",
            "       'citation_issued', 'warning_issued', 'outcome', 'contraband_found',\n",
            "       'contraband_drugs', 'contraband_weapons', 'search_conducted',\n",
            "       'search_vehicle', 'search_basis', 'vehicle_color', 'vehicle_make',\n",
            "       'vehicle_model', 'vehicle_type', 'vehicle_year', 'raw_HA_RACE_SEX',\n",
            "       'raw_HA_SEARCH_PC_boolean', 'raw_HA_SEARCH_CONCENT_boolean',\n",
            "       'raw_HA_INCIDTO_ARREST_boolean', 'raw_HA_VEHICLE_INVENT_boolean',\n",
            "       'year'],\n",
            "      dtype='object')\n",
            "****************************\n",
            "Missing value proportions for columns that we need:\n",
            "county_name         0.000000\n",
            "subject_race        0.000000\n",
            "subject_sex         0.001375\n",
            "violation           0.000000\n",
            "search_conducted    0.000000\n",
            "dtype: float64\n",
            "****************************\n",
            "False    1719654\n",
            "True       25731\n",
            "Name: search_conducted, dtype: int64\n",
            "****************************\n",
            "male      1168626\n",
            "female     576735\n",
            "NaN            24\n",
            "Name: subject_sex, dtype: int64\n",
            "****************************\n",
            "white                     801762\n",
            "hispanic                  676307\n",
            "black                     169820\n",
            "unknown                    61431\n",
            "asian/pacific islander     30725\n",
            "other                       5340\n",
            "Name: subject_race, dtype: int64\n",
            "****************************\n",
            "                                                    violation\n",
            "Speeding Over Limit (#)                                529145\n",
            "Speeding-10% or More Above Posted Speed (#)            212943\n",
            "Operate Motor Vehicle Without License Plates (O...      51777\n",
            "No/Non-Compliant Head Lamps (#)                         41910\n",
            "No/Improper License Plate Lamp                          32274\n",
            "...                                                       ...\n",
            "Display Expired License Plates/Registration (#)...          1\n",
            "Fail To Report Change Of Address/Name|Improperl...          1\n",
            "Fail To Display Driver License|Speeding-10% or ...          1\n",
            "Display Expired License Plates/Registration (#)...          1\n",
            "Display Expired License Plates/Registration (#)...          1\n",
            "\n",
            "[54889 rows x 1 columns]\n"
          ]
        }
      ]
    },
    {
      "cell_type": "code",
      "source": [
        "def search_na(year):\n",
        "  df = pd.read_parquet('/content/drive/MyDrive/traffic_stop/year_data/traffic_' + str(year) + '.parquet')\n",
        "  #df[\"search_conducted\"].fillna(False, inplace = True)\n",
        "  print(df.search_conducted.unique())"
      ],
      "metadata": {
        "id": "xS9VQHNQdbyN"
      },
      "execution_count": 5,
      "outputs": []
    },
    {
      "cell_type": "code",
      "source": [
        "search_na(2013)\n",
        "#2010, 2011, 2012, 2013, 2017 - None values"
      ],
      "metadata": {
        "colab": {
          "base_uri": "https://localhost:8080/"
        },
        "id": "Bka7Mu9qdr72",
        "outputId": "94b38433-177b-4d91-8aa6-6a1152907097"
      },
      "execution_count": 6,
      "outputs": [
        {
          "output_type": "stream",
          "name": "stdout",
          "text": [
            "[False True None]\n"
          ]
        }
      ]
    },
    {
      "cell_type": "code",
      "source": [
        "def checking(year):\n",
        "  df = pd.read_parquet('/content/drive/MyDrive/traffic_stop/year_data/traffic_' + str(year) + '.parquet')\n",
        "  df_new = pd.crosstab(df['raw_row_number'], [df['subject_sex'], df['subject_race']], dropna=False)\n",
        "  df_new.columns = ['_'.join(map(str, x)) for x in df_new.columns]\n",
        "  df_new.reset_index(inplace=True)\n",
        "  df = df.merge(df_new, how='left', on=['raw_row_number'])\n",
        "  print(df)"
      ],
      "metadata": {
        "id": "g4J_Hx7IdlcC"
      },
      "execution_count": 7,
      "outputs": []
    },
    {
      "cell_type": "code",
      "source": [
        "checking(2007) "
      ],
      "metadata": {
        "id": "mgA2PI6Ndogq",
        "colab": {
          "base_uri": "https://localhost:8080/"
        },
        "outputId": "c9995f03-6bd5-4423-f8c7-2951f57f70eb"
      },
      "execution_count": 8,
      "outputs": [
        {
          "output_type": "stream",
          "name": "stdout",
          "text": [
            "        raw_row_number        date      time                    location  lat  \\\n",
            "0              2766545  2007-01-01  00:00:00  route: 0059, milepost: 698  NaN   \n",
            "1              2766546  2007-01-01  00:00:00  route: 0105, milepost: 442  NaN   \n",
            "2              2766547  2007-01-01  00:00:00  route: 2221, milepost: 508  NaN   \n",
            "3              2766548  2007-01-01  00:00:00  route: 0035, milepost: 176  NaN   \n",
            "4              2766549  2007-01-01  00:00:00  route: 0191, milepost: 258  NaN   \n",
            "...                ...         ...       ...                         ...  ...   \n",
            "2427342        5259623  2007-12-31  23:59:00            route: SOUTHWEST  NaN   \n",
            "2427343        5259624  2007-12-31  23:59:00  route: 0190, milepost: 540  NaN   \n",
            "2427344        5259625  2007-12-31  23:59:00  route: 0035, milepost: 297  NaN   \n",
            "2427345        5259626  2007-12-31  23:59:00  route: 0020, milepost: 587  NaN   \n",
            "2427346        5259627  2007-12-31  23:59:00  route: 0010, milepost: 148  NaN   \n",
            "\n",
            "         lng       county_name district precinct region  ... male_hispanic  \\\n",
            "0        NaN        Bee County        A     None      3  ...             1   \n",
            "1        NaN     Orange County        B     None      2  ...             0   \n",
            "2        NaN    Hidalgo County        A       31      8  ...             0   \n",
            "3        NaN  Guadalupe County        B       30      3  ...             0   \n",
            "4        NaN      Ector County        A     None      4  ...             0   \n",
            "...      ...               ...      ...      ...    ...  ...           ...   \n",
            "2427342  NaN    Wichita County        A       12      5  ...             0   \n",
            "2427343  NaN   Lampasas County        B     None      6  ...             0   \n",
            "2427344  NaN       Bell County        A       31      6  ...             1   \n",
            "2427345  NaN      Gregg County        B     None      1  ...             0   \n",
            "2427346  NaN  Culberson County        A     None      4  ...             0   \n",
            "\n",
            "        male_white male_other male_unknown female_asian/pacific islander  \\\n",
            "0                0          0            0                             0   \n",
            "1                1          0            0                             0   \n",
            "2                1          0            0                             0   \n",
            "3                0          0            0                             0   \n",
            "4                0          0            0                             0   \n",
            "...            ...        ...          ...                           ...   \n",
            "2427342          1          0            0                             0   \n",
            "2427343          1          0            0                             0   \n",
            "2427344          0          0            0                             0   \n",
            "2427345          1          0            0                             0   \n",
            "2427346          1          0            0                             0   \n",
            "\n",
            "         female_black  female_hispanic female_white female_other  \\\n",
            "0                   0                0            0            0   \n",
            "1                   0                0            0            0   \n",
            "2                   0                0            0            0   \n",
            "3                   0                0            1            0   \n",
            "4                   0                0            1            0   \n",
            "...               ...              ...          ...          ...   \n",
            "2427342             0                0            0            0   \n",
            "2427343             0                0            0            0   \n",
            "2427344             0                0            0            0   \n",
            "2427345             0                0            0            0   \n",
            "2427346             0                0            0            0   \n",
            "\n",
            "        female_unknown  \n",
            "0                    0  \n",
            "1                    0  \n",
            "2                    0  \n",
            "3                    0  \n",
            "4                    0  \n",
            "...                ...  \n",
            "2427342              0  \n",
            "2427343              0  \n",
            "2427344              0  \n",
            "2427345              0  \n",
            "2427346              0  \n",
            "\n",
            "[2427347 rows x 47 columns]\n"
          ]
        }
      ]
    },
    {
      "cell_type": "markdown",
      "source": [
        "> **Logistic Regression Without Violation Types**\n",
        " 1.   variables included: race variables, metropolitan, gender\n",
        "\n",
        "> **Logistic Regression With Violation Types**\n",
        "1. variables included: race variables, metropolitan, gender, violation type dummies (common type dummies + 'others' category)\n",
        "2. common violation types defined based on 'threshold' parameter: # of records required in each year\n",
        "\n",
        "> **Logistic Regression With Speeding-only records**\n",
        "1. variables included: race variables, metropolitan, gender\n",
        "2. filter rows to include speeding-only violations"
      ],
      "metadata": {
        "id": "dacSV_WlP-JL"
      }
    },
    {
      "cell_type": "code",
      "source": [
        "def single_vio_types(threshold, year_start, year_end):\n",
        "  \"\"\"\n",
        "  data format: violation type in data end with ' (#)'; more than 1 violation types: 'A|B'\n",
        "  returns a list of violation types with # of single violation records > threshold every year\n",
        "  \"\"\"\n",
        "  year_present_vios = {}\n",
        "  years = list(range(year_start, year_end + 1))\n",
        "\n",
        "  # get number of years in which a specific violation having # of single violation records more than threshold\n",
        "\n",
        "  for year in years:\n",
        "    print('Processing: ',year)\n",
        "    df = pd.read_parquet('/content/drive/MyDrive/traffic_stop/year_data/traffic_' + str(year) + '.parquet')\n",
        "\n",
        "    cnt_df = pd.DataFrame(df['violation'].value_counts(dropna=False))\n",
        "    \n",
        "    cnt_df = cnt_df.loc[cnt_df['violation'] > threshold]\n",
        "    single_vio_lst = [vio for vio in list(cnt_df.index) if '|' not in vio]\n",
        "\n",
        "    for vio in single_vio_lst:\n",
        "      if vio not in year_present_vios:\n",
        "        year_present_vios[vio] = 1\n",
        "      else:\n",
        "        year_present_vios[vio] += 1\n",
        "\n",
        "  vio_type_all = []\n",
        "  for vio, cnt in year_present_vios.items():\n",
        "    if cnt == len(years):\n",
        "      vio_type_all.append(vio)\n",
        "  vio_type_all = [vio.replace(' (#)', '').strip() for vio in vio_type_all]\n",
        "\n",
        "  return vio_type_all"
      ],
      "metadata": {
        "id": "M9qf6ItcP5We"
      },
      "execution_count": 18,
      "outputs": []
    },
    {
      "cell_type": "code",
      "source": [
        "year_start = 2006\n",
        "year_end = 2017\n",
        "# vio_vars used in preprocessing()\n",
        "vio_vars = single_vio_types(threshold = 5000, year_start = year_start, year_end = year_end)\n",
        "print(\"# of single violation types: \", len(vio_vars))\n",
        "vio_vars"
      ],
      "metadata": {
        "colab": {
          "base_uri": "https://localhost:8080/"
        },
        "id": "tkNthBVfQo9c",
        "outputId": "864e2774-6942-4b90-9e6a-6bd673446b7f"
      },
      "execution_count": 19,
      "outputs": [
        {
          "output_type": "stream",
          "name": "stdout",
          "text": [
            "Processing:  2006\n",
            "Processing:  2007\n",
            "Processing:  2008\n",
            "Processing:  2009\n",
            "Processing:  2010\n",
            "Processing:  2011\n",
            "Processing:  2012\n",
            "Processing:  2013\n",
            "Processing:  2014\n",
            "Processing:  2015\n",
            "Processing:  2016\n",
            "Processing:  2017\n",
            "# of single violation types:  22\n"
          ]
        },
        {
          "output_type": "execute_result",
          "data": {
            "text/plain": [
              "['Speeding Over Limit',\n",
              " 'Speeding-10% or More Above Posted Speed',\n",
              " 'No/Improper License Plate Lamp',\n",
              " 'Ride, Not Secured By Safety Belt-Driver (12-1-85)',\n",
              " 'Operate Motor Vehicle Without License Plates (Or With One Plate)',\n",
              " 'No/Non-Compliant Head Lamps',\n",
              " 'Improperly Placed Or Obstructed License Plate',\n",
              " 'Display Expired License Plates/Registration',\n",
              " 'No/Improper Mud Flap',\n",
              " 'No/Improper Tail Lamp - not Motorcycle',\n",
              " 'Following Too Closely',\n",
              " 'Drive On Improved Shoulder When Prohibited',\n",
              " 'Fail To Signal Lane Change',\n",
              " 'Disregard Stop Sign',\n",
              " 'Fail To Drive In Single Lane',\n",
              " 'Ride, Not Secured By Safety Belt-Passenger (When Required)',\n",
              " 'Fail to Move Over or Slow Down for Certain Vehicles',\n",
              " 'Inoperable/Obscured Stop Lamp(s)',\n",
              " 'Use Of Vision Reducing Matter On Windows - Glass Coating Material',\n",
              " 'Unsafe Speed',\n",
              " 'Fail To Control Speed',\n",
              " 'Drive in Left Lane When Not Passing or Where Prohibited']"
            ]
          },
          "metadata": {},
          "execution_count": 19
        }
      ]
    },
    {
      "cell_type": "code",
      "source": [
        "# this function is called by preprocess(year, keep_col, rm_na_col, violation_types)\n",
        "def get_vio_df(violation_types, vio_col):\n",
        "  \"\"\"\n",
        "  function to generate dummy encoding of violation types\n",
        "  PARAMS:\n",
        "  violation_types: single violation types with # of records each year > threshold, obtained from single_vio_types(threshold, year_start, year_end)\n",
        "  vio_col: violation type column in data file\n",
        "  \"\"\"\n",
        "\n",
        "  vio_df_dict  = {vio: [] for vio in violation_types}\n",
        "  vio_df_dict['others'] = []\n",
        "\n",
        "  for vio in vio_col:\n",
        "    vio_lst = vio.split('|')\n",
        "    vio_lst = [vio.replace(' (#)', '').strip() for vio in vio_lst]\n",
        "    # if single violation\n",
        "    if len(vio_lst) == 1:\n",
        "      vio = vio.replace(' (#)', '').strip()\n",
        "      # if vio in violation_types\n",
        "      if vio in violation_types:\n",
        "        vio_df_dict[vio].append(1)\n",
        "        vio_df_dict['others'].append(0)\n",
        "        for vio_var in violation_types:\n",
        "          if vio_var != vio:\n",
        "            vio_df_dict[vio_var].append(0)\n",
        "\n",
        "      # if vio not in violation_types\n",
        "      else:\n",
        "        vio_df_dict['others'].append(1)\n",
        "        for vio_var in violation_types:\n",
        "          vio_df_dict[vio_var].append(0)\n",
        "    \n",
        "    # if multiple violations\n",
        "    if len(vio_lst) > 1:\n",
        "\n",
        "      # for single vio variables\n",
        "      for vio_var in violation_types:\n",
        "        # if has one of violation_types\n",
        "        if vio_var in vio_lst:\n",
        "          vio_df_dict[vio_var].append(1)\n",
        "        # if violation_type not present\n",
        "        else:\n",
        "          vio_df_dict[vio_var].append(0)\n",
        "\n",
        "      # for the 'others' variable\n",
        "      # if have one vio not in violation_types, 'other' = 1\n",
        "      vars_vio_cnt = 0\n",
        "      for violation in vio_lst:\n",
        "        if violation not in violation_types:\n",
        "          vio_df_dict['others'].append(1)\n",
        "          break\n",
        "        else:\n",
        "          vars_vio_cnt += 1\n",
        "      # if all violations of this record in violation_types\n",
        "      if vars_vio_cnt == len(vio_lst):\n",
        "        vio_df_dict['others'].append(0)\n",
        "\n",
        "  vio_df = pd.DataFrame(vio_df_dict)\n",
        "  vio_df['violation'] = vio_col.values\n",
        "\n",
        "  return vio_df"
      ],
      "metadata": {
        "id": "D4Buk6vjQrC6"
      },
      "execution_count": 20,
      "outputs": []
    },
    {
      "cell_type": "markdown",
      "source": [
        "> *Function to help filter speeding-only: speeding_filter() used in preprocess()*"
      ],
      "metadata": {
        "id": "5cj7JOWmQv5p"
      }
    },
    {
      "cell_type": "code",
      "source": [
        "def remove_duplicates(row):\n",
        "  if row['speeding_only'] == 'speeding-repeated_entries':\n",
        "    return row['all_violation'][0].strip()\n",
        "  else:\n",
        "    return row['violation']\n",
        "\n",
        "def remove_white_spaces(vio_lst):\n",
        "  vio_lst = [x.strip() for x in vio_lst]\n",
        "  return vio_lst\n",
        "  \n",
        "def exclusive(vio_lst):\n",
        "  count = 0\n",
        "  for vio in vio_lst:\n",
        "    # count number of violations containing 'speed'\n",
        "    if 'speed' in vio:\n",
        "      count += 1\n",
        "  # if we have non-speeding violation\n",
        "  if count < len(vio_lst):\n",
        "    return 'speeding + others'\n",
        "  # if we only have speeding violation\n",
        "  elif count == len(vio_lst):\n",
        "    # if one speeding vio type\n",
        "    if count == 1:\n",
        "      return 'speeding-1'\n",
        "    # if we have more than one entries but only one type\n",
        "    elif len(set(vio_lst)) == 1:\n",
        "      return 'speeding-repeated_entries'\n",
        "    # if we have more than one type\n",
        "    else:\n",
        "      return 'speeding-multiple'\n",
        "  else:\n",
        "    return 'undefined case'"
      ],
      "metadata": {
        "id": "K3jsTYAMQus4"
      },
      "execution_count": 21,
      "outputs": []
    },
    {
      "cell_type": "code",
      "source": [
        "def speeding_filter(df):\n",
        "  print('Before speed filtering: ', len(df))\n",
        "  df['violation'] = [s.lower() for s in df['violation']]\n",
        "  # at least one violation is speeding-violated (could have other violations at the same time)\n",
        "  df = df.loc[df['violation'].str.contains('speed', regex = False),:]\n",
        "  df['violation'] = df['violation'].map(lambda x: x.replace('(#)',''))\n",
        "  df['violation'] = df['violation'].map(lambda x: x.strip())\n",
        "\n",
        "  # get a list of violations for each record, and apply self-defined func exclusive\n",
        "  df['all_violation'] = df['violation'].str.split('|')\n",
        "  df['all_violation'] = df['all_violation'].map(lambda x: remove_white_spaces(x))\n",
        "  df['speeding_only'] = df['all_violation'].map(lambda x: exclusive(x))\n",
        "\n",
        "  # filter out rows with violations other than speeding\n",
        "  df = df.loc[df['speeding_only'].isin(['speeding-repeated_entries','speeding-1','speeding-multiple']),:]\n",
        "\n",
        "  df['violation'] = df.apply(lambda row: remove_duplicates(row), axis = 1)\n",
        "\n",
        "  df.drop(['all_violation','speeding_only'], axis = 1, inplace = True)\n",
        "  print('Speeding only violation has records: ', len(df))\n",
        "  return df"
      ],
      "metadata": {
        "id": "8VdFKUEbQ79U"
      },
      "execution_count": 22,
      "outputs": []
    },
    {
      "cell_type": "code",
      "source": [
        "# columns we need in the analysis\n",
        "keep_col = [\n",
        "            'county_name', \n",
        "            'subject_race',\n",
        "            'subject_sex',\n",
        "            'violation', \n",
        "            'search_conducted'\n",
        "            ]\n",
        "\n",
        "# delete rows with missing value in these columns           \n",
        "rm_na_col = ['county_name','violation','subject_race','subject_sex']\n",
        "\n",
        "# this function is called by preprocess\n",
        "def remove_empty_rows(df, colName):\n",
        "\tdf = df[df[colName] != 'unknown']\n",
        "\n",
        "\tdf = df[df[colName].notna()]\n",
        "\treturn(df)"
      ],
      "metadata": {
        "id": "etg0W8guQ97A"
      },
      "execution_count": 23,
      "outputs": []
    },
    {
      "cell_type": "markdown",
      "source": [
        "The whole **metropolitan block** needs to change: the new state's data file path and preprocessing and join."
      ],
      "metadata": {
        "id": "wJOIBaRLRAzT"
      }
    },
    {
      "cell_type": "code",
      "source": [
        "### this function used in run_year_analysis()\n",
        "def preprocess(year, keep_col, rm_na_col, with_vio = False, violation_types=None, speeding_only = False):\n",
        "  \"\"\"\n",
        "  with_vio: if include vioation type variables: True, if not include, False\n",
        "  violation_types: violation types to be included in the analysis\n",
        "  \"\"\"\n",
        "  # read dataframe\n",
        "  filename = '/content/drive/MyDrive/traffic_stop/year_data/traffic_' + str(year) + '.parquet'\n",
        "  df = pd.read_parquet(filename, engine = 'pyarrow')\n",
        "  print('# of all traffic stops in year ', year, ': ', len(df))\n",
        "\n",
        "  # invalid value (IF NOT TEXAS STATE DATA, DELETE THIS INVALID VALUE BLOCK)\n",
        "  if year == 2013:\n",
        "    df.drop(df.index[df['lat'] == 74.052879], inplace=True)\n",
        "\n",
        "  # drop unrelated columns\n",
        "  col_drop = [col for col in df.columns if col not in keep_col]\n",
        "  df.drop(col_drop, axis = 1, inplace = True)\n",
        "\n",
        "  # remove rows with missing values in rm_na_col\n",
        "  for col in rm_na_col:\n",
        "    df = remove_empty_rows(df, col)\n",
        "\n",
        "  # filter rows if speeding_only\n",
        "  if speeding_only:\n",
        "    # filter: only speeding violation (no other violations) \n",
        "    df = speeding_filter(df)\n",
        "\n",
        "  ######### THIS WHOLE BLOACK NEEDS TO BE CHANGED, NEW METROPOLITAN FILES AND DIFFERENT DATA FORMAT #########\n",
        "\n",
        "  # County names are converted to county type - metropolitan, micropolitan or non-core\n",
        "  # For definitions, see US OMB website\n",
        "\n",
        "  # read in county info csv\n",
        "  county_df = pd.read_csv('/content/drive/MyDrive/traffic_stop/2014-2018.csv')\n",
        "  county_df = county_df[county_df['State']=='Texas']\n",
        "  county_df = county_df.filter(items=['Metropolitan Status', 'County Name'])\n",
        "\n",
        "  # transform column\n",
        "  df['county'] = [name[:-7] for name in df['county_name']]\n",
        "  df['county'] = df['county'].replace('Dewitt','DeWitt')\n",
        "  df = df.join(county_df.set_index('County Name'), on='county')\n",
        "  df.drop('county', axis = 1, inplace=True)\n",
        "  df.rename(columns={'Metropolitan Status':'county_type'}, inplace=True)\n",
        "\n",
        "  ######### Metropolitan block ends here #########\n",
        "\n",
        "  # Convert 'search_conducted' to integer\n",
        "  df[\"search_conducted\"].fillna(False, inplace = True)\n",
        "  df = df.astype({'search_conducted': 'int64'})\n",
        "\n",
        "  # if race is other/unknown, we delete the rows!\n",
        "  df = df.loc[(df['subject_race'] != 'unknown') & (df['subject_race'] != 'other'),:]\n",
        "  df['subject_race'] = df.subject_race.cat.remove_unused_categories()\n",
        "\n",
        "  #created new cross tab feature for male_white, female_white etc\n",
        "  df_new = pd.crosstab(df['violation'], [df['subject_sex'], df['subject_race']], dropna=False)\n",
        "  df_new.columns = ['_'.join(map(str, x)) for x in df_new.columns]\n",
        "  df_new.reset_index(inplace=True)\n",
        "  df = df.merge(df_new, how='left', on=['violation'])\n",
        "  #remove name of county since only type matters-> metropolitan etc\n",
        "  df.drop(['county_name'], axis = 1, inplace = True)\n",
        "\n",
        "  if with_vio:\n",
        "\n",
        "    # get violation variables\n",
        "    vio_df = get_vio_df(violation_types, vio_col = df['violation'])\n",
        "    vio_df.drop('violation', axis = 1, inplace = True)\n",
        "\n",
        "#  county_name,  subject_race,  subject_sex, violation, search_conducted\n",
        "# other x variables get dummies\n",
        "    y = df['search_conducted']\n",
        "    df.drop(['violation','search_conducted'], axis = 1, inplace = True)\n",
        "    df = pd.get_dummies(df)\n",
        "    df.drop(['subject_race_white', 'county_type_Metropolitan', 'subject_sex_male', 'subject_race_black','subject_race_hispanic','subject_race_asian/pacific islander','subject_sex_female'], axis = 1, inplace = True)\n",
        "\n",
        "    #vio_df.drop('Speeding Over Limit', axis = 1, inplace = True), I don't think vio_type needs a base level, as no multicollinearity\n",
        "    df.reset_index(drop=True, inplace=True)\n",
        "    vio_df.reset_index(drop=True, inplace=True)\n",
        "    y.reset_index(drop=True, inplace=True)\n",
        "    X = pd.concat([df, vio_df], axis = 1)\n",
        "    X.columns = list(df.columns) + list(vio_df.columns)\n",
        "\n",
        "    print('# of traffic stops after preprocessing in year ', year, ': ', len(X))\n",
        "    return (y, X)\n",
        "\n",
        "  elif not with_vio:\n",
        "\n",
        "    # other x variables get dummies\n",
        "    y = df['search_conducted']\n",
        "    df.drop(['violation','search_conducted'], axis = 1, inplace = True)\n",
        "    df = pd.get_dummies(df)\n",
        "    df.drop(['subject_race_white', 'county_type_Metropolitan', 'subject_sex_male', 'subject_race_black','subject_race_hispanic','subject_race_asian/pacific islander','subject_sex_female'], axis = 1, inplace = True)\n",
        "    \n",
        "    df.reset_index(drop=True, inplace=True)\n",
        "    y.reset_index(drop=True, inplace=True)\n",
        "\n",
        "    print('# of traffic stops after preprocessing in year ', year, ': ', len(df))\n",
        "    return (y, df)"
      ],
      "metadata": {
        "id": "GUWUWvSMQ_0-"
      },
      "execution_count": 35,
      "outputs": []
    },
    {
      "cell_type": "markdown",
      "source": [
        "We assume in the data, race info is recorded in the column **'subject_race'**, with values **white, black, hispanic, asian/pacific islander**. -> pd.get_dummies() used in preprocess gives us variables like subject_race_black.\n",
        "\n",
        "In some states' data, race info column name may be different and race categories may be different. In this case, the function **run_year_analysis** needs to change the **last three code blocks** with comments: # append race coefs to result list for plotting, # lower CI, and # upper CI to race column name + '_' + race category.\n",
        "\n",
        "The function above: **preprocessing() needs to change accordingly** as well. (where we drop base levels, use subject_race as the column name, etc.)"
      ],
      "metadata": {
        "id": "FZMWgJx_RLXc"
      }
    },
    {
      "cell_type": "code",
      "source": [
        "### this function used in generate_outputs()\n",
        "def run_year_analysis(keep_col, rm_na_col, df_years, with_vio = False, violation_types=None, speeding_only = False):\n",
        "  \"\"\"\n",
        "  param:\n",
        "  violation_types: violation types to be included in the analysis\n",
        "\n",
        "  Output:\n",
        "  A result dataframe\n",
        "  \"\"\"\n",
        "  years = list(range(year_start, year_end+1))\n",
        "\n",
        "  for year in years:\n",
        "    # read in the data\n",
        "    print('***********************************')\n",
        "    print(year)\n",
        "\n",
        "    # read in and preprocess data\n",
        "    y, X = preprocess(year, keep_col, rm_na_col, with_vio, violation_types, speeding_only)\n",
        "    \n",
        "    #adding constant to X\n",
        "    X_with_constant = sm.add_constant(X)\n",
        "    # building the model and fitting the data\n",
        "    log_reg = sm.Logit(y, X_with_constant).fit()\n",
        "    \n",
        "    res_df = pd.DataFrame({'variable':list(log_reg.params.index), 'coef':list(log_reg.params.values), \n",
        "                           'odds_ratio':list(np.exp(log_reg.params.values)),\n",
        "                           'lower_CI':list(np.exp(log_reg.conf_int()[0].values)),\n",
        "                           'upper_CI':list(np.exp(log_reg.conf_int()[1].values)),'pvalue':list(log_reg.pvalues)})\n",
        "\n",
        "    df_years = df_years.merge(res_df, left_on = 'variable', right_on = 'variable', how = 'outer')\n",
        "    df_years = df_years.rename(columns = {'coef': ('coef_' + str(year)), \n",
        "                                          'odds_ratio': ('odds_ratio_' + str(year)),\n",
        "                                          'lower_CI': ('OR_lower_CI_' + str(year)),\n",
        "                                          'upper_CI': ('OR_upper_CI_' + str(year)), \n",
        "                                          'pvalue': ('pvalue_' + str(year))})\n",
        "\n",
        "    # append race coefs to result list for plotting\n",
        "    female_white.append(np.exp(log_reg.params['female_white']))\n",
        "    male_black.append(np.exp(log_reg.params['male_black']))\n",
        "    female_black.append(np.exp(log_reg.params['female_black']))\n",
        "    male_hispanic.append(np.exp(log_reg.params['male_hispanic']))\n",
        "    female_hispanic.append(np.exp(log_reg.params['female_hispanic']))\n",
        "    male_asianpacific.append(np.exp(log_reg.params['male_asian/pacific islander']))\n",
        "    female_asianpacific.append(np.exp(log_reg.params['female_asian/pacific islander']))\n",
        "\n",
        "    # lower CI\n",
        "    female_white_low.append(np.exp(log_reg.conf_int()[0]['female_white']))\n",
        "    male_black_low.append(np.exp(log_reg.conf_int()[0]['male_black']))\n",
        "    female_black_low.append(np.exp(log_reg.conf_int()[0]['female_black']))\n",
        "    male_hispanic_low.append(np.exp(log_reg.conf_int()[0]['male_hispanic']))\n",
        "    female_hispanic_low.append(np.exp(log_reg.conf_int()[0]['female_hispanic']))\n",
        "    male_asianpacific_low.append(np.exp(log_reg.conf_int()[0]['male_asian/pacific islander']))\n",
        "    female_asianpacific_low.append(np.exp(log_reg.conf_int()[0]['female_asian/pacific islander']))\n",
        "\n",
        "    # upper CI\n",
        "    female_white_high.append(np.exp(log_reg.conf_int()[1]['female_white']))\n",
        "    male_black_high.append(np.exp(log_reg.conf_int()[1]['male_black']))\n",
        "    female_black_high.append(np.exp(log_reg.conf_int()[1]['female_black']))\n",
        "    male_hispanic_high.append(np.exp(log_reg.conf_int()[1]['male_hispanic']))\n",
        "    female_hispanic_high.append(np.exp(log_reg.conf_int()[1]['female_hispanic']))\n",
        "    male_asianpacific_high.append(np.exp(log_reg.conf_int()[1]['male_asian/pacific islander']))\n",
        "    female_asianpacific_high.append(np.exp(log_reg.conf_int()[1]['female_asian/pacific islander']))\n",
        "\n",
        "  return df_years\n",
        "\n",
        "# write result df to csv file"
      ],
      "metadata": {
        "id": "QvogBak-RJS4"
      },
      "execution_count": 43,
      "outputs": []
    },
    {
      "cell_type": "markdown",
      "source": [
        "> *Function to output coefficient estimate & odds ratio csv files and odds ratio figures*\n",
        "\n",
        "If including violation type variables, set with_vio = true, violation_types = what you get from single_vio_types(threshold, year_start, year_end).\n",
        "\n",
        "If not including violation type variables, set as default: with_vio = False, violation_types = None."
      ],
      "metadata": {
        "id": "rTuaWBe6RfUL"
      }
    },
    {
      "cell_type": "code",
      "source": [
        "def generate_outputs(folder_path, with_vio = False, violation_types = None, speeding_only = False):\n",
        "  \"\"\"\n",
        "  function outputs a csv file, a jpg and an svg figure\n",
        "  PARAMS:\n",
        "  folder path: eg., '/gdrive/MyDrive/traffic_stop/output_0502/' \n",
        "  \"\"\"\n",
        "  # columns to store\n",
        "  var_lst_baseline = ['male_black', 'female_black', 'male_hispanic', 'male_asian/pacific islander',\n",
        "                      'female_hispanic', 'female_asian/pacific islander', 'female_white',                  \n",
        "                      'county_type_Non core', 'county_type_Micropolitan']\n",
        "\n",
        "  df_years = pd.DataFrame({'variable':var_lst_baseline})\n",
        "\n",
        "  if not with_vio:\n",
        "    res_df = run_year_analysis(keep_col = keep_col, rm_na_col = rm_na_col, df_years = df_years, with_vio = False, violation_types = None, speeding_only = speeding_only)\n",
        "  else:\n",
        "    res_df = run_year_analysis(keep_col = keep_col, rm_na_col = rm_na_col, df_years = df_years, with_vio = True, violation_types = violation_types)\n",
        "  \n",
        "  # save csv\n",
        "  if speeding_only:\n",
        "    file_name = 'ORSCInter_speeding.csv'\n",
        "  elif not speeding_only:\n",
        "    if with_vio:\n",
        "      file_name = 'ORSCInter_with_vios.csv'\n",
        "    else:\n",
        "      file_name = 'ORSCInter_no_vios.csv'\n",
        "\n",
        "  # CHANGE THE PATH\n",
        "  save_path = folder_path + file_name\n",
        "  res_df.to_csv(save_path, index = False)\n",
        "\n",
        "  years = list(range(year_start, year_end + 1))\n",
        "  \n",
        "  sns.lineplot(x = years, y = male_black, color = 'red', label=\"Male-Black\")\n",
        "  sns.lineplot(x = years, y = female_black, color = 'plum', label=\"Female-Black\")\n",
        "  sns.lineplot(x = years, y = male_hispanic, color = 'blue', label=\"Male-Hispanic\")\n",
        "  sns.lineplot(x = years, y = female_hispanic, color = 'green', label=\"Female-Hispanic\")\n",
        "  sns.lineplot(x = years, y = male_asianpacific, color = 'aqua', label=\"Male-Asian/Pacific Islander\")\n",
        "  sns.lineplot(x = years, y = female_asianpacific, color = 'coral', label=\"Female-Asian/Pacific Islander\")\n",
        "  sns.lineplot(x = years, y = female_white, color = 'chocolate', label=\"Female-White\")\n",
        "\n",
        "  sns.lineplot(x = years, y = male_black_low, color = 'red', linestyle='--')\n",
        "  sns.lineplot(x = years, y = female_black_low, color = 'plum', linestyle='--')\n",
        "  sns.lineplot(x = years, y = male_hispanic_low, color = 'blue', linestyle='--')\n",
        "  sns.lineplot(x = years, y = female_hispanic_low, color = 'green', linestyle='--')\n",
        "  sns.lineplot(x = years, y = male_asianpacific_low, color = 'aqua', linestyle='--')\n",
        "  sns.lineplot(x = years, y = female_asianpacific_low, color = 'coral', linestyle='--')\n",
        "  sns.lineplot(x = years, y = female_white_low, color = 'chocolate', linestyle='--')\n",
        "\n",
        "  sns.lineplot(x = years, y = male_black_high, color = 'red', linestyle='--')\n",
        "  sns.lineplot(x = years, y = female_black_high, color = 'plum', linestyle='--')\n",
        "  sns.lineplot(x = years, y = male_hispanic_high, color = 'blue', linestyle='--')\n",
        "  sns.lineplot(x = years, y = female_hispanic_high, color = 'green', linestyle='--')\n",
        "  sns.lineplot(x = years, y = male_asianpacific_high, color = 'aqua', linestyle='--')\n",
        "  sns.lineplot(x = years, y = female_asianpacific_high, color = 'coral', linestyle='--')\n",
        "  sns.lineplot(x = years, y = female_white_high, color = 'chocolate', linestyle='--')\n",
        "\n",
        "  plt.xlabel('Year')\n",
        "  plt.ylabel('Odds Ratio')\n",
        "  plt.legend([\"Male-Black\", \"Female-Black\", \"Male-Hispanic\", \"Female-Hispanic\" , \"Male-Asian/Pacific Islander\", \"Female-Asian/Pacific Islander\", \"Female-White\"],\n",
        "           bbox_to_anchor = (1.05, 0.6))\n",
        "\n",
        "  # CHANGE THE PATH HERE\n",
        "  figure_name1 = file_name.replace('csv', 'svg')\n",
        "  figure_name2 = file_name.replace('csv', 'jpg')\n",
        "  figure_name3 = file_name.replace('csv', 'pdf')\n",
        "  plt.savefig((folder_path+figure_name1), format = 'svg', bbox_inches=\"tight\")\n",
        "  plt.savefig((folder_path+figure_name2), dpi = 200, bbox_inches=\"tight\")\n",
        "  plt.savefig((folder_path+figure_name3), format=\"pdf\", bbox_inches=\"tight\")\n",
        "\n",
        "  plt.show()\n"
      ],
      "metadata": {
        "id": "7QuTZm8BReUO"
      },
      "execution_count": 44,
      "outputs": []
    },
    {
      "cell_type": "markdown",
      "source": [
        "> **WITHOUT VIOLATION TYPE VARIABLES**"
      ],
      "metadata": {
        "id": "TuFT4bf0SLOF"
      }
    },
    {
      "cell_type": "code",
      "source": [
        "# keep track of coefficient estimates and evaluation metrics\n",
        "year_end = 2016\n",
        "\t\n",
        "male_black = []\n",
        "female_black = []\t\n",
        "male_asianpacific = []\n",
        "female_asianpacific = []\n",
        "male_hispanic = []\n",
        "female_hispanic = []\n",
        "female_white = []\n",
        "\n",
        "male_black_low = []\n",
        "female_black_low = []\t\n",
        "male_asianpacific_low = []\n",
        "female_asianpacific_low = []\n",
        "male_hispanic_low = []\n",
        "female_hispanic_low = []\n",
        "female_white_low = []\n",
        "\n",
        "male_black_high = []\n",
        "female_black_high = []\t\n",
        "male_asianpacific_high = []\n",
        "female_asianpacific_high = []\n",
        "male_hispanic_high = []\n",
        "female_hispanic_high = []\n",
        "female_white_high = []\n",
        "\n",
        "generate_outputs(folder_path ='/content/drive/MyDrive/traffic_stop/output_0502/', with_vio = False, violation_types = None)"
      ],
      "metadata": {
        "colab": {
          "base_uri": "https://localhost:8080/",
          "height": 1000
        },
        "id": "MbJ4DfrFSRq4",
        "outputId": "7ff66172-511f-4577-977d-0c234d3ac0cb"
      },
      "execution_count": 45,
      "outputs": [
        {
          "output_type": "stream",
          "name": "stdout",
          "text": [
            "***********************************\n",
            "2006\n",
            "# of all traffic stops in year  2006 :  2693894\n",
            "# of traffic stops after preprocessing in year  2006 :  2671708\n",
            "Optimization terminated successfully.\n",
            "         Current function value: 0.127840\n",
            "         Iterations 9\n",
            "***********************************\n",
            "2007\n",
            "# of all traffic stops in year  2007 :  2427347\n",
            "# of traffic stops after preprocessing in year  2007 :  2404322\n",
            "Optimization terminated successfully.\n",
            "         Current function value: 0.125449\n",
            "         Iterations 9\n",
            "***********************************\n",
            "2008\n",
            "# of all traffic stops in year  2008 :  2526783\n",
            "# of traffic stops after preprocessing in year  2008 :  2432074\n",
            "Optimization terminated successfully.\n",
            "         Current function value: 0.107449\n",
            "         Iterations 9\n",
            "***********************************\n",
            "2009\n",
            "# of all traffic stops in year  2009 :  2441306\n",
            "# of traffic stops after preprocessing in year  2009 :  2368223\n",
            "Optimization terminated successfully.\n",
            "         Current function value: 0.087165\n",
            "         Iterations 9\n",
            "***********************************\n",
            "2010\n",
            "# of all traffic stops in year  2010 :  2525296\n",
            "# of traffic stops after preprocessing in year  2010 :  2449377\n",
            "Optimization terminated successfully.\n",
            "         Current function value: 0.091941\n",
            "         Iterations 9\n",
            "***********************************\n",
            "2011\n",
            "# of all traffic stops in year  2011 :  2588004\n",
            "# of traffic stops after preprocessing in year  2011 :  2508218\n",
            "Optimization terminated successfully.\n",
            "         Current function value: 0.093961\n",
            "         Iterations 9\n",
            "***********************************\n",
            "2012\n",
            "# of all traffic stops in year  2012 :  2435812\n",
            "# of traffic stops after preprocessing in year  2012 :  2364658\n",
            "Optimization terminated successfully.\n",
            "         Current function value: 0.088159\n",
            "         Iterations 9\n",
            "***********************************\n",
            "2013\n",
            "# of all traffic stops in year  2013 :  2134936\n",
            "# of traffic stops after preprocessing in year  2013 :  2071465\n",
            "Optimization terminated successfully.\n",
            "         Current function value: 0.079868\n",
            "         Iterations 9\n",
            "***********************************\n",
            "2014\n",
            "# of all traffic stops in year  2014 :  1878488\n",
            "# of traffic stops after preprocessing in year  2014 :  1816151\n",
            "Optimization terminated successfully.\n",
            "         Current function value: 0.075410\n",
            "         Iterations 9\n",
            "***********************************\n",
            "2015\n",
            "# of all traffic stops in year  2015 :  1745385\n",
            "# of traffic stops after preprocessing in year  2015 :  1678602\n",
            "Optimization terminated successfully.\n",
            "         Current function value: 0.070652\n",
            "         Iterations 9\n",
            "***********************************\n",
            "2016\n",
            "# of all traffic stops in year  2016 :  1832207\n",
            "# of traffic stops after preprocessing in year  2016 :  1830586\n",
            "Optimization terminated successfully.\n",
            "         Current function value: 0.076629\n",
            "         Iterations 9\n"
          ]
        },
        {
          "output_type": "display_data",
          "data": {
            "text/plain": [
              "<Figure size 432x288 with 1 Axes>"
            ],
            "image/png": "[encoded data removed]"
          },
          "metadata": {
            "needs_background": "light"
          }
        }
      ]
    },
    {
      "cell_type": "markdown",
      "source": [
        "> **WITH VIOLATION TYPE VARIABLES**"
      ],
      "metadata": {
        "id": "WfMHyWAaSSjK"
      }
    },
    {
      "cell_type": "code",
      "source": [
        "\t\n",
        "male_black = []\n",
        "female_black = []\t\n",
        "male_asianpacific = []\n",
        "female_asianpacific = []\n",
        "male_hispanic = []\n",
        "female_hispanic = []\n",
        "female_white = []\n",
        "\n",
        "male_black_low = []\n",
        "female_black_low = []\t\n",
        "male_asianpacific_low = []\n",
        "female_asianpacific_low = []\n",
        "male_hispanic_low = []\n",
        "female_hispanic_low = []\n",
        "female_white_low = []\n",
        "\n",
        "male_black_high = []\n",
        "female_black_high = []\t\n",
        "male_asianpacific_high = []\n",
        "female_asianpacific_high = []\n",
        "male_hispanic_high = []\n",
        "female_hispanic_high = []\n",
        "female_white_high = []\n",
        "\n",
        "generate_outputs(folder_path ='/content/drive/MyDrive/traffic_stop/output_0502/', with_vio = True, violation_types = vio_vars)"
      ],
      "metadata": {
        "colab": {
          "base_uri": "https://localhost:8080/",
          "height": 1000
        },
        "id": "bQcbQF1DUrLU",
        "outputId": "a330016e-b13b-4fc7-855d-049974f933b9"
      },
      "execution_count": 46,
      "outputs": [
        {
          "output_type": "stream",
          "name": "stdout",
          "text": [
            "***********************************\n",
            "2006\n",
            "# of all traffic stops in year  2006 :  2693894\n",
            "# of traffic stops after preprocessing in year  2006 :  2671708\n",
            "Optimization terminated successfully.\n",
            "         Current function value: 0.120721\n",
            "         Iterations 9\n",
            "***********************************\n",
            "2007\n",
            "# of all traffic stops in year  2007 :  2427347\n",
            "# of traffic stops after preprocessing in year  2007 :  2404322\n",
            "Optimization terminated successfully.\n",
            "         Current function value: 0.118102\n",
            "         Iterations 9\n",
            "***********************************\n",
            "2008\n",
            "# of all traffic stops in year  2008 :  2526783\n",
            "# of traffic stops after preprocessing in year  2008 :  2432074\n",
            "Optimization terminated successfully.\n",
            "         Current function value: 0.102264\n",
            "         Iterations 9\n",
            "***********************************\n",
            "2009\n",
            "# of all traffic stops in year  2009 :  2441306\n",
            "# of traffic stops after preprocessing in year  2009 :  2368223\n",
            "Optimization terminated successfully.\n",
            "         Current function value: 0.083694\n",
            "         Iterations 9\n",
            "***********************************\n",
            "2010\n",
            "# of all traffic stops in year  2010 :  2525296\n",
            "# of traffic stops after preprocessing in year  2010 :  2449377\n",
            "Optimization terminated successfully.\n",
            "         Current function value: 0.088429\n",
            "         Iterations 9\n",
            "***********************************\n",
            "2011\n",
            "# of all traffic stops in year  2011 :  2588004\n",
            "# of traffic stops after preprocessing in year  2011 :  2508218\n",
            "Optimization terminated successfully.\n",
            "         Current function value: 0.089771\n",
            "         Iterations 9\n",
            "***********************************\n",
            "2012\n",
            "# of all traffic stops in year  2012 :  2435812\n",
            "# of traffic stops after preprocessing in year  2012 :  2364658\n",
            "Optimization terminated successfully.\n",
            "         Current function value: 0.084056\n",
            "         Iterations 9\n",
            "***********************************\n",
            "2013\n",
            "# of all traffic stops in year  2013 :  2134936\n",
            "# of traffic stops after preprocessing in year  2013 :  2071465\n",
            "Optimization terminated successfully.\n",
            "         Current function value: 0.075900\n",
            "         Iterations 10\n",
            "***********************************\n",
            "2014\n",
            "# of all traffic stops in year  2014 :  1878488\n",
            "# of traffic stops after preprocessing in year  2014 :  1816151\n",
            "Optimization terminated successfully.\n",
            "         Current function value: 0.072429\n",
            "         Iterations 9\n",
            "***********************************\n",
            "2015\n",
            "# of all traffic stops in year  2015 :  1745385\n",
            "# of traffic stops after preprocessing in year  2015 :  1678602\n",
            "Optimization terminated successfully.\n",
            "         Current function value: 0.068345\n",
            "         Iterations 10\n",
            "***********************************\n",
            "2016\n",
            "# of all traffic stops in year  2016 :  1832207\n",
            "# of traffic stops after preprocessing in year  2016 :  1830586\n",
            "Optimization terminated successfully.\n",
            "         Current function value: 0.073336\n",
            "         Iterations 10\n"
          ]
        },
        {
          "output_type": "display_data",
          "data": {
            "text/plain": [
              "<Figure size 432x288 with 1 Axes>"
            ],
            "image/png": "[encoded data removed]"
          },
          "metadata": {
            "needs_background": "light"
          }
        }
      ]
    },
    {
      "cell_type": "markdown",
      "source": [
        "> **SPEEDING-ONLY VIOLATIONS, without violation_types**"
      ],
      "metadata": {
        "id": "PC0aWz1vUtqA"
      }
    },
    {
      "cell_type": "code",
      "source": [
        "\t\n",
        "male_black = []\n",
        "female_black = []\t\n",
        "male_asianpacific = []\n",
        "female_asianpacific = []\n",
        "male_hispanic = []\n",
        "female_hispanic = []\n",
        "female_white = []\n",
        "\n",
        "male_black_low = []\n",
        "female_black_low = []\t\n",
        "male_asianpacific_low = []\n",
        "female_asianpacific_low = []\n",
        "male_hispanic_low = []\n",
        "female_hispanic_low = []\n",
        "female_white_low = []\n",
        "\n",
        "male_black_high = []\n",
        "female_black_high = []\t\n",
        "male_asianpacific_high = []\n",
        "female_asianpacific_high = []\n",
        "male_hispanic_high = []\n",
        "female_hispanic_high = []\n",
        "female_white_high = []\n",
        "\n",
        "\n",
        "generate_outputs(folder_path ='/content/drive/MyDrive/traffic_stop/output_0502/', with_vio = False, violation_types = None, speeding_only = True)"
      ],
      "metadata": {
        "colab": {
          "base_uri": "https://localhost:8080/",
          "height": 1000
        },
        "id": "RwQ1CLeDU0T2",
        "outputId": "6a3f6477-d202-45d1-829c-0ebfb61d7eac"
      },
      "execution_count": 47,
      "outputs": [
        {
          "output_type": "stream",
          "name": "stdout",
          "text": [
            "***********************************\n",
            "2006\n",
            "# of all traffic stops in year  2006 :  2693894\n",
            "Before speed filtering:  2673511\n",
            "Speeding only violation has records:  1235103\n",
            "# of traffic stops after preprocessing in year  2006 :  1234128\n",
            "Optimization terminated successfully.\n",
            "         Current function value: 0.049365\n",
            "         Iterations 25\n",
            "***********************************\n",
            "2007\n",
            "# of all traffic stops in year  2007 :  2427347\n",
            "Before speed filtering:  2405744\n",
            "Speeding only violation has records:  1110868\n",
            "# of traffic stops after preprocessing in year  2007 :  1110125\n",
            "Optimization terminated successfully.\n",
            "         Current function value: 0.048252\n",
            "         Iterations 20\n",
            "***********************************\n",
            "2008\n",
            "# of all traffic stops in year  2008 :  2526783\n",
            "Before speed filtering:  2434970\n",
            "Speeding only violation has records:  1114925\n",
            "# of traffic stops after preprocessing in year  2008 :  1113530\n",
            "Optimization terminated successfully.\n",
            "         Current function value: 0.042721\n",
            "         Iterations 13\n",
            "***********************************\n",
            "2009\n",
            "# of all traffic stops in year  2009 :  2441306\n",
            "Before speed filtering:  2370986\n",
            "Speeding only violation has records:  1093968\n",
            "# of traffic stops after preprocessing in year  2009 :  1092598\n",
            "Optimization terminated successfully.\n",
            "         Current function value: 0.035425\n",
            "         Iterations 13\n",
            "***********************************\n",
            "2010\n",
            "# of all traffic stops in year  2010 :  2525296\n",
            "Before speed filtering:  2452498\n",
            "Speeding only violation has records:  1085945\n",
            "# of traffic stops after preprocessing in year  2010 :  1084475\n",
            "Optimization terminated successfully.\n",
            "         Current function value: 0.037325\n",
            "         Iterations 9\n",
            "***********************************\n",
            "2011\n",
            "# of all traffic stops in year  2011 :  2588004\n",
            "Before speed filtering:  2511664\n",
            "Speeding only violation has records:  1085781\n",
            "# of traffic stops after preprocessing in year  2011 :  1084179\n",
            "Warning: Maximum number of iterations has been exceeded.\n",
            "         Current function value: 0.035425\n",
            "         Iterations: 35\n",
            "***********************************\n",
            "2012\n",
            "# of all traffic stops in year  2012 :  2435812\n",
            "Before speed filtering:  2368990\n",
            "Speeding only violation has records:  1025815\n",
            "# of traffic stops after preprocessing in year  2012 :  1023783\n",
            "Warning: Maximum number of iterations has been exceeded.\n",
            "         Current function value: 0.029792\n",
            "         Iterations: 35\n",
            "***********************************\n",
            "2013\n",
            "# of all traffic stops in year  2013 :  2134936\n",
            "Before speed filtering:  2076396\n",
            "Speeding only violation has records:  905817\n",
            "# of traffic stops after preprocessing in year  2013 :  903478\n",
            "Optimization terminated successfully.\n",
            "         Current function value: 0.025019\n",
            "         Iterations 31\n",
            "***********************************\n",
            "2014\n",
            "# of all traffic stops in year  2014 :  1878488\n",
            "Before speed filtering:  1820763\n",
            "Speeding only violation has records:  779279\n",
            "# of traffic stops after preprocessing in year  2014 :  777272\n",
            "Warning: Maximum number of iterations has been exceeded.\n",
            "         Current function value: 0.023993\n",
            "         Iterations: 35\n",
            "***********************************\n",
            "2015\n",
            "# of all traffic stops in year  2015 :  1745385\n",
            "Before speed filtering:  1683940\n",
            "Speeding only violation has records:  730702\n",
            "# of traffic stops after preprocessing in year  2015 :  728211\n",
            "Warning: Maximum number of iterations has been exceeded.\n",
            "         Current function value: 0.022606\n",
            "         Iterations: 35\n",
            "***********************************\n",
            "2016\n",
            "# of all traffic stops in year  2016 :  1832207\n",
            "Before speed filtering:  1832072\n",
            "Speeding only violation has records:  797329\n",
            "# of traffic stops after preprocessing in year  2016 :  796595\n",
            "Warning: Maximum number of iterations has been exceeded.\n",
            "         Current function value: 0.024310\n",
            "         Iterations: 35\n"
          ]
        },
        {
          "output_type": "display_data",
          "data": {
            "text/plain": [
              "<Figure size 432x288 with 1 Axes>"
            ],
            "image/png": "[encoded data removed]"
          },
          "metadata": {
            "needs_background": "light"
          }
        }
      ]
    }
  ]
}
