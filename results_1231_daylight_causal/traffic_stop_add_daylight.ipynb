{
  "nbformat": 4,
  "nbformat_minor": 0,
  "metadata": {
    "colab": {
      "name": "traffic_stop_add_daylight.ipynb",
      "provenance": [],
      "collapsed_sections": []
    },
    "kernelspec": {
      "name": "python3",
      "display_name": "Python 3"
    },
    "language_info": {
      "name": "python"
    }
  },
  "cells": [
    {
      "cell_type": "markdown",
      "source": [
        "##### This notebook adds Daylight info based on longitude, latitude/county info"
      ],
      "metadata": {
        "id": "AFtZMn8tRt9E"
      }
    },
    {
      "cell_type": "code",
      "metadata": {
        "colab": {
          "base_uri": "https://localhost:8080/"
        },
        "id": "6JhuEbDvDXZL",
        "outputId": "453f85d0-3350-4c41-ad88-518cfe4282c5"
      },
      "source": [
        "from google.colab import drive\n",
        "import os \n",
        "drive.mount('/gdrive/')"
      ],
      "execution_count": null,
      "outputs": [
        {
          "output_type": "stream",
          "name": "stdout",
          "text": [
            "Mounted at /gdrive/\n"
          ]
        }
      ]
    },
    {
      "cell_type": "code",
      "metadata": {
        "id": "VLNhmfo0D5P7"
      },
      "source": [
        "import pandas as pd\n",
        "import time\n",
        "import numpy as np\n",
        "import pandas as pd\n",
        "import datetime as dt\n",
        "import matplotlib.pyplot as plt\n",
        "#from PyAstronomy import pyasl\n",
        "#from sklearn.linear_model import LogisticRegressionCV, LogisticRegression\n",
        "#from sklearn.model_selection import train_test_split, GridSearchCV\n",
        "#from sklearn.preprocessing import OneHotEncoder, MinMaxScaler\n",
        "#import statsmodels.api as sm\n",
        "#from sklearn.metrics import classification_report, roc_curve, auc"
      ],
      "execution_count": null,
      "outputs": []
    },
    {
      "cell_type": "code",
      "metadata": {
        "colab": {
          "base_uri": "https://localhost:8080/"
        },
        "outputId": "a9c4aaaf-7f5f-4441-e0ee-3d52ae4d82cd",
        "id": "DrLqBecrwyok"
      },
      "source": [
        "df_16 = pd.read_parquet('/gdrive/MyDrive/traffic_stop/year_data/traffic_2016.parquet', engine = 'pyarrow')\n",
        "#df_16 = preprocess(df = df_16,keep_col = keep_col, rm_na_col = rm_na_col)\n",
        "df_16.isnull().sum()"
      ],
      "execution_count": null,
      "outputs": [
        {
          "output_type": "execute_result",
          "data": {
            "text/plain": [
              "raw_row_number                         0\n",
              "date                                   0\n",
              "time                                   0\n",
              "location                               0\n",
              "lat                               367929\n",
              "lng                               367662\n",
              "county_name                           99\n",
              "district                             185\n",
              "precinct                         1201190\n",
              "region                                 0\n",
              "subject_race                          93\n",
              "subject_sex                          113\n",
              "officer_id_hash                      185\n",
              "type                                   0\n",
              "violation                              0\n",
              "citation_issued                        0\n",
              "warning_issued                         0\n",
              "outcome                              194\n",
              "contraband_found                 1801618\n",
              "contraband_drugs                 1801618\n",
              "contraband_weapons               1801618\n",
              "search_conducted                       0\n",
              "search_vehicle                        18\n",
              "search_basis                     1801626\n",
              "vehicle_color                      26104\n",
              "vehicle_make                        7023\n",
              "vehicle_model                      71265\n",
              "vehicle_type                        3852\n",
              "vehicle_year                       24994\n",
              "raw_HA_RACE_SEX                      107\n",
              "raw_HA_SEARCH_PC_boolean               0\n",
              "raw_HA_SEARCH_CONCENT_boolean          0\n",
              "raw_HA_INCIDTO_ARREST_boolean          0\n",
              "raw_HA_VEHICLE_INVENT_boolean          0\n",
              "year                                   0\n",
              "dtype: int64"
            ]
          },
          "metadata": {},
          "execution_count": 4
        }
      ]
    },
    {
      "cell_type": "code",
      "source": [
        "print(len(df_16))\n",
        "print(367929/1832207)"
      ],
      "metadata": {
        "colab": {
          "base_uri": "https://localhost:8080/"
        },
        "id": "7vbdIQ_IS8Al",
        "outputId": "ec54f2a1-2068-4f6a-ec7a-98320d11a592"
      },
      "execution_count": null,
      "outputs": [
        {
          "output_type": "stream",
          "name": "stdout",
          "text": [
            "1832207\n",
            "0.2008119169940951\n"
          ]
        }
      ]
    },
    {
      "cell_type": "code",
      "source": [
        "print(len(df_16.loc[(df_16['lat'].notna())&(df_16['lng'].notna())]))"
      ],
      "metadata": {
        "colab": {
          "base_uri": "https://localhost:8080/"
        },
        "id": "GjZm8mPeITfI",
        "outputId": "44c1de73-3dc4-42d7-baa9-e576023f35ea"
      },
      "execution_count": null,
      "outputs": [
        {
          "output_type": "stream",
          "name": "stdout",
          "text": [
            "1464223\n"
          ]
        }
      ]
    },
    {
      "cell_type": "code",
      "source": [
        "cols = ['lat','lng']\n",
        "mask = df_16[cols].isna().any(axis=1)\n",
        "df_c = df_16[mask]\n",
        "df_c = df_c.loc[df_c['county_name'].notna(),:]\n",
        "len(df_c)"
      ],
      "metadata": {
        "colab": {
          "base_uri": "https://localhost:8080/"
        },
        "id": "2q91HWJ7IsKQ",
        "outputId": "4536c014-47f5-4193-c003-8c08124c53e0"
      },
      "execution_count": null,
      "outputs": [
        {
          "output_type": "execute_result",
          "data": {
            "text/plain": [
              "367887"
            ]
          },
          "metadata": {},
          "execution_count": 140
        }
      ]
    },
    {
      "cell_type": "code",
      "source": [
        "1464223 + 367887"
      ],
      "metadata": {
        "colab": {
          "base_uri": "https://localhost:8080/"
        },
        "id": "aZ2AjKVlIx_5",
        "outputId": "bcb2592f-e583-458d-8da2-972d900b2619"
      },
      "execution_count": null,
      "outputs": [
        {
          "output_type": "execute_result",
          "data": {
            "text/plain": [
              "1832110"
            ]
          },
          "metadata": {},
          "execution_count": 141
        }
      ]
    },
    {
      "cell_type": "code",
      "source": [
        "1832207 - 1832110"
      ],
      "metadata": {
        "colab": {
          "base_uri": "https://localhost:8080/"
        },
        "id": "ZrPUyyq7I2pG",
        "outputId": "3783ddb8-d113-4b39-e96c-0acaa60c6627"
      },
      "execution_count": null,
      "outputs": [
        {
          "output_type": "execute_result",
          "data": {
            "text/plain": [
              "97"
            ]
          },
          "metadata": {},
          "execution_count": 142
        }
      ]
    },
    {
      "cell_type": "code",
      "source": [
        "df_16.loc[(df_16['county_name'].isna() & (df_16[['lat','lng']].notna().all(axis = 1))),:]"
      ],
      "metadata": {
        "colab": {
          "base_uri": "https://localhost:8080/",
          "height": 228
        },
        "id": "7_GsX9dcI9Hg",
        "outputId": "02565979-af74-426f-e30c-b7af9caa797c"
      },
      "execution_count": null,
      "outputs": [
        {
          "output_type": "execute_result",
          "data": {
            "text/html": [
              "\n",
              "  <div id=\"df-e049046c-7249-476c-8109-00294e1d974b\">\n",
              "    <div class=\"colab-df-container\">\n",
              "      <div>\n",
              "<style scoped>\n",
              "    .dataframe tbody tr th:only-of-type {\n",
              "        vertical-align: middle;\n",
              "    }\n",
              "\n",
              "    .dataframe tbody tr th {\n",
              "        vertical-align: top;\n",
              "    }\n",
              "\n",
              "    .dataframe thead th {\n",
              "        text-align: right;\n",
              "    }\n",
              "</style>\n",
              "<table border=\"1\" class=\"dataframe\">\n",
              "  <thead>\n",
              "    <tr style=\"text-align: right;\">\n",
              "      <th></th>\n",
              "      <th>raw_row_number</th>\n",
              "      <th>date</th>\n",
              "      <th>time</th>\n",
              "      <th>location</th>\n",
              "      <th>lat</th>\n",
              "      <th>lng</th>\n",
              "      <th>county_name</th>\n",
              "      <th>district</th>\n",
              "      <th>precinct</th>\n",
              "      <th>region</th>\n",
              "      <th>subject_race</th>\n",
              "      <th>subject_sex</th>\n",
              "      <th>officer_id_hash</th>\n",
              "      <th>type</th>\n",
              "      <th>violation</th>\n",
              "      <th>citation_issued</th>\n",
              "      <th>warning_issued</th>\n",
              "      <th>outcome</th>\n",
              "      <th>contraband_found</th>\n",
              "      <th>contraband_drugs</th>\n",
              "      <th>contraband_weapons</th>\n",
              "      <th>search_conducted</th>\n",
              "      <th>search_vehicle</th>\n",
              "      <th>search_basis</th>\n",
              "      <th>vehicle_color</th>\n",
              "      <th>vehicle_make</th>\n",
              "      <th>vehicle_model</th>\n",
              "      <th>vehicle_type</th>\n",
              "      <th>vehicle_year</th>\n",
              "      <th>raw_HA_RACE_SEX</th>\n",
              "      <th>raw_HA_SEARCH_PC_boolean</th>\n",
              "      <th>raw_HA_SEARCH_CONCENT_boolean</th>\n",
              "      <th>raw_HA_INCIDTO_ARREST_boolean</th>\n",
              "      <th>raw_HA_VEHICLE_INVENT_boolean</th>\n",
              "      <th>year</th>\n",
              "    </tr>\n",
              "  </thead>\n",
              "  <tbody>\n",
              "    <tr>\n",
              "      <th>24265530</th>\n",
              "      <td>24673775</td>\n",
              "      <td>2016-06-20</td>\n",
              "      <td>12:25:00</td>\n",
              "      <td>milepost: 0</td>\n",
              "      <td>33.218662</td>\n",
              "      <td>-97.58735</td>\n",
              "      <td>None</td>\n",
              "      <td>None</td>\n",
              "      <td>None</td>\n",
              "      <td>0</td>\n",
              "      <td>NaN</td>\n",
              "      <td>NaN</td>\n",
              "      <td>None</td>\n",
              "      <td>vehicular</td>\n",
              "      <td></td>\n",
              "      <td>False</td>\n",
              "      <td>False</td>\n",
              "      <td>NaN</td>\n",
              "      <td>None</td>\n",
              "      <td>None</td>\n",
              "      <td>None</td>\n",
              "      <td>False</td>\n",
              "      <td>False</td>\n",
              "      <td>NaN</td>\n",
              "      <td>RED</td>\n",
              "      <td>FORD</td>\n",
              "      <td>F15</td>\n",
              "      <td>None</td>\n",
              "      <td>2013.0</td>\n",
              "      <td>None</td>\n",
              "      <td>False</td>\n",
              "      <td>False</td>\n",
              "      <td>False</td>\n",
              "      <td>False</td>\n",
              "      <td>2016</td>\n",
              "    </tr>\n",
              "    <tr>\n",
              "      <th>25077298</th>\n",
              "      <td>25494990</td>\n",
              "      <td>2016-11-27</td>\n",
              "      <td>18:38:00</td>\n",
              "      <td>milepost: 0</td>\n",
              "      <td>26.244108</td>\n",
              "      <td>-98.44752</td>\n",
              "      <td>None</td>\n",
              "      <td>A</td>\n",
              "      <td>None</td>\n",
              "      <td>2</td>\n",
              "      <td>white</td>\n",
              "      <td>female</td>\n",
              "      <td>ee31ecedb9</td>\n",
              "      <td>vehicular</td>\n",
              "      <td>No/Improper License Plate Lamp</td>\n",
              "      <td>False</td>\n",
              "      <td>True</td>\n",
              "      <td>warning</td>\n",
              "      <td>None</td>\n",
              "      <td>None</td>\n",
              "      <td>None</td>\n",
              "      <td>False</td>\n",
              "      <td>False</td>\n",
              "      <td>NaN</td>\n",
              "      <td>RED</td>\n",
              "      <td>FORD</td>\n",
              "      <td>FRE</td>\n",
              "      <td>PV</td>\n",
              "      <td>2005.0</td>\n",
              "      <td>WF</td>\n",
              "      <td>False</td>\n",
              "      <td>False</td>\n",
              "      <td>False</td>\n",
              "      <td>False</td>\n",
              "      <td>2016</td>\n",
              "    </tr>\n",
              "  </tbody>\n",
              "</table>\n",
              "</div>\n",
              "      <button class=\"colab-df-convert\" onclick=\"convertToInteractive('df-e049046c-7249-476c-8109-00294e1d974b')\"\n",
              "              title=\"Convert this dataframe to an interactive table.\"\n",
              "              style=\"display:none;\">\n",
              "        \n",
              "  <svg xmlns=\"http://www.w3.org/2000/svg\" height=\"24px\"viewBox=\"0 0 24 24\"\n",
              "       width=\"24px\">\n",
              "    <path d=\"M0 0h24v24H0V0z\" fill=\"none\"/>\n",
              "    <path d=\"M18.56 5.44l.94 2.06.94-2.06 2.06-.94-2.06-.94-.94-2.06-.94 2.06-2.06.94zm-11 1L8.5 8.5l.94-2.06 2.06-.94-2.06-.94L8.5 2.5l-.94 2.06-2.06.94zm10 10l.94 2.06.94-2.06 2.06-.94-2.06-.94-.94-2.06-.94 2.06-2.06.94z\"/><path d=\"M17.41 7.96l-1.37-1.37c-.4-.4-.92-.59-1.43-.59-.52 0-1.04.2-1.43.59L10.3 9.45l-7.72 7.72c-.78.78-.78 2.05 0 2.83L4 21.41c.39.39.9.59 1.41.59.51 0 1.02-.2 1.41-.59l7.78-7.78 2.81-2.81c.8-.78.8-2.07 0-2.86zM5.41 20L4 18.59l7.72-7.72 1.47 1.35L5.41 20z\"/>\n",
              "  </svg>\n",
              "      </button>\n",
              "      \n",
              "  <style>\n",
              "    .colab-df-container {\n",
              "      display:flex;\n",
              "      flex-wrap:wrap;\n",
              "      gap: 12px;\n",
              "    }\n",
              "\n",
              "    .colab-df-convert {\n",
              "      background-color: #E8F0FE;\n",
              "      border: none;\n",
              "      border-radius: 50%;\n",
              "      cursor: pointer;\n",
              "      display: none;\n",
              "      fill: #1967D2;\n",
              "      height: 32px;\n",
              "      padding: 0 0 0 0;\n",
              "      width: 32px;\n",
              "    }\n",
              "\n",
              "    .colab-df-convert:hover {\n",
              "      background-color: #E2EBFA;\n",
              "      box-shadow: 0px 1px 2px rgba(60, 64, 67, 0.3), 0px 1px 3px 1px rgba(60, 64, 67, 0.15);\n",
              "      fill: #174EA6;\n",
              "    }\n",
              "\n",
              "    [theme=dark] .colab-df-convert {\n",
              "      background-color: #3B4455;\n",
              "      fill: #D2E3FC;\n",
              "    }\n",
              "\n",
              "    [theme=dark] .colab-df-convert:hover {\n",
              "      background-color: #434B5C;\n",
              "      box-shadow: 0px 1px 3px 1px rgba(0, 0, 0, 0.15);\n",
              "      filter: drop-shadow(0px 1px 2px rgba(0, 0, 0, 0.3));\n",
              "      fill: #FFFFFF;\n",
              "    }\n",
              "  </style>\n",
              "\n",
              "      <script>\n",
              "        const buttonEl =\n",
              "          document.querySelector('#df-e049046c-7249-476c-8109-00294e1d974b button.colab-df-convert');\n",
              "        buttonEl.style.display =\n",
              "          google.colab.kernel.accessAllowed ? 'block' : 'none';\n",
              "\n",
              "        async function convertToInteractive(key) {\n",
              "          const element = document.querySelector('#df-e049046c-7249-476c-8109-00294e1d974b');\n",
              "          const dataTable =\n",
              "            await google.colab.kernel.invokeFunction('convertToInteractive',\n",
              "                                                     [key], {});\n",
              "          if (!dataTable) return;\n",
              "\n",
              "          const docLinkHtml = 'Like what you see? Visit the ' +\n",
              "            '<a target=\"_blank\" href=https://colab.research.google.com/notebooks/data_table.ipynb>data table notebook</a>'\n",
              "            + ' to learn more about interactive tables.';\n",
              "          element.innerHTML = '';\n",
              "          dataTable['output_type'] = 'display_data';\n",
              "          await google.colab.output.renderOutput(dataTable, element);\n",
              "          const docLink = document.createElement('div');\n",
              "          docLink.innerHTML = docLinkHtml;\n",
              "          element.appendChild(docLink);\n",
              "        }\n",
              "      </script>\n",
              "    </div>\n",
              "  </div>\n",
              "  "
            ],
            "text/plain": [
              "         raw_row_number        date  ... raw_HA_VEHICLE_INVENT_boolean  year\n",
              "24265530       24673775  2016-06-20  ...                         False  2016\n",
              "25077298       25494990  2016-11-27  ...                         False  2016\n",
              "\n",
              "[2 rows x 35 columns]"
            ]
          },
          "metadata": {},
          "execution_count": 143
        }
      ]
    },
    {
      "cell_type": "code",
      "source": [
        "print(len(df_16.loc[(df_16['lat'].notna())&(df_16['lng'].notna())]))"
      ],
      "metadata": {
        "id": "FLN27ZJSIhEf"
      },
      "execution_count": null,
      "outputs": []
    },
    {
      "cell_type": "markdown",
      "source": [
        "We have missing values in longitude and latitude. For instance, in 2016's data, for 1832207 records, we have 367929 missing for latitude and 367662 missing for longitude. So, for 2016 data, there is arounf 20% missing. However, a large proportion of those missing can be substituted by county_name, but this info is less specific.\n",
        "\n",
        "\n",
        "Those without both lon/lat and county info are deleted and not included in the analysis."
      ],
      "metadata": {
        "id": "ZbW3x4WlS17o"
      }
    },
    {
      "cell_type": "markdown",
      "source": [
        "### Install relevant library and add daylight info as a new column"
      ],
      "metadata": {
        "id": "-PN5ct_CUAc0"
      }
    },
    {
      "cell_type": "markdown",
      "source": [
        "#### Add daytime column and write to new parquet files\n",
        "1) Use longitude & latitude\n",
        "\n",
        "2) if do not have longitude & latitude, use county's corresponding longitude & latitude"
      ],
      "metadata": {
        "id": "-RMjPbSMURdN"
      }
    },
    {
      "cell_type": "markdown",
      "source": [
        "https://astral.readthedocs.io/en/stable/index.html"
      ],
      "metadata": {
        "id": "zGMQYxc_YQrh"
      }
    },
    {
      "cell_type": "markdown",
      "source": [
        "Use suntime and geopy module"
      ],
      "metadata": {
        "id": "haih3zD8YUF9"
      }
    },
    {
      "cell_type": "code",
      "source": [
        "! pip install suntime"
      ],
      "metadata": {
        "colab": {
          "base_uri": "https://localhost:8080/"
        },
        "id": "qbDC7M6vYZ8R",
        "outputId": "0db758f2-72dc-4b3e-cafc-73ef8c55843f"
      },
      "execution_count": null,
      "outputs": [
        {
          "output_type": "stream",
          "name": "stdout",
          "text": [
            "Collecting suntime\n",
            "  Downloading suntime-1.2.5-py3-none-any.whl (7.2 kB)\n",
            "Requirement already satisfied: python-dateutil in /usr/local/lib/python3.7/dist-packages (from suntime) (2.8.2)\n",
            "Requirement already satisfied: six>=1.5 in /usr/local/lib/python3.7/dist-packages (from python-dateutil->suntime) (1.15.0)\n",
            "Installing collected packages: suntime\n",
            "Successfully installed suntime-1.2.5\n"
          ]
        }
      ]
    },
    {
      "cell_type": "code",
      "source": [
        "import datetime\n",
        "from suntime import Sun\n",
        "import pytz"
      ],
      "metadata": {
        "id": "C8ttbIdijvTJ"
      },
      "execution_count": null,
      "outputs": []
    },
    {
      "cell_type": "code",
      "source": [
        "def sunrise_sunset(row,rise_set):\n",
        "  \"\"\"\n",
        "  lat and lnt: latitude and longitude, float\n",
        "  dat: datetime.date object\n",
        "  rise_set: if 'sunrise': return sunrise time, if 'sunset': return sunset time\n",
        "  return: return the sunrise/sunset time\n",
        "  \"\"\"\n",
        "  #sunrise_sunset(lat,lng,dat,rise_set)\n",
        "  lat = row['lat']\n",
        "  lng = row['lng']\n",
        "  dat = row['date']\n",
        "  sun = Sun(lat, lng)\n",
        "  # timezone for texas\n",
        "  tz = pytz.timezone('US/Central')\n",
        "  # Get one day's sunrise and sunset in UTC\n",
        "  if rise_set == 'sunset':\n",
        "    sunset_utc = sun.get_local_sunset_time(dat)\n",
        "    sunset_cst = sunset_utc.astimezone(tz)\n",
        "    sunset_cst = sunset_cst.strftime('%H:%M:%S')\n",
        "    return sunset_cst\n",
        "\n",
        "  if rise_set == 'sunrise':\n",
        "    sunrise_utc = sun.get_local_sunrise_time(dat)\n",
        "    sunrise_cst = sunrise_utc.astimezone(tz)\n",
        "    sunrise_cst = sunrise_cst.strftime('%H:%M:%S')\n",
        "    return sunrise_cst"
      ],
      "metadata": {
        "id": "Y-6ttVx2eRaH"
      },
      "execution_count": null,
      "outputs": []
    },
    {
      "cell_type": "code",
      "source": [
        "def add_daylight(df,county_info):\n",
        "  \"\"\"\n",
        "  INPUT:\n",
        "  df: traffic stop dataframe\n",
        "  county_info: county->lat/lng dataframe\n",
        "  OUTPUT: \n",
        "  dataframe with a new column of daytime: 1 if daytime 0 if \n",
        "  NOTE:\n",
        "  if a row(records) does not have either county info or latitude/longitude info, it will be deleted\n",
        "  \"\"\"\n",
        "  # read in county_info\n",
        "  county_info = pd.read_csv('/gdrive/MyDrive/traffic_stop/table_county.csv')\n",
        "  \n",
        "  # preprocessing county_info dataframe\n",
        "  # minus sign, delete celsius sign\n",
        "  county_info['Longitude'] = county_info['Longitude'].map(lambda x: '-' + x[1:])\n",
        "  for col in ['Latitude','Longitude']:\n",
        "    county_info[col] = county_info[col].map(lambda x: x[:-1])\n",
        "    county_info[col] = county_info[col].astype('float')\n",
        "\n",
        "  # we are focusing on Texas\n",
        "  county_info = county_info.loc[county_info['State'] == 'TX',:]\n",
        "\n",
        "  # 1) select rows with missing values in latitude/longitude, but having county info -> needs processing\n",
        "  cols = ['lat','lng']\n",
        "  mask = df[cols].isna().any(axis=1)\n",
        "  df_c = df[mask]\n",
        "  df_c = df_c.loc[df_c['county_name'].notna(),:]\n",
        "\n",
        "  # 2) select rows with latitude & longitude values\n",
        "  df_complete = df.loc[(df['lat'].notna())&(df['lng'].notna())]\n",
        "\n",
        "  # make a 'new_county' column to correspond to the identifiers in the county_info csv\n",
        "  df_c['new_county'] = df_c['county_name'].map(lambda x: x.replace(' County', ''))\n",
        "  df_c['new_county'] = df_c['new_county'].replace('Dewitt','DeWitt')\n",
        "\n",
        "  # rename county info's column\n",
        "  county_info = county_info[['State','County [2]','Latitude','Longitude']]\n",
        "  county_info.rename(columns={\"County [2]\": \"county\"}, inplace = True)\n",
        "\n",
        "  # fill in missing latitude and longitude with county info\n",
        "  df_merged = df_c.merge(county_info, how = 'inner', left_on = 'new_county', right_on = 'county')\n",
        "  df_merged['lat'].fillna(df_merged['Latitude'], inplace = True)\n",
        "  df_merged['lng'].fillna(df_merged['Longitude'], inplace = True)\n",
        "\n",
        "  # merged the two dfs: 2) originally with lat/lng and 1) without but filled based on county info\n",
        "  df_merged.drop(['new_county','State','county','Latitude','Longitude'], axis = 1, inplace = True)\n",
        "  df = pd.concat([df_complete,df_merged], ignore_index=True)\n",
        "  \n",
        "  #for col in ['lat','lng']:\n",
        "    #df[col].astype('float')\n",
        "\n",
        "  # add 'daytime' column: 1 means during daylight, 0 means darkness\n",
        "  df['sunset'] = df.apply(lambda row: sunrise_sunset(row,'sunset'),axis=1)\n",
        "  df['sunrise'] = df.apply(lambda row: sunrise_sunset(row,'sunrise'),axis = 1)\n",
        "  df['time_str'] = df['time'].astype(str)\n",
        "  df['daytime'] = df.apply(lambda row: 1 if (row['sunrise'] < row['time_str']) & (row['sunset'] > row['time_str']) else 0,axis = 1)\n",
        "\n",
        "  return df\n"
      ],
      "metadata": {
        "id": "o7Q-tlPZmzqF"
      },
      "execution_count": null,
      "outputs": []
    },
    {
      "cell_type": "code",
      "source": [
        "# can skip this cell\n",
        "county_info = pd.read_csv('/gdrive/MyDrive/traffic_stop/table_county.csv')\n",
        "county_info.head()"
      ],
      "metadata": {
        "colab": {
          "base_uri": "https://localhost:8080/",
          "height": 392
        },
        "outputId": "7b470e99-0594-42cd-f6de-3d7509767cbf",
        "id": "uYmRNae4DxlZ"
      },
      "execution_count": null,
      "outputs": [
        {
          "output_type": "execute_result",
          "data": {
            "text/html": [
              "\n",
              "  <div id=\"df-53edc46c-d89a-4995-9a52-bf1753bfb726\">\n",
              "    <div class=\"colab-df-container\">\n",
              "      <div>\n",
              "<style scoped>\n",
              "    .dataframe tbody tr th:only-of-type {\n",
              "        vertical-align: middle;\n",
              "    }\n",
              "\n",
              "    .dataframe tbody tr th {\n",
              "        vertical-align: top;\n",
              "    }\n",
              "\n",
              "    .dataframe thead th {\n",
              "        text-align: right;\n",
              "    }\n",
              "</style>\n",
              "<table border=\"1\" class=\"dataframe\">\n",
              "  <thead>\n",
              "    <tr style=\"text-align: right;\">\n",
              "      <th></th>\n",
              "      <th>Sort [1]</th>\n",
              "      <th>State</th>\n",
              "      <th>FIPS</th>\n",
              "      <th>County [2]</th>\n",
              "      <th>County Seat(s) [3]</th>\n",
              "      <th>Population(2010)</th>\n",
              "      <th>Land Areakm²</th>\n",
              "      <th>Land Areami²</th>\n",
              "      <th>Water Areakm²</th>\n",
              "      <th>Water Areami²</th>\n",
              "      <th>Total Areakm²</th>\n",
              "      <th>Total Areami²</th>\n",
              "      <th>Latitude</th>\n",
              "      <th>Longitude</th>\n",
              "    </tr>\n",
              "  </thead>\n",
              "  <tbody>\n",
              "    <tr>\n",
              "      <th>0</th>\n",
              "      <td>1</td>\n",
              "      <td>AL</td>\n",
              "      <td>1001</td>\n",
              "      <td>Autauga</td>\n",
              "      <td>Prattville</td>\n",
              "      <td>54,571</td>\n",
              "      <td>1,539.582</td>\n",
              "      <td>594.436</td>\n",
              "      <td>25.776</td>\n",
              "      <td>9.952</td>\n",
              "      <td>1,565.358</td>\n",
              "      <td>604.388</td>\n",
              "      <td>+32.536382°</td>\n",
              "      <td>–86.644490°</td>\n",
              "    </tr>\n",
              "    <tr>\n",
              "      <th>1</th>\n",
              "      <td>2</td>\n",
              "      <td>AL</td>\n",
              "      <td>1003</td>\n",
              "      <td>Baldwin</td>\n",
              "      <td>Bay Minette</td>\n",
              "      <td>182,265</td>\n",
              "      <td>4,117.522</td>\n",
              "      <td>1,589.784</td>\n",
              "      <td>1,133.190</td>\n",
              "      <td>437.527</td>\n",
              "      <td>5,250.712</td>\n",
              "      <td>2,027.311</td>\n",
              "      <td>+30.659218°</td>\n",
              "      <td>–87.746067°</td>\n",
              "    </tr>\n",
              "    <tr>\n",
              "      <th>2</th>\n",
              "      <td>3</td>\n",
              "      <td>AL</td>\n",
              "      <td>1005</td>\n",
              "      <td>Barbour</td>\n",
              "      <td>Clayton</td>\n",
              "      <td>27,457</td>\n",
              "      <td>2,291.819</td>\n",
              "      <td>884.876</td>\n",
              "      <td>50.865</td>\n",
              "      <td>19.639</td>\n",
              "      <td>2,342.684</td>\n",
              "      <td>904.515</td>\n",
              "      <td>+31.870670°</td>\n",
              "      <td>–85.405456°</td>\n",
              "    </tr>\n",
              "    <tr>\n",
              "      <th>3</th>\n",
              "      <td>4</td>\n",
              "      <td>AL</td>\n",
              "      <td>1007</td>\n",
              "      <td>Bibb</td>\n",
              "      <td>Centreville</td>\n",
              "      <td>22,915</td>\n",
              "      <td>1,612.481</td>\n",
              "      <td>622.582</td>\n",
              "      <td>9.289</td>\n",
              "      <td>3.587</td>\n",
              "      <td>1,621.770</td>\n",
              "      <td>626.169</td>\n",
              "      <td>+33.015893°</td>\n",
              "      <td>–87.127148°</td>\n",
              "    </tr>\n",
              "    <tr>\n",
              "      <th>4</th>\n",
              "      <td>5</td>\n",
              "      <td>AL</td>\n",
              "      <td>1009</td>\n",
              "      <td>Blount</td>\n",
              "      <td>Oneonta</td>\n",
              "      <td>57,322</td>\n",
              "      <td>1,669.962</td>\n",
              "      <td>644.776</td>\n",
              "      <td>15.157</td>\n",
              "      <td>5.852</td>\n",
              "      <td>1,685.119</td>\n",
              "      <td>650.628</td>\n",
              "      <td>+33.977448°</td>\n",
              "      <td>–86.567246°</td>\n",
              "    </tr>\n",
              "  </tbody>\n",
              "</table>\n",
              "</div>\n",
              "      <button class=\"colab-df-convert\" onclick=\"convertToInteractive('df-53edc46c-d89a-4995-9a52-bf1753bfb726')\"\n",
              "              title=\"Convert this dataframe to an interactive table.\"\n",
              "              style=\"display:none;\">\n",
              "        \n",
              "  <svg xmlns=\"http://www.w3.org/2000/svg\" height=\"24px\"viewBox=\"0 0 24 24\"\n",
              "       width=\"24px\">\n",
              "    <path d=\"M0 0h24v24H0V0z\" fill=\"none\"/>\n",
              "    <path d=\"M18.56 5.44l.94 2.06.94-2.06 2.06-.94-2.06-.94-.94-2.06-.94 2.06-2.06.94zm-11 1L8.5 8.5l.94-2.06 2.06-.94-2.06-.94L8.5 2.5l-.94 2.06-2.06.94zm10 10l.94 2.06.94-2.06 2.06-.94-2.06-.94-.94-2.06-.94 2.06-2.06.94z\"/><path d=\"M17.41 7.96l-1.37-1.37c-.4-.4-.92-.59-1.43-.59-.52 0-1.04.2-1.43.59L10.3 9.45l-7.72 7.72c-.78.78-.78 2.05 0 2.83L4 21.41c.39.39.9.59 1.41.59.51 0 1.02-.2 1.41-.59l7.78-7.78 2.81-2.81c.8-.78.8-2.07 0-2.86zM5.41 20L4 18.59l7.72-7.72 1.47 1.35L5.41 20z\"/>\n",
              "  </svg>\n",
              "      </button>\n",
              "      \n",
              "  <style>\n",
              "    .colab-df-container {\n",
              "      display:flex;\n",
              "      flex-wrap:wrap;\n",
              "      gap: 12px;\n",
              "    }\n",
              "\n",
              "    .colab-df-convert {\n",
              "      background-color: #E8F0FE;\n",
              "      border: none;\n",
              "      border-radius: 50%;\n",
              "      cursor: pointer;\n",
              "      display: none;\n",
              "      fill: #1967D2;\n",
              "      height: 32px;\n",
              "      padding: 0 0 0 0;\n",
              "      width: 32px;\n",
              "    }\n",
              "\n",
              "    .colab-df-convert:hover {\n",
              "      background-color: #E2EBFA;\n",
              "      box-shadow: 0px 1px 2px rgba(60, 64, 67, 0.3), 0px 1px 3px 1px rgba(60, 64, 67, 0.15);\n",
              "      fill: #174EA6;\n",
              "    }\n",
              "\n",
              "    [theme=dark] .colab-df-convert {\n",
              "      background-color: #3B4455;\n",
              "      fill: #D2E3FC;\n",
              "    }\n",
              "\n",
              "    [theme=dark] .colab-df-convert:hover {\n",
              "      background-color: #434B5C;\n",
              "      box-shadow: 0px 1px 3px 1px rgba(0, 0, 0, 0.15);\n",
              "      filter: drop-shadow(0px 1px 2px rgba(0, 0, 0, 0.3));\n",
              "      fill: #FFFFFF;\n",
              "    }\n",
              "  </style>\n",
              "\n",
              "      <script>\n",
              "        const buttonEl =\n",
              "          document.querySelector('#df-53edc46c-d89a-4995-9a52-bf1753bfb726 button.colab-df-convert');\n",
              "        buttonEl.style.display =\n",
              "          google.colab.kernel.accessAllowed ? 'block' : 'none';\n",
              "\n",
              "        async function convertToInteractive(key) {\n",
              "          const element = document.querySelector('#df-53edc46c-d89a-4995-9a52-bf1753bfb726');\n",
              "          const dataTable =\n",
              "            await google.colab.kernel.invokeFunction('convertToInteractive',\n",
              "                                                     [key], {});\n",
              "          if (!dataTable) return;\n",
              "\n",
              "          const docLinkHtml = 'Like what you see? Visit the ' +\n",
              "            '<a target=\"_blank\" href=https://colab.research.google.com/notebooks/data_table.ipynb>data table notebook</a>'\n",
              "            + ' to learn more about interactive tables.';\n",
              "          element.innerHTML = '';\n",
              "          dataTable['output_type'] = 'display_data';\n",
              "          await google.colab.output.renderOutput(dataTable, element);\n",
              "          const docLink = document.createElement('div');\n",
              "          docLink.innerHTML = docLinkHtml;\n",
              "          element.appendChild(docLink);\n",
              "        }\n",
              "      </script>\n",
              "    </div>\n",
              "  </div>\n",
              "  "
            ],
            "text/plain": [
              "   Sort [1] State  FIPS  ... Total Areami²     Latitude    Longitude\n",
              "0         1    AL  1001  ...       604.388  +32.536382°  –86.644490°\n",
              "1         2    AL  1003  ...     2,027.311  +30.659218°  –87.746067°\n",
              "2         3    AL  1005  ...       904.515  +31.870670°  –85.405456°\n",
              "3         4    AL  1007  ...       626.169  +33.015893°  –87.127148°\n",
              "4         5    AL  1009  ...       650.628  +33.977448°  –86.567246°\n",
              "\n",
              "[5 rows x 14 columns]"
            ]
          },
          "metadata": {},
          "execution_count": 23
        }
      ]
    },
    {
      "cell_type": "code",
      "source": [
        "# read in county_info table\n",
        "county_info = pd.read_csv('/gdrive/MyDrive/traffic_stop/table_county.csv')\n",
        "\n",
        "years = []\n",
        "for i in range(2006, 2018):\n",
        "  years.append(i)\n",
        "\n",
        "for year in years:\n",
        "  file_name = 'traffic_' + str(year)\n",
        "  path_name = '/gdrive/MyDrive/traffic_stop/year_data/' + file_name + '.parquet'\n",
        "  df_temp = pd.read_parquet(path_name, engine = 'pyarrow')\n",
        "  if year == 2013:\n",
        "    df_temp.drop(df_temp.index[df_temp['lat'] == 74.052879], inplace=True)\n",
        "  df_processed = add_daylight(df_temp,county_info)\n",
        "  path = '/gdrive/MyDrive/traffic_stop/year_data_daylight/' + file_name + '.parquet'\n",
        "  df_processed.to_parquet(path, engine='pyarrow')"
      ],
      "metadata": {
        "id": "8AjeGZu8Lx9l"
      },
      "execution_count": null,
      "outputs": []
    },
    {
      "cell_type": "code",
      "source": [
        "# for traffic 2013, there is one outlier for lat/lng, needs to delete the row, can skip this cell\n",
        "path_name = '/gdrive/MyDrive/traffic_stop/year_data/' + 'traffic_2013' + '.parquet'\n",
        "df_temp = pd.read_parquet(path_name, engine = 'pyarrow')\n",
        "df_temp.drop(df_temp.index[df_temp['lat'] == 74.052879], inplace=True)\n",
        "df_processed = add_daylight(df_temp,county_info)\n",
        "path = '/gdrive/MyDrive/traffic_stop/year_data_daylight/' + 'traffic_2013' + '.parquet'\n",
        "df_processed.to_parquet(path, engine='pyarrow')"
      ],
      "metadata": {
        "id": "Z3k325RST3VE"
      },
      "execution_count": null,
      "outputs": []
    }
  ]
}